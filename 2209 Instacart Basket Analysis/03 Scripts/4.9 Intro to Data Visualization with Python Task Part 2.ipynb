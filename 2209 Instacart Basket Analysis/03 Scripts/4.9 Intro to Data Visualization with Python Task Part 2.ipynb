{
 "cells": [
  {
   "cell_type": "markdown",
   "id": "e532cc6e",
   "metadata": {},
   "source": [
    "# 4.9 Intro to Data Visualization with Python Task Part 2"
   ]
  },
  {
   "cell_type": "markdown",
   "id": "920939c6",
   "metadata": {},
   "source": [
    "# Contents"
   ]
  },
  {
   "cell_type": "markdown",
   "id": "347c52c2",
   "metadata": {},
   "source": [
    "### 1. Importing Libaries and Data"
   ]
  },
  {
   "cell_type": "markdown",
   "id": "4d3a1c39",
   "metadata": {},
   "source": [
    "### 2. Shwoing complete columns"
   ]
  },
  {
   "cell_type": "markdown",
   "id": "8831f2c1",
   "metadata": {},
   "source": [
    "### 3. Histogram"
   ]
  },
  {
   "cell_type": "markdown",
   "id": "1c582631",
   "metadata": {},
   "source": [
    "### 4. Bar Chart"
   ]
  },
  {
   "cell_type": "markdown",
   "id": "0c41a1e6",
   "metadata": {},
   "source": [
    "### 5. Line Chart"
   ]
  },
  {
   "cell_type": "markdown",
   "id": "60b517ca",
   "metadata": {},
   "source": [
    "### 6. Line Chart Exploring Connections"
   ]
  },
  {
   "cell_type": "markdown",
   "id": "ae052bda",
   "metadata": {},
   "source": [
    "### 7. Scatterplot"
   ]
  },
  {
   "cell_type": "markdown",
   "id": "ef1a8c4c",
   "metadata": {},
   "source": [
    "# Script"
   ]
  },
  {
   "cell_type": "markdown",
   "id": "38ba5f17",
   "metadata": {},
   "source": [
    "### 1. Importing Libaries and Data"
   ]
  },
  {
   "cell_type": "code",
   "execution_count": 1,
   "id": "a087992e",
   "metadata": {},
   "outputs": [],
   "source": [
    "#import libaries \n",
    "\n",
    "import pandas as pd\n",
    "import numpy as np\n",
    "import os\n",
    "import matplotlib.pyplot as plt\n",
    "import seaborn as sns\n",
    "import scipy"
   ]
  },
  {
   "cell_type": "code",
   "execution_count": 2,
   "id": "d608dca5",
   "metadata": {},
   "outputs": [],
   "source": [
    "# defining path\n",
    "path = r'C:\\Users\\tinar\\OneDrive\\Dokumente\\00 DATA ANALYST Carrer Foundry\\04 Immersion Course\\4. Python Fundamentals for Data Analysts\\2209 Instacart Basket Analysis'"
   ]
  },
  {
   "cell_type": "code",
   "execution_count": 3,
   "id": "46e8841c",
   "metadata": {},
   "outputs": [],
   "source": [
    "# import of orders_products_merged\n",
    "ords_prods_custo = pd.read_pickle(os.path.join(path, '02 Data', '02 Prepared Data', 'instacart_data_complete.pkl'))"
   ]
  },
  {
   "cell_type": "code",
   "execution_count": 5,
   "id": "13f87236",
   "metadata": {},
   "outputs": [
    {
     "data": {
      "text/html": [
       "<div>\n",
       "<style scoped>\n",
       "    .dataframe tbody tr th:only-of-type {\n",
       "        vertical-align: middle;\n",
       "    }\n",
       "\n",
       "    .dataframe tbody tr th {\n",
       "        vertical-align: top;\n",
       "    }\n",
       "\n",
       "    .dataframe thead th {\n",
       "        text-align: right;\n",
       "    }\n",
       "</style>\n",
       "<table border=\"1\" class=\"dataframe\">\n",
       "  <thead>\n",
       "    <tr style=\"text-align: right;\">\n",
       "      <th></th>\n",
       "      <th>order_id</th>\n",
       "      <th>user_id</th>\n",
       "      <th>order_number</th>\n",
       "      <th>orders_day_of_week</th>\n",
       "      <th>order_hour_of_day</th>\n",
       "      <th>days_since_prior_order</th>\n",
       "      <th>product_id</th>\n",
       "      <th>add_to_cart_order</th>\n",
       "      <th>reordered</th>\n",
       "      <th>product_name</th>\n",
       "      <th>...</th>\n",
       "      <th>frequency_flag</th>\n",
       "      <th>first_name</th>\n",
       "      <th>last_name</th>\n",
       "      <th>gender</th>\n",
       "      <th>state</th>\n",
       "      <th>age</th>\n",
       "      <th>date_joined</th>\n",
       "      <th>familiy_members</th>\n",
       "      <th>fam_status</th>\n",
       "      <th>income</th>\n",
       "    </tr>\n",
       "  </thead>\n",
       "  <tbody>\n",
       "    <tr>\n",
       "      <th>0</th>\n",
       "      <td>2539329</td>\n",
       "      <td>1</td>\n",
       "      <td>1</td>\n",
       "      <td>2</td>\n",
       "      <td>8</td>\n",
       "      <td>11.11484</td>\n",
       "      <td>196</td>\n",
       "      <td>1</td>\n",
       "      <td>0</td>\n",
       "      <td>Soda</td>\n",
       "      <td>...</td>\n",
       "      <td>Regular customer</td>\n",
       "      <td>Linda</td>\n",
       "      <td>Nguyen</td>\n",
       "      <td>Female</td>\n",
       "      <td>Alabama</td>\n",
       "      <td>31</td>\n",
       "      <td>2/17/2019</td>\n",
       "      <td>3</td>\n",
       "      <td>married</td>\n",
       "      <td>40423</td>\n",
       "    </tr>\n",
       "    <tr>\n",
       "      <th>1</th>\n",
       "      <td>2398795</td>\n",
       "      <td>1</td>\n",
       "      <td>2</td>\n",
       "      <td>3</td>\n",
       "      <td>7</td>\n",
       "      <td>15.00000</td>\n",
       "      <td>196</td>\n",
       "      <td>1</td>\n",
       "      <td>1</td>\n",
       "      <td>Soda</td>\n",
       "      <td>...</td>\n",
       "      <td>Regular customer</td>\n",
       "      <td>Linda</td>\n",
       "      <td>Nguyen</td>\n",
       "      <td>Female</td>\n",
       "      <td>Alabama</td>\n",
       "      <td>31</td>\n",
       "      <td>2/17/2019</td>\n",
       "      <td>3</td>\n",
       "      <td>married</td>\n",
       "      <td>40423</td>\n",
       "    </tr>\n",
       "    <tr>\n",
       "      <th>2</th>\n",
       "      <td>473747</td>\n",
       "      <td>1</td>\n",
       "      <td>3</td>\n",
       "      <td>3</td>\n",
       "      <td>12</td>\n",
       "      <td>21.00000</td>\n",
       "      <td>196</td>\n",
       "      <td>1</td>\n",
       "      <td>1</td>\n",
       "      <td>Soda</td>\n",
       "      <td>...</td>\n",
       "      <td>Regular customer</td>\n",
       "      <td>Linda</td>\n",
       "      <td>Nguyen</td>\n",
       "      <td>Female</td>\n",
       "      <td>Alabama</td>\n",
       "      <td>31</td>\n",
       "      <td>2/17/2019</td>\n",
       "      <td>3</td>\n",
       "      <td>married</td>\n",
       "      <td>40423</td>\n",
       "    </tr>\n",
       "    <tr>\n",
       "      <th>3</th>\n",
       "      <td>2254736</td>\n",
       "      <td>1</td>\n",
       "      <td>4</td>\n",
       "      <td>4</td>\n",
       "      <td>7</td>\n",
       "      <td>29.00000</td>\n",
       "      <td>196</td>\n",
       "      <td>1</td>\n",
       "      <td>1</td>\n",
       "      <td>Soda</td>\n",
       "      <td>...</td>\n",
       "      <td>Regular customer</td>\n",
       "      <td>Linda</td>\n",
       "      <td>Nguyen</td>\n",
       "      <td>Female</td>\n",
       "      <td>Alabama</td>\n",
       "      <td>31</td>\n",
       "      <td>2/17/2019</td>\n",
       "      <td>3</td>\n",
       "      <td>married</td>\n",
       "      <td>40423</td>\n",
       "    </tr>\n",
       "    <tr>\n",
       "      <th>4</th>\n",
       "      <td>431534</td>\n",
       "      <td>1</td>\n",
       "      <td>5</td>\n",
       "      <td>4</td>\n",
       "      <td>15</td>\n",
       "      <td>28.00000</td>\n",
       "      <td>196</td>\n",
       "      <td>1</td>\n",
       "      <td>1</td>\n",
       "      <td>Soda</td>\n",
       "      <td>...</td>\n",
       "      <td>Regular customer</td>\n",
       "      <td>Linda</td>\n",
       "      <td>Nguyen</td>\n",
       "      <td>Female</td>\n",
       "      <td>Alabama</td>\n",
       "      <td>31</td>\n",
       "      <td>2/17/2019</td>\n",
       "      <td>3</td>\n",
       "      <td>married</td>\n",
       "      <td>40423</td>\n",
       "    </tr>\n",
       "  </tbody>\n",
       "</table>\n",
       "<p>5 rows × 33 columns</p>\n",
       "</div>"
      ],
      "text/plain": [
       "   order_id user_id  order_number  orders_day_of_week  order_hour_of_day  \\\n",
       "0   2539329       1             1                   2                  8   \n",
       "1   2398795       1             2                   3                  7   \n",
       "2    473747       1             3                   3                 12   \n",
       "3   2254736       1             4                   4                  7   \n",
       "4    431534       1             5                   4                 15   \n",
       "\n",
       "   days_since_prior_order  product_id  add_to_cart_order  reordered  \\\n",
       "0                11.11484         196                  1          0   \n",
       "1                15.00000         196                  1          1   \n",
       "2                21.00000         196                  1          1   \n",
       "3                29.00000         196                  1          1   \n",
       "4                28.00000         196                  1          1   \n",
       "\n",
       "  product_name  ...    frequency_flag  first_name  last_name  gender    state  \\\n",
       "0         Soda  ...  Regular customer       Linda     Nguyen  Female  Alabama   \n",
       "1         Soda  ...  Regular customer       Linda     Nguyen  Female  Alabama   \n",
       "2         Soda  ...  Regular customer       Linda     Nguyen  Female  Alabama   \n",
       "3         Soda  ...  Regular customer       Linda     Nguyen  Female  Alabama   \n",
       "4         Soda  ...  Regular customer       Linda     Nguyen  Female  Alabama   \n",
       "\n",
       "  age date_joined familiy_members  fam_status income  \n",
       "0  31   2/17/2019               3     married  40423  \n",
       "1  31   2/17/2019               3     married  40423  \n",
       "2  31   2/17/2019               3     married  40423  \n",
       "3  31   2/17/2019               3     married  40423  \n",
       "4  31   2/17/2019               3     married  40423  \n",
       "\n",
       "[5 rows x 33 columns]"
      ]
     },
     "execution_count": 5,
     "metadata": {},
     "output_type": "execute_result"
    }
   ],
   "source": [
    "ords_prods_custo.head()"
   ]
  },
  {
   "cell_type": "markdown",
   "id": "02bf0392",
   "metadata": {},
   "source": [
    "### 2. Shwoing complete columns"
   ]
  },
  {
   "cell_type": "code",
   "execution_count": 6,
   "id": "4363505c",
   "metadata": {},
   "outputs": [],
   "source": [
    "complete_columns = list(ords_prods_custo.columns)"
   ]
  },
  {
   "cell_type": "code",
   "execution_count": 7,
   "id": "2954db6e",
   "metadata": {},
   "outputs": [
    {
     "data": {
      "text/plain": [
       "['order_id',\n",
       " 'user_id',\n",
       " 'order_number',\n",
       " 'orders_day_of_week',\n",
       " 'order_hour_of_day',\n",
       " 'days_since_prior_order',\n",
       " 'product_id',\n",
       " 'add_to_cart_order',\n",
       " 'reordered',\n",
       " 'product_name',\n",
       " 'aisle_id',\n",
       " 'department_id',\n",
       " 'prices',\n",
       " '_merge',\n",
       " 'price_range_loc',\n",
       " 'busiest_day',\n",
       " 'busiest_days',\n",
       " 'busiest_time_of_the_day',\n",
       " 'max_order',\n",
       " 'loyalty_flag',\n",
       " 'avg_price',\n",
       " 'spender_flag',\n",
       " 'median_days_since_prior_order',\n",
       " 'frequency_flag',\n",
       " 'first_name',\n",
       " 'last_name',\n",
       " 'gender',\n",
       " 'state',\n",
       " 'age',\n",
       " 'date_joined',\n",
       " 'familiy_members',\n",
       " 'fam_status',\n",
       " 'income']"
      ]
     },
     "execution_count": 7,
     "metadata": {},
     "output_type": "execute_result"
    }
   ],
   "source": [
    "complete_columns"
   ]
  },
  {
   "cell_type": "markdown",
   "id": "d2e436c0",
   "metadata": {},
   "source": [
    "### 3. Histogram"
   ]
  },
  {
   "cell_type": "code",
   "execution_count": 10,
   "id": "4bac7cad",
   "metadata": {},
   "outputs": [
    {
     "data": {
      "image/png": "[encoded data removed]",
      "text/plain": [
       "<Figure size 432x288 with 1 Axes>"
      ]
     },
     "metadata": {
      "needs_background": "light"
     },
     "output_type": "display_data"
    }
   ],
   "source": [
    "hist = ords_prods_custo['order_hour_of_day'].plot.hist(bins = 50, color = 'purple')"
   ]
  },
  {
   "cell_type": "markdown",
   "id": "09408293",
   "metadata": {},
   "source": [
    "We can see that most orders are placed around 10 a.m. and remain high until 5 p.m. From 5 p.m. on orders contantly drop until 1 a.m. There are hardly any orders between 1 a.m. and 6 a.m. and then they start to increase again. "
   ]
  },
  {
   "cell_type": "code",
   "execution_count": 15,
   "id": "454d3ccf",
   "metadata": {},
   "outputs": [],
   "source": [
    "# Exporting the vizualisation\n",
    "hist.figure.savefig(os.path.join(path, '04 Analysis','01 Visualizations','hist_order_hour_of_day_4.9.png'))"
   ]
  },
  {
   "cell_type": "markdown",
   "id": "cd26a77e",
   "metadata": {},
   "source": []
  },
  {
   "cell_type": "markdown",
   "id": "2efe4b0e",
   "metadata": {},
   "source": []
  },
  {
   "cell_type": "markdown",
   "id": "302d22fc",
   "metadata": {},
   "source": [
    "### 4. Bar Chart"
   ]
  },
  {
   "cell_type": "code",
   "execution_count": null,
   "id": "53256b92",
   "metadata": {},
   "outputs": [],
   "source": [
    "#reminder \n",
    "# ords_prods_merge.loc[ords_prods_merge['max_order'] > 40, 'loyalty_flag'] = 'Loyal customer'\n",
    "# ords_prods_merge.loc[(ords_prods_merge['max_order'] <= 40) & (ords_prods_merge['max_order'] > 10), 'loyalty_flag'] = 'Regular customer'\n",
    "# ords_prods_merge.loc[ords_prods_merge['max_order'] <= 10, 'loyalty_flag'] = 'New customer'"
   ]
  },
  {
   "cell_type": "code",
   "execution_count": 16,
   "id": "54815671",
   "metadata": {},
   "outputs": [
    {
     "data": {
      "image/png": "[encoded data removed]",
      "text/plain": [
       "<Figure size 432x288 with 1 Axes>"
      ]
     },
     "metadata": {
      "needs_background": "light"
     },
     "output_type": "display_data"
    }
   ],
   "source": [
    "bar = ords_prods_custo['loyalty_flag'].value_counts().plot.bar()"
   ]
  },
  {
   "cell_type": "markdown",
   "id": "d9f7742a",
   "metadata": {},
   "source": [
    "We can see, that most of the customers are regular customers with 10 to 40 places orders. Loyal customer who have placed more than 40 orders so far are a bit less. And the right bar displays the new customers who have placed less than 10 orders so far."
   ]
  },
  {
   "cell_type": "code",
   "execution_count": 23,
   "id": "16bd1457",
   "metadata": {},
   "outputs": [],
   "source": [
    "# Exporting the vizualisation\n",
    "bar.figure.savefig(os.path.join(path, '04 Analysis','01 Visualizations','distributio_of_loyalty_4.9.png'))"
   ]
  },
  {
   "cell_type": "code",
   "execution_count": null,
   "id": "630d687e",
   "metadata": {},
   "outputs": [],
   "source": []
  },
  {
   "cell_type": "markdown",
   "id": "739c1098",
   "metadata": {},
   "source": [
    "### 5. Line Chart (sample) "
   ]
  },
  {
   "cell_type": "code",
   "execution_count": null,
   "id": "6dedbd87",
   "metadata": {},
   "outputs": [],
   "source": [
    "# line chart using subset"
   ]
  },
  {
   "cell_type": "code",
   "execution_count": 26,
   "id": "d3fda58f",
   "metadata": {},
   "outputs": [],
   "source": [
    "# Create a list holding true/false values to test np.random.rand() <=0.7\n",
    "np.random.seed(4)\n",
    "dev = np.random.rand(len(ords_prods_custo)) <= 0.7"
   ]
  },
  {
   "cell_type": "code",
   "execution_count": 27,
   "id": "6adcc637",
   "metadata": {},
   "outputs": [
    {
     "data": {
      "text/plain": [
       "array([False,  True, False, ..., False,  True,  True])"
      ]
     },
     "execution_count": 27,
     "metadata": {},
     "output_type": "execute_result"
    }
   ],
   "source": [
    "dev"
   ]
  },
  {
   "cell_type": "code",
   "execution_count": 28,
   "id": "ee04da7b",
   "metadata": {},
   "outputs": [],
   "source": [
    "# Store 70% of the sample in data frame big\n",
    "big = ords_prods_custo[dev]"
   ]
  },
  {
   "cell_type": "code",
   "execution_count": 29,
   "id": "2e4d13cb",
   "metadata": {},
   "outputs": [],
   "source": [
    "# Store 30% of the sample in data frame small\n",
    "small = ords_prods_custo[~dev]"
   ]
  },
  {
   "cell_type": "code",
   "execution_count": 30,
   "id": "a84c1354",
   "metadata": {},
   "outputs": [
    {
     "data": {
      "text/plain": [
       "30629741"
      ]
     },
     "execution_count": 30,
     "metadata": {},
     "output_type": "execute_result"
    }
   ],
   "source": [
    "# Checking length is correct\n",
    "len(big)+len(small)"
   ]
  },
  {
   "cell_type": "code",
   "execution_count": null,
   "id": "8bfa3017",
   "metadata": {},
   "outputs": [],
   "source": [
    "# Creating a new dataframe with only the columns needed for the line chart"
   ]
  },
  {
   "cell_type": "code",
   "execution_count": 41,
   "id": "4993237a",
   "metadata": {},
   "outputs": [],
   "source": [
    "df_small = small[['order_hour_of_day','prices']]"
   ]
  },
  {
   "cell_type": "code",
   "execution_count": 42,
   "id": "a8f4f1d8",
   "metadata": {},
   "outputs": [
    {
     "data": {
      "text/html": [
       "<div>\n",
       "<style scoped>\n",
       "    .dataframe tbody tr th:only-of-type {\n",
       "        vertical-align: middle;\n",
       "    }\n",
       "\n",
       "    .dataframe tbody tr th {\n",
       "        vertical-align: top;\n",
       "    }\n",
       "\n",
       "    .dataframe thead th {\n",
       "        text-align: right;\n",
       "    }\n",
       "</style>\n",
       "<table border=\"1\" class=\"dataframe\">\n",
       "  <thead>\n",
       "    <tr style=\"text-align: right;\">\n",
       "      <th></th>\n",
       "      <th>order_hour_of_day</th>\n",
       "      <th>prices</th>\n",
       "    </tr>\n",
       "  </thead>\n",
       "  <tbody>\n",
       "    <tr>\n",
       "      <th>0</th>\n",
       "      <td>8</td>\n",
       "      <td>9.0</td>\n",
       "    </tr>\n",
       "    <tr>\n",
       "      <th>2</th>\n",
       "      <td>12</td>\n",
       "      <td>9.0</td>\n",
       "    </tr>\n",
       "    <tr>\n",
       "      <th>3</th>\n",
       "      <td>7</td>\n",
       "      <td>9.0</td>\n",
       "    </tr>\n",
       "    <tr>\n",
       "      <th>6</th>\n",
       "      <td>9</td>\n",
       "      <td>9.0</td>\n",
       "    </tr>\n",
       "    <tr>\n",
       "      <th>10</th>\n",
       "      <td>8</td>\n",
       "      <td>12.5</td>\n",
       "    </tr>\n",
       "    <tr>\n",
       "      <th>...</th>\n",
       "      <td>...</td>\n",
       "      <td>...</td>\n",
       "    </tr>\n",
       "    <tr>\n",
       "      <th>30629722</th>\n",
       "      <td>14</td>\n",
       "      <td>10.7</td>\n",
       "    </tr>\n",
       "    <tr>\n",
       "      <th>30629724</th>\n",
       "      <td>3</td>\n",
       "      <td>10.7</td>\n",
       "    </tr>\n",
       "    <tr>\n",
       "      <th>30629729</th>\n",
       "      <td>18</td>\n",
       "      <td>10.7</td>\n",
       "    </tr>\n",
       "    <tr>\n",
       "      <th>30629737</th>\n",
       "      <td>11</td>\n",
       "      <td>8.1</td>\n",
       "    </tr>\n",
       "    <tr>\n",
       "      <th>30629738</th>\n",
       "      <td>11</td>\n",
       "      <td>8.1</td>\n",
       "    </tr>\n",
       "  </tbody>\n",
       "</table>\n",
       "<p>9187984 rows × 2 columns</p>\n",
       "</div>"
      ],
      "text/plain": [
       "          order_hour_of_day  prices\n",
       "0                         8     9.0\n",
       "2                        12     9.0\n",
       "3                         7     9.0\n",
       "6                         9     9.0\n",
       "10                        8    12.5\n",
       "...                     ...     ...\n",
       "30629722                 14    10.7\n",
       "30629724                  3    10.7\n",
       "30629729                 18    10.7\n",
       "30629737                 11     8.1\n",
       "30629738                 11     8.1\n",
       "\n",
       "[9187984 rows x 2 columns]"
      ]
     },
     "execution_count": 42,
     "metadata": {},
     "output_type": "execute_result"
    }
   ],
   "source": [
    "df_small"
   ]
  },
  {
   "cell_type": "code",
   "execution_count": 59,
   "id": "578581e3",
   "metadata": {},
   "outputs": [
    {
     "data": {
      "image/png": "[encoded data removed]",
      "text/plain": [
       "<Figure size 432x288 with 1 Axes>"
      ]
     },
     "metadata": {
      "needs_background": "light"
     },
     "output_type": "display_data"
    }
   ],
   "source": [
    "line = sns.lineplot(data = df_small, x = 'order_hour_of_day',y = 'prices')"
   ]
  },
  {
   "cell_type": "markdown",
   "id": "daecac51",
   "metadata": {},
   "source": [
    "High-value-orders are placed in the morning hours of a day.. thats when the frequency of the orders are lowest. "
   ]
  },
  {
   "cell_type": "code",
   "execution_count": 60,
   "id": "7618dafc",
   "metadata": {},
   "outputs": [],
   "source": [
    "# Exporting the vizualisation\n",
    "line.figure.savefig(os.path.join(path, '04 Analysis','01 Visualizations','frequency_of_orders_prices_4.9.png'))"
   ]
  },
  {
   "cell_type": "markdown",
   "id": "718b30e2",
   "metadata": {},
   "source": [
    "### 6. Line chart exploring the connections between age and number of dependents (familiy members)"
   ]
  },
  {
   "cell_type": "code",
   "execution_count": 48,
   "id": "e63678bf",
   "metadata": {},
   "outputs": [],
   "source": [
    "# Creating a new dataframe with only the columns needed for the line chart\n",
    "df_small_2 = small[['age','familiy_members']]"
   ]
  },
  {
   "cell_type": "code",
   "execution_count": 49,
   "id": "0f07a2bc",
   "metadata": {},
   "outputs": [
    {
     "data": {
      "text/html": [
       "<div>\n",
       "<style scoped>\n",
       "    .dataframe tbody tr th:only-of-type {\n",
       "        vertical-align: middle;\n",
       "    }\n",
       "\n",
       "    .dataframe tbody tr th {\n",
       "        vertical-align: top;\n",
       "    }\n",
       "\n",
       "    .dataframe thead th {\n",
       "        text-align: right;\n",
       "    }\n",
       "</style>\n",
       "<table border=\"1\" class=\"dataframe\">\n",
       "  <thead>\n",
       "    <tr style=\"text-align: right;\">\n",
       "      <th></th>\n",
       "      <th>age</th>\n",
       "      <th>familiy_members</th>\n",
       "    </tr>\n",
       "  </thead>\n",
       "  <tbody>\n",
       "    <tr>\n",
       "      <th>0</th>\n",
       "      <td>31</td>\n",
       "      <td>3</td>\n",
       "    </tr>\n",
       "    <tr>\n",
       "      <th>2</th>\n",
       "      <td>31</td>\n",
       "      <td>3</td>\n",
       "    </tr>\n",
       "    <tr>\n",
       "      <th>3</th>\n",
       "      <td>31</td>\n",
       "      <td>3</td>\n",
       "    </tr>\n",
       "    <tr>\n",
       "      <th>6</th>\n",
       "      <td>31</td>\n",
       "      <td>3</td>\n",
       "    </tr>\n",
       "    <tr>\n",
       "      <th>10</th>\n",
       "      <td>31</td>\n",
       "      <td>3</td>\n",
       "    </tr>\n",
       "    <tr>\n",
       "      <th>...</th>\n",
       "      <td>...</td>\n",
       "      <td>...</td>\n",
       "    </tr>\n",
       "    <tr>\n",
       "      <th>30629722</th>\n",
       "      <td>25</td>\n",
       "      <td>0</td>\n",
       "    </tr>\n",
       "    <tr>\n",
       "      <th>30629724</th>\n",
       "      <td>25</td>\n",
       "      <td>0</td>\n",
       "    </tr>\n",
       "    <tr>\n",
       "      <th>30629729</th>\n",
       "      <td>25</td>\n",
       "      <td>0</td>\n",
       "    </tr>\n",
       "    <tr>\n",
       "      <th>30629737</th>\n",
       "      <td>22</td>\n",
       "      <td>3</td>\n",
       "    </tr>\n",
       "    <tr>\n",
       "      <th>30629738</th>\n",
       "      <td>22</td>\n",
       "      <td>3</td>\n",
       "    </tr>\n",
       "  </tbody>\n",
       "</table>\n",
       "<p>9187984 rows × 2 columns</p>\n",
       "</div>"
      ],
      "text/plain": [
       "          age  familiy_members\n",
       "0          31                3\n",
       "2          31                3\n",
       "3          31                3\n",
       "6          31                3\n",
       "10         31                3\n",
       "...       ...              ...\n",
       "30629722   25                0\n",
       "30629724   25                0\n",
       "30629729   25                0\n",
       "30629737   22                3\n",
       "30629738   22                3\n",
       "\n",
       "[9187984 rows x 2 columns]"
      ]
     },
     "execution_count": 49,
     "metadata": {},
     "output_type": "execute_result"
    }
   ],
   "source": [
    "df_small_2"
   ]
  },
  {
   "cell_type": "code",
   "execution_count": 55,
   "id": "13fdce32",
   "metadata": {},
   "outputs": [
    {
     "data": {
      "image/png": "[encoded data removed]",
      "text/plain": [
       "<Figure size 432x288 with 1 Axes>"
      ]
     },
     "metadata": {
      "needs_background": "light"
     },
     "output_type": "display_data"
    }
   ],
   "source": [
    "line_1 = sns.lineplot(data = df_small_2, x = 'age',y = 'familiy_members')"
   ]
  },
  {
   "cell_type": "code",
   "execution_count": 58,
   "id": "e20f3c13",
   "metadata": {},
   "outputs": [
    {
     "data": {
      "text/plain": [
       "count    9.187984e+06\n",
       "mean     1.501680e+00\n",
       "std      1.118523e+00\n",
       "min      0.000000e+00\n",
       "25%      1.000000e+00\n",
       "50%      2.000000e+00\n",
       "75%      3.000000e+00\n",
       "max      3.000000e+00\n",
       "Name: familiy_members, dtype: float64"
      ]
     },
     "execution_count": 58,
     "metadata": {},
     "output_type": "execute_result"
    }
   ],
   "source": [
    "df_small_2['familiy_members'].describe()"
   ]
  },
  {
   "cell_type": "markdown",
   "id": "5bba72dd",
   "metadata": {},
   "source": [
    "#### There is no connection between age and family situation"
   ]
  },
  {
   "cell_type": "code",
   "execution_count": 61,
   "id": "35c1f31d",
   "metadata": {},
   "outputs": [],
   "source": [
    "# Exporting the vizualisation\n",
    "line_1.figure.savefig(os.path.join(path, '04 Analysis','01 Visualizations','age_family_member_4.9.png'))"
   ]
  },
  {
   "cell_type": "code",
   "execution_count": null,
   "id": "736cb5fd",
   "metadata": {},
   "outputs": [],
   "source": []
  },
  {
   "cell_type": "markdown",
   "id": "d430f8b8",
   "metadata": {},
   "source": [
    "### 7. Scatterplot"
   ]
  },
  {
   "cell_type": "code",
   "execution_count": null,
   "id": "cef77758",
   "metadata": {},
   "outputs": [],
   "source": []
  },
  {
   "cell_type": "markdown",
   "id": "6fdf4339-46f4-4a76-86df-6f23f7c6cc73",
   "metadata": {},
   "source": []
  },
  {
   "cell_type": "code",
   "execution_count": 6,
   "id": "51774de0-3d77-4b0a-b5c5-8270d201b123",
   "metadata": {},
   "outputs": [
    {
     "data": {
      "image/png": "[encoded data removed]",
      "text/plain": [
       "<Figure size 432x288 with 1 Axes>"
      ]
     },
     "metadata": {
      "needs_background": "light"
     },
     "output_type": "display_data"
    }
   ],
   "source": [
    "scatter = sns.scatterplot(x = 'age', y = 'income',data = ords_prods_custo)"
   ]
  },
  {
   "cell_type": "markdown",
   "id": "1cf7a063-20d8-4343-9394-57882c7afc0c",
   "metadata": {},
   "source": [
    "##### People older than 40 have a higher income than people under 40"
   ]
  },
  {
   "cell_type": "code",
   "execution_count": 8,
   "id": "593ac4d0-07ce-44e1-b059-fc8e92b01ffc",
   "metadata": {},
   "outputs": [],
   "source": [
    "scatter.figure.savefig(os.path.join(path, '04 Analysis','01 Visualizations','age_income_4.9.png'))"
   ]
  },
  {
   "cell_type": "code",
   "execution_count": null,
   "id": "a146d3dc-13b5-4920-8123-dd86a72c092a",
   "metadata": {},
   "outputs": [],
   "source": []
  }
 ],
 "metadata": {
  "kernelspec": {
   "display_name": "Python 3 (ipykernel)",
   "language": "python",
   "name": "python3"
  },
  "language_info": {
   "codemirror_mode": {
    "name": "ipython",
    "version": 3
   },
   "file_extension": ".py",
   "mimetype": "text/x-python",
   "name": "python",
   "nbconvert_exporter": "python",
   "pygments_lexer": "ipython3",
   "version": "3.9.12"
  }
 },
 "nbformat": 4,
 "nbformat_minor": 5
}
