{
 "cells": [
  {
   "cell_type": "markdown",
   "id": "cad3b1e7",
   "metadata": {},
   "source": [
    " # **4.10 Final Instacart Report Part 1**"
   ]
  },
  {
   "cell_type": "markdown",
   "id": "52bf9e10",
   "metadata": {},
   "source": [
    "## _Contents_"
   ]
  },
  {
   "cell_type": "markdown",
   "id": "59f7cb12",
   "metadata": {},
   "source": [
    "#### 1. Libaries and Data "
   ]
  },
  {
   "cell_type": "markdown",
   "id": "0aaa2f1d",
   "metadata": {},
   "source": [
    "#### 2. Security Implications / PII Data"
   ]
  },
  {
   "cell_type": "markdown",
   "id": "851fe25f",
   "metadata": {},
   "source": [
    "#### 3. Customer Behavior in different Geographic Areas"
   ]
  },
  {
   "cell_type": "markdown",
   "id": "5671a10d",
   "metadata": {},
   "source": [
    "#### 4. Detecting Low-Activity Customers / Low Revenue "
   ]
  },
  {
   "cell_type": "markdown",
   "id": "dbb728f5",
   "metadata": {},
   "source": [
    "#### 5. Marketing & Business: Customer Profiling"
   ]
  },
  {
   "cell_type": "markdown",
   "id": "dbe17cdc",
   "metadata": {},
   "source": [
    "#### 6. Visualisation of Profiles"
   ]
  },
  {
   "cell_type": "markdown",
   "id": "d6a3e332",
   "metadata": {},
   "source": [
    "#### 7. Aggregation / Customer-Profiles"
   ]
  },
  {
   "cell_type": "markdown",
   "id": "1dc7f4e7",
   "metadata": {},
   "source": [
    "#### 8. Comparing Customer Profiles with Regions"
   ]
  },
  {
   "cell_type": "markdown",
   "id": "a8935ba8",
   "metadata": {},
   "source": [
    "#### 9. Illustration of Results"
   ]
  },
  {
   "cell_type": "markdown",
   "id": "8dcf1a82",
   "metadata": {},
   "source": [
    "\n",
    "\n",
    "\n",
    "## _Script_"
   ]
  },
  {
   "cell_type": "markdown",
   "id": "40dbe5a0",
   "metadata": {},
   "source": [
    "## 1. Libaries and Data "
   ]
  },
  {
   "cell_type": "markdown",
   "id": "703843f9",
   "metadata": {},
   "source": [
    "Firstly I am loading all necessary libaries as well as the dataset."
   ]
  },
  {
   "cell_type": "code",
   "execution_count": 1,
   "id": "b975845b",
   "metadata": {},
   "outputs": [],
   "source": [
    "#import libaries \n",
    "\n",
    "import pandas as pd\n",
    "import numpy as np\n",
    "import os\n",
    "import matplotlib.pyplot as plt\n",
    "import seaborn as sns\n",
    "import scipy"
   ]
  },
  {
   "cell_type": "code",
   "execution_count": 2,
   "id": "ccdc11ae",
   "metadata": {},
   "outputs": [],
   "source": [
    "# defining path\n",
    "path = r'C:\\Users\\tinar\\Dokumente PC\\00 DATA ANALYST Carrer Foundry\\04 Immersion Course\\4. Python Fundamentals for Data Analysts\\2209 Instacart Basket Analysis'"
   ]
  },
  {
   "cell_type": "code",
   "execution_count": 5,
   "id": "5f3ff7fc",
   "metadata": {},
   "outputs": [],
   "source": [
    "# import of orders_products_customers\n",
    "ords_prods_custo = pd.read_pickle(os.path.join(path, '02 Data', '02 Prepared Data', 'instacart_data_complete.pkl'))"
   ]
  },
  {
   "cell_type": "code",
   "execution_count": null,
   "id": "9570c582",
   "metadata": {},
   "outputs": [],
   "source": []
  },
  {
   "cell_type": "code",
   "execution_count": 7,
   "id": "89a6ea64",
   "metadata": {},
   "outputs": [],
   "source": [
    "# correcting a spelling mistake in \"family_members\"\n",
    "ords_prods_custo.rename(columns = {'familiy_members' : 'family_members'}, inplace = True)"
   ]
  },
  {
   "cell_type": "code",
   "execution_count": 8,
   "id": "3e105dcb",
   "metadata": {},
   "outputs": [],
   "source": [
    "# adjusting the varibale name\n",
    "ords_prods_custo.rename(columns = {'fam_status' : 'family_status'}, inplace = True)"
   ]
  },
  {
   "cell_type": "code",
   "execution_count": 9,
   "id": "634cd8fe",
   "metadata": {},
   "outputs": [
    {
     "data": {
      "text/html": [
       "<div>\n",
       "<style scoped>\n",
       "    .dataframe tbody tr th:only-of-type {\n",
       "        vertical-align: middle;\n",
       "    }\n",
       "\n",
       "    .dataframe tbody tr th {\n",
       "        vertical-align: top;\n",
       "    }\n",
       "\n",
       "    .dataframe thead th {\n",
       "        text-align: right;\n",
       "    }\n",
       "</style>\n",
       "<table border=\"1\" class=\"dataframe\">\n",
       "  <thead>\n",
       "    <tr style=\"text-align: right;\">\n",
       "      <th></th>\n",
       "      <th>order_id</th>\n",
       "      <th>user_id</th>\n",
       "      <th>order_number</th>\n",
       "      <th>orders_day_of_week</th>\n",
       "      <th>order_hour_of_day</th>\n",
       "      <th>days_since_prior_order</th>\n",
       "      <th>product_id</th>\n",
       "      <th>add_to_cart_order</th>\n",
       "      <th>reordered</th>\n",
       "      <th>product_name</th>\n",
       "      <th>...</th>\n",
       "      <th>frequency_flag</th>\n",
       "      <th>first_name</th>\n",
       "      <th>last_name</th>\n",
       "      <th>gender</th>\n",
       "      <th>state</th>\n",
       "      <th>age</th>\n",
       "      <th>date_joined</th>\n",
       "      <th>family_members</th>\n",
       "      <th>family_status</th>\n",
       "      <th>income</th>\n",
       "    </tr>\n",
       "  </thead>\n",
       "  <tbody>\n",
       "    <tr>\n",
       "      <th>0</th>\n",
       "      <td>2539329</td>\n",
       "      <td>1</td>\n",
       "      <td>1</td>\n",
       "      <td>2</td>\n",
       "      <td>8</td>\n",
       "      <td>11.11484</td>\n",
       "      <td>196</td>\n",
       "      <td>1</td>\n",
       "      <td>0</td>\n",
       "      <td>Soda</td>\n",
       "      <td>...</td>\n",
       "      <td>Regular customer</td>\n",
       "      <td>Linda</td>\n",
       "      <td>Nguyen</td>\n",
       "      <td>Female</td>\n",
       "      <td>Alabama</td>\n",
       "      <td>31</td>\n",
       "      <td>2/17/2019</td>\n",
       "      <td>3</td>\n",
       "      <td>married</td>\n",
       "      <td>40423</td>\n",
       "    </tr>\n",
       "    <tr>\n",
       "      <th>1</th>\n",
       "      <td>2398795</td>\n",
       "      <td>1</td>\n",
       "      <td>2</td>\n",
       "      <td>3</td>\n",
       "      <td>7</td>\n",
       "      <td>15.00000</td>\n",
       "      <td>196</td>\n",
       "      <td>1</td>\n",
       "      <td>1</td>\n",
       "      <td>Soda</td>\n",
       "      <td>...</td>\n",
       "      <td>Regular customer</td>\n",
       "      <td>Linda</td>\n",
       "      <td>Nguyen</td>\n",
       "      <td>Female</td>\n",
       "      <td>Alabama</td>\n",
       "      <td>31</td>\n",
       "      <td>2/17/2019</td>\n",
       "      <td>3</td>\n",
       "      <td>married</td>\n",
       "      <td>40423</td>\n",
       "    </tr>\n",
       "    <tr>\n",
       "      <th>2</th>\n",
       "      <td>473747</td>\n",
       "      <td>1</td>\n",
       "      <td>3</td>\n",
       "      <td>3</td>\n",
       "      <td>12</td>\n",
       "      <td>21.00000</td>\n",
       "      <td>196</td>\n",
       "      <td>1</td>\n",
       "      <td>1</td>\n",
       "      <td>Soda</td>\n",
       "      <td>...</td>\n",
       "      <td>Regular customer</td>\n",
       "      <td>Linda</td>\n",
       "      <td>Nguyen</td>\n",
       "      <td>Female</td>\n",
       "      <td>Alabama</td>\n",
       "      <td>31</td>\n",
       "      <td>2/17/2019</td>\n",
       "      <td>3</td>\n",
       "      <td>married</td>\n",
       "      <td>40423</td>\n",
       "    </tr>\n",
       "    <tr>\n",
       "      <th>3</th>\n",
       "      <td>2254736</td>\n",
       "      <td>1</td>\n",
       "      <td>4</td>\n",
       "      <td>4</td>\n",
       "      <td>7</td>\n",
       "      <td>29.00000</td>\n",
       "      <td>196</td>\n",
       "      <td>1</td>\n",
       "      <td>1</td>\n",
       "      <td>Soda</td>\n",
       "      <td>...</td>\n",
       "      <td>Regular customer</td>\n",
       "      <td>Linda</td>\n",
       "      <td>Nguyen</td>\n",
       "      <td>Female</td>\n",
       "      <td>Alabama</td>\n",
       "      <td>31</td>\n",
       "      <td>2/17/2019</td>\n",
       "      <td>3</td>\n",
       "      <td>married</td>\n",
       "      <td>40423</td>\n",
       "    </tr>\n",
       "    <tr>\n",
       "      <th>4</th>\n",
       "      <td>431534</td>\n",
       "      <td>1</td>\n",
       "      <td>5</td>\n",
       "      <td>4</td>\n",
       "      <td>15</td>\n",
       "      <td>28.00000</td>\n",
       "      <td>196</td>\n",
       "      <td>1</td>\n",
       "      <td>1</td>\n",
       "      <td>Soda</td>\n",
       "      <td>...</td>\n",
       "      <td>Regular customer</td>\n",
       "      <td>Linda</td>\n",
       "      <td>Nguyen</td>\n",
       "      <td>Female</td>\n",
       "      <td>Alabama</td>\n",
       "      <td>31</td>\n",
       "      <td>2/17/2019</td>\n",
       "      <td>3</td>\n",
       "      <td>married</td>\n",
       "      <td>40423</td>\n",
       "    </tr>\n",
       "  </tbody>\n",
       "</table>\n",
       "<p>5 rows × 33 columns</p>\n",
       "</div>"
      ],
      "text/plain": [
       "   order_id user_id  order_number  orders_day_of_week  order_hour_of_day  \\\n",
       "0   2539329       1             1                   2                  8   \n",
       "1   2398795       1             2                   3                  7   \n",
       "2    473747       1             3                   3                 12   \n",
       "3   2254736       1             4                   4                  7   \n",
       "4    431534       1             5                   4                 15   \n",
       "\n",
       "   days_since_prior_order  product_id  add_to_cart_order  reordered  \\\n",
       "0                11.11484         196                  1          0   \n",
       "1                15.00000         196                  1          1   \n",
       "2                21.00000         196                  1          1   \n",
       "3                29.00000         196                  1          1   \n",
       "4                28.00000         196                  1          1   \n",
       "\n",
       "  product_name  ...    frequency_flag  first_name  last_name  gender    state  \\\n",
       "0         Soda  ...  Regular customer       Linda     Nguyen  Female  Alabama   \n",
       "1         Soda  ...  Regular customer       Linda     Nguyen  Female  Alabama   \n",
       "2         Soda  ...  Regular customer       Linda     Nguyen  Female  Alabama   \n",
       "3         Soda  ...  Regular customer       Linda     Nguyen  Female  Alabama   \n",
       "4         Soda  ...  Regular customer       Linda     Nguyen  Female  Alabama   \n",
       "\n",
       "  age date_joined family_members  family_status income  \n",
       "0  31   2/17/2019              3        married  40423  \n",
       "1  31   2/17/2019              3        married  40423  \n",
       "2  31   2/17/2019              3        married  40423  \n",
       "3  31   2/17/2019              3        married  40423  \n",
       "4  31   2/17/2019              3        married  40423  \n",
       "\n",
       "[5 rows x 33 columns]"
      ]
     },
     "execution_count": 9,
     "metadata": {},
     "output_type": "execute_result"
    }
   ],
   "source": [
    "ords_prods_custo.head(5)"
   ]
  },
  {
   "cell_type": "code",
   "execution_count": 10,
   "id": "c519917a",
   "metadata": {},
   "outputs": [],
   "source": [
    "# changing the data typ to have a integer for days_since_prior_order\n",
    "ords_prods_custo['days_since_prior_order'] = ords_prods_custo['days_since_prior_order'].astype('int')"
   ]
  },
  {
   "cell_type": "code",
   "execution_count": 11,
   "id": "9fc11845",
   "metadata": {},
   "outputs": [
    {
     "data": {
      "text/plain": [
       "order_id                            int64\n",
       "user_id                            object\n",
       "order_number                        int64\n",
       "orders_day_of_week                  int64\n",
       "order_hour_of_day                   int64\n",
       "days_since_prior_order              int32\n",
       "product_id                          int64\n",
       "add_to_cart_order                   int64\n",
       "reordered                           int64\n",
       "product_name                       object\n",
       "aisle_id                            int64\n",
       "department_id                       int64\n",
       "prices                            float64\n",
       "_merge                           category\n",
       "price_range_loc                    object\n",
       "busiest_day                        object\n",
       "busiest_days                       object\n",
       "busiest_time_of_the_day            object\n",
       "max_order                           int64\n",
       "loyalty_flag                       object\n",
       "avg_price                         float64\n",
       "spender_flag                       object\n",
       "median_days_since_prior_order     float64\n",
       "frequency_flag                     object\n",
       "first_name                         object\n",
       "last_name                          object\n",
       "gender                             object\n",
       "state                              object\n",
       "age                                 int64\n",
       "date_joined                        object\n",
       "family_members                      int64\n",
       "family_status                      object\n",
       "income                              int64\n",
       "dtype: object"
      ]
     },
     "execution_count": 11,
     "metadata": {},
     "output_type": "execute_result"
    }
   ],
   "source": [
    "ords_prods_custo.dtypes"
   ]
  },
  {
   "cell_type": "code",
   "execution_count": 13,
   "id": "3bd3c737",
   "metadata": {},
   "outputs": [],
   "source": [
    "# changing data types to reduce memory usage\n",
    "ords_prods_custo['user_id'] = ords_prods_custo['user_id'].astype('str')\n",
    "ords_prods_custo['order_id'] = ords_prods_custo['order_id'].astype('int32')\n",
    "ords_prods_custo['product_id'] = ords_prods_custo['product_id'].astype('int32')\n",
    "ords_prods_custo['orders_day_of_week'] = ords_prods_custo['orders_day_of_week'].astype('int8')\n",
    "ords_prods_custo['order_hour_of_day'] = ords_prods_custo['order_hour_of_day'].astype('int8')  \n",
    "ords_prods_custo['days_since_prior_order'] = ords_prods_custo['days_since_prior_order'].astype('int8')\n",
    "ords_prods_custo['add_to_cart_order'] = ords_prods_custo['add_to_cart_order'].astype('int8')  \n",
    "ords_prods_custo['reordered'] = ords_prods_custo['reordered'].astype('int8')\n",
    "ords_prods_custo['aisle_id '] =ords_prods_custo['aisle_id'].astype('int8')  \n",
    "ords_prods_custo['department_id'] = ords_prods_custo['department_id'].astype('int8')\n",
    "ords_prods_custo['max_order'] = ords_prods_custo['max_order'].astype('int16')  \n",
    "ords_prods_custo['age'] = ords_prods_custo['age'].astype('int8')\n",
    "ords_prods_custo['income'] = ords_prods_custo['income'].astype('int32')\n",
    "ords_prods_custo['family_members'] = ords_prods_custo['family_members'].astype('int8')"
   ]
  },
  {
   "cell_type": "markdown",
   "id": "0fcfa2af",
   "metadata": {},
   "source": [
    "## 2. Security Implications / PII Data"
   ]
  },
  {
   "cell_type": "markdown",
   "id": "5311b332",
   "metadata": {},
   "source": [
    "Addressing any PII data in the data before continuing the analysis. \n",
    "Since we have the first_names in combination with the last_names the data can be traced back to a particular person.\n",
    "Therefore I would drop or exclude the coloumns first_name and last_name. \n"
   ]
  },
  {
   "cell_type": "code",
   "execution_count": 14,
   "id": "e0243d7b",
   "metadata": {},
   "outputs": [],
   "source": [
    "# dropping first_name and last_name\n",
    "ords_prods_custo = ords_prods_custo.drop(columns = ['first_name', 'last_name'])"
   ]
  },
  {
   "cell_type": "code",
   "execution_count": 16,
   "id": "7c55750c",
   "metadata": {},
   "outputs": [
    {
     "data": {
      "text/plain": [
       "(30629741, 32)"
      ]
     },
     "execution_count": 16,
     "metadata": {},
     "output_type": "execute_result"
    }
   ],
   "source": [
    "ords_prods_custo.shape"
   ]
  },
  {
   "cell_type": "code",
   "execution_count": 15,
   "id": "ad3e660d",
   "metadata": {},
   "outputs": [
    {
     "data": {
      "text/html": [
       "<div>\n",
       "<style scoped>\n",
       "    .dataframe tbody tr th:only-of-type {\n",
       "        vertical-align: middle;\n",
       "    }\n",
       "\n",
       "    .dataframe tbody tr th {\n",
       "        vertical-align: top;\n",
       "    }\n",
       "\n",
       "    .dataframe thead th {\n",
       "        text-align: right;\n",
       "    }\n",
       "</style>\n",
       "<table border=\"1\" class=\"dataframe\">\n",
       "  <thead>\n",
       "    <tr style=\"text-align: right;\">\n",
       "      <th></th>\n",
       "      <th>order_id</th>\n",
       "      <th>user_id</th>\n",
       "      <th>order_number</th>\n",
       "      <th>orders_day_of_week</th>\n",
       "      <th>order_hour_of_day</th>\n",
       "      <th>days_since_prior_order</th>\n",
       "      <th>product_id</th>\n",
       "      <th>add_to_cart_order</th>\n",
       "      <th>reordered</th>\n",
       "      <th>product_name</th>\n",
       "      <th>...</th>\n",
       "      <th>median_days_since_prior_order</th>\n",
       "      <th>frequency_flag</th>\n",
       "      <th>gender</th>\n",
       "      <th>state</th>\n",
       "      <th>age</th>\n",
       "      <th>date_joined</th>\n",
       "      <th>family_members</th>\n",
       "      <th>family_status</th>\n",
       "      <th>income</th>\n",
       "      <th>aisle_id</th>\n",
       "    </tr>\n",
       "  </thead>\n",
       "  <tbody>\n",
       "    <tr>\n",
       "      <th>0</th>\n",
       "      <td>2539329</td>\n",
       "      <td>1</td>\n",
       "      <td>1</td>\n",
       "      <td>2</td>\n",
       "      <td>8</td>\n",
       "      <td>11</td>\n",
       "      <td>196</td>\n",
       "      <td>1</td>\n",
       "      <td>0</td>\n",
       "      <td>Soda</td>\n",
       "      <td>...</td>\n",
       "      <td>20.0</td>\n",
       "      <td>Regular customer</td>\n",
       "      <td>Female</td>\n",
       "      <td>Alabama</td>\n",
       "      <td>31</td>\n",
       "      <td>2/17/2019</td>\n",
       "      <td>3</td>\n",
       "      <td>married</td>\n",
       "      <td>40423</td>\n",
       "      <td>77</td>\n",
       "    </tr>\n",
       "    <tr>\n",
       "      <th>1</th>\n",
       "      <td>2398795</td>\n",
       "      <td>1</td>\n",
       "      <td>2</td>\n",
       "      <td>3</td>\n",
       "      <td>7</td>\n",
       "      <td>15</td>\n",
       "      <td>196</td>\n",
       "      <td>1</td>\n",
       "      <td>1</td>\n",
       "      <td>Soda</td>\n",
       "      <td>...</td>\n",
       "      <td>20.0</td>\n",
       "      <td>Regular customer</td>\n",
       "      <td>Female</td>\n",
       "      <td>Alabama</td>\n",
       "      <td>31</td>\n",
       "      <td>2/17/2019</td>\n",
       "      <td>3</td>\n",
       "      <td>married</td>\n",
       "      <td>40423</td>\n",
       "      <td>77</td>\n",
       "    </tr>\n",
       "    <tr>\n",
       "      <th>2</th>\n",
       "      <td>473747</td>\n",
       "      <td>1</td>\n",
       "      <td>3</td>\n",
       "      <td>3</td>\n",
       "      <td>12</td>\n",
       "      <td>21</td>\n",
       "      <td>196</td>\n",
       "      <td>1</td>\n",
       "      <td>1</td>\n",
       "      <td>Soda</td>\n",
       "      <td>...</td>\n",
       "      <td>20.0</td>\n",
       "      <td>Regular customer</td>\n",
       "      <td>Female</td>\n",
       "      <td>Alabama</td>\n",
       "      <td>31</td>\n",
       "      <td>2/17/2019</td>\n",
       "      <td>3</td>\n",
       "      <td>married</td>\n",
       "      <td>40423</td>\n",
       "      <td>77</td>\n",
       "    </tr>\n",
       "    <tr>\n",
       "      <th>3</th>\n",
       "      <td>2254736</td>\n",
       "      <td>1</td>\n",
       "      <td>4</td>\n",
       "      <td>4</td>\n",
       "      <td>7</td>\n",
       "      <td>29</td>\n",
       "      <td>196</td>\n",
       "      <td>1</td>\n",
       "      <td>1</td>\n",
       "      <td>Soda</td>\n",
       "      <td>...</td>\n",
       "      <td>20.0</td>\n",
       "      <td>Regular customer</td>\n",
       "      <td>Female</td>\n",
       "      <td>Alabama</td>\n",
       "      <td>31</td>\n",
       "      <td>2/17/2019</td>\n",
       "      <td>3</td>\n",
       "      <td>married</td>\n",
       "      <td>40423</td>\n",
       "      <td>77</td>\n",
       "    </tr>\n",
       "    <tr>\n",
       "      <th>4</th>\n",
       "      <td>431534</td>\n",
       "      <td>1</td>\n",
       "      <td>5</td>\n",
       "      <td>4</td>\n",
       "      <td>15</td>\n",
       "      <td>28</td>\n",
       "      <td>196</td>\n",
       "      <td>1</td>\n",
       "      <td>1</td>\n",
       "      <td>Soda</td>\n",
       "      <td>...</td>\n",
       "      <td>20.0</td>\n",
       "      <td>Regular customer</td>\n",
       "      <td>Female</td>\n",
       "      <td>Alabama</td>\n",
       "      <td>31</td>\n",
       "      <td>2/17/2019</td>\n",
       "      <td>3</td>\n",
       "      <td>married</td>\n",
       "      <td>40423</td>\n",
       "      <td>77</td>\n",
       "    </tr>\n",
       "  </tbody>\n",
       "</table>\n",
       "<p>5 rows × 32 columns</p>\n",
       "</div>"
      ],
      "text/plain": [
       "   order_id user_id  order_number  orders_day_of_week  order_hour_of_day  \\\n",
       "0   2539329       1             1                   2                  8   \n",
       "1   2398795       1             2                   3                  7   \n",
       "2    473747       1             3                   3                 12   \n",
       "3   2254736       1             4                   4                  7   \n",
       "4    431534       1             5                   4                 15   \n",
       "\n",
       "   days_since_prior_order  product_id  add_to_cart_order  reordered  \\\n",
       "0                      11         196                  1          0   \n",
       "1                      15         196                  1          1   \n",
       "2                      21         196                  1          1   \n",
       "3                      29         196                  1          1   \n",
       "4                      28         196                  1          1   \n",
       "\n",
       "  product_name  ...  median_days_since_prior_order    frequency_flag  gender  \\\n",
       "0         Soda  ...                           20.0  Regular customer  Female   \n",
       "1         Soda  ...                           20.0  Regular customer  Female   \n",
       "2         Soda  ...                           20.0  Regular customer  Female   \n",
       "3         Soda  ...                           20.0  Regular customer  Female   \n",
       "4         Soda  ...                           20.0  Regular customer  Female   \n",
       "\n",
       "     state age date_joined family_members family_status  income aisle_id   \n",
       "0  Alabama  31   2/17/2019              3       married   40423        77  \n",
       "1  Alabama  31   2/17/2019              3       married   40423        77  \n",
       "2  Alabama  31   2/17/2019              3       married   40423        77  \n",
       "3  Alabama  31   2/17/2019              3       married   40423        77  \n",
       "4  Alabama  31   2/17/2019              3       married   40423        77  \n",
       "\n",
       "[5 rows x 32 columns]"
      ]
     },
     "execution_count": 15,
     "metadata": {},
     "output_type": "execute_result"
    }
   ],
   "source": [
    "# checking that columns were successfully dropped\n",
    "ords_prods_custo.head(5)"
   ]
  },
  {
   "cell_type": "code",
   "execution_count": 17,
   "id": "02bf4656",
   "metadata": {},
   "outputs": [],
   "source": [
    "# saving the dataframe  PII confirm data frame\n",
    "ords_prods_custo.to_pickle(os.path.join(path, '02 Data','02 Prepared Data','ords_prods_custo_PII.pkl'))"
   ]
  },
  {
   "cell_type": "code",
   "execution_count": 3,
   "id": "5a0a7d02",
   "metadata": {},
   "outputs": [],
   "source": [
    "# import of orders_products_customers without first name and last name\n",
    "ords_prods_custo = pd.read_pickle(os.path.join(path, '02 Data', '02 Prepared Data', 'ords_prods_custo_PII.pkl'))"
   ]
  },
  {
   "cell_type": "markdown",
   "id": "9a9df110",
   "metadata": {},
   "source": [
    "## 3. Customer Behavior in different Geographic Areas"
   ]
  },
  {
   "cell_type": "markdown",
   "id": "01abfb3a",
   "metadata": {},
   "source": [
    "The Instacart officers are interested in comparing customer behavior in different geographic areas. Therefore we create a regional segmentation of the data and use the following region information: https://simple.wikipedia.org/wiki/List_of_regions_of_the_United_States\n",
    "\n",
    "In a second step we will determine whether there’s a difference in spending habits between the different U.S. regions. "
   ]
  },
  {
   "cell_type": "code",
   "execution_count": 4,
   "id": "725fc890",
   "metadata": {},
   "outputs": [],
   "source": [
    "# creating 4 different regions\n",
    "\n",
    "northeast = ['Maine','New Hampshire','Vermont','Massachusetts','Rhode Island','Connecticut','New York','Pennsylvania','New Jersey']\n",
    "midwest = ['Wisconsin','Michigan','Illinois','Indiana','Ohio','North Dakota','South Dakota','Nebraska','Kansas','Minnesota','Iowa','Missouri']\n",
    "south = ['Delaware','Maryland','District of Columbia','Virginia','West Virginia','North Carolina','South Carolina','Georgia','Florida','Kentucky', 'Tennessee','Mississippi','Alabama','Oklahoma','Texas','Arkansas','Louisiana']\n",
    "west = ['Idaho','Montana','Wyoming','Nevada','Utah','Colorado','Arizona','New Mexico','Alaska','Washington','Oregon','California','Hawaii']"
   ]
  },
  {
   "cell_type": "code",
   "execution_count": 5,
   "id": "14263f3b",
   "metadata": {},
   "outputs": [],
   "source": [
    "# creating region flags with loc\n",
    "\n",
    "ords_prods_custo.loc[ords_prods_custo['state'].isin(northeast), 'region'] = 'Northeast'\n",
    "ords_prods_custo.loc[ords_prods_custo['state'].isin(midwest), 'region'] = 'Midwest'\n",
    "ords_prods_custo.loc[ords_prods_custo['state'].isin(south), 'region'] = 'South'\n",
    "ords_prods_custo.loc[ords_prods_custo['state'].isin(west), 'region'] = 'West'"
   ]
  },
  {
   "cell_type": "code",
   "execution_count": 6,
   "id": "e66feafa",
   "metadata": {},
   "outputs": [
    {
     "data": {
      "text/plain": [
       "South        10198982\n",
       "West          7831810\n",
       "Midwest       7176924\n",
       "Northeast     5422025\n",
       "Name: region, dtype: int64"
      ]
     },
     "execution_count": 6,
     "metadata": {},
     "output_type": "execute_result"
    }
   ],
   "source": [
    "# checking the frequency of the diffrent regions\n",
    "ords_prods_custo['region'].value_counts(dropna = False)"
   ]
  },
  {
   "cell_type": "code",
   "execution_count": 7,
   "id": "c201fa41",
   "metadata": {},
   "outputs": [
    {
     "data": {
      "text/html": [
       "<div>\n",
       "<style scoped>\n",
       "    .dataframe tbody tr th:only-of-type {\n",
       "        vertical-align: middle;\n",
       "    }\n",
       "\n",
       "    .dataframe tbody tr th {\n",
       "        vertical-align: top;\n",
       "    }\n",
       "\n",
       "    .dataframe thead th {\n",
       "        text-align: right;\n",
       "    }\n",
       "</style>\n",
       "<table border=\"1\" class=\"dataframe\">\n",
       "  <thead>\n",
       "    <tr style=\"text-align: right;\">\n",
       "      <th></th>\n",
       "      <th>order_id</th>\n",
       "      <th>user_id</th>\n",
       "      <th>order_number</th>\n",
       "      <th>orders_day_of_week</th>\n",
       "      <th>order_hour_of_day</th>\n",
       "      <th>days_since_prior_order</th>\n",
       "      <th>product_id</th>\n",
       "      <th>add_to_cart_order</th>\n",
       "      <th>reordered</th>\n",
       "      <th>product_name</th>\n",
       "      <th>...</th>\n",
       "      <th>frequency_flag</th>\n",
       "      <th>gender</th>\n",
       "      <th>state</th>\n",
       "      <th>age</th>\n",
       "      <th>date_joined</th>\n",
       "      <th>family_members</th>\n",
       "      <th>family_status</th>\n",
       "      <th>income</th>\n",
       "      <th>aisle_id</th>\n",
       "      <th>region</th>\n",
       "    </tr>\n",
       "  </thead>\n",
       "  <tbody>\n",
       "    <tr>\n",
       "      <th>0</th>\n",
       "      <td>2539329</td>\n",
       "      <td>1</td>\n",
       "      <td>1</td>\n",
       "      <td>2</td>\n",
       "      <td>8</td>\n",
       "      <td>11</td>\n",
       "      <td>196</td>\n",
       "      <td>1</td>\n",
       "      <td>0</td>\n",
       "      <td>Soda</td>\n",
       "      <td>...</td>\n",
       "      <td>Regular customer</td>\n",
       "      <td>Female</td>\n",
       "      <td>Alabama</td>\n",
       "      <td>31</td>\n",
       "      <td>2/17/2019</td>\n",
       "      <td>3</td>\n",
       "      <td>married</td>\n",
       "      <td>40423</td>\n",
       "      <td>77</td>\n",
       "      <td>South</td>\n",
       "    </tr>\n",
       "    <tr>\n",
       "      <th>1</th>\n",
       "      <td>2398795</td>\n",
       "      <td>1</td>\n",
       "      <td>2</td>\n",
       "      <td>3</td>\n",
       "      <td>7</td>\n",
       "      <td>15</td>\n",
       "      <td>196</td>\n",
       "      <td>1</td>\n",
       "      <td>1</td>\n",
       "      <td>Soda</td>\n",
       "      <td>...</td>\n",
       "      <td>Regular customer</td>\n",
       "      <td>Female</td>\n",
       "      <td>Alabama</td>\n",
       "      <td>31</td>\n",
       "      <td>2/17/2019</td>\n",
       "      <td>3</td>\n",
       "      <td>married</td>\n",
       "      <td>40423</td>\n",
       "      <td>77</td>\n",
       "      <td>South</td>\n",
       "    </tr>\n",
       "    <tr>\n",
       "      <th>2</th>\n",
       "      <td>473747</td>\n",
       "      <td>1</td>\n",
       "      <td>3</td>\n",
       "      <td>3</td>\n",
       "      <td>12</td>\n",
       "      <td>21</td>\n",
       "      <td>196</td>\n",
       "      <td>1</td>\n",
       "      <td>1</td>\n",
       "      <td>Soda</td>\n",
       "      <td>...</td>\n",
       "      <td>Regular customer</td>\n",
       "      <td>Female</td>\n",
       "      <td>Alabama</td>\n",
       "      <td>31</td>\n",
       "      <td>2/17/2019</td>\n",
       "      <td>3</td>\n",
       "      <td>married</td>\n",
       "      <td>40423</td>\n",
       "      <td>77</td>\n",
       "      <td>South</td>\n",
       "    </tr>\n",
       "    <tr>\n",
       "      <th>3</th>\n",
       "      <td>2254736</td>\n",
       "      <td>1</td>\n",
       "      <td>4</td>\n",
       "      <td>4</td>\n",
       "      <td>7</td>\n",
       "      <td>29</td>\n",
       "      <td>196</td>\n",
       "      <td>1</td>\n",
       "      <td>1</td>\n",
       "      <td>Soda</td>\n",
       "      <td>...</td>\n",
       "      <td>Regular customer</td>\n",
       "      <td>Female</td>\n",
       "      <td>Alabama</td>\n",
       "      <td>31</td>\n",
       "      <td>2/17/2019</td>\n",
       "      <td>3</td>\n",
       "      <td>married</td>\n",
       "      <td>40423</td>\n",
       "      <td>77</td>\n",
       "      <td>South</td>\n",
       "    </tr>\n",
       "    <tr>\n",
       "      <th>4</th>\n",
       "      <td>431534</td>\n",
       "      <td>1</td>\n",
       "      <td>5</td>\n",
       "      <td>4</td>\n",
       "      <td>15</td>\n",
       "      <td>28</td>\n",
       "      <td>196</td>\n",
       "      <td>1</td>\n",
       "      <td>1</td>\n",
       "      <td>Soda</td>\n",
       "      <td>...</td>\n",
       "      <td>Regular customer</td>\n",
       "      <td>Female</td>\n",
       "      <td>Alabama</td>\n",
       "      <td>31</td>\n",
       "      <td>2/17/2019</td>\n",
       "      <td>3</td>\n",
       "      <td>married</td>\n",
       "      <td>40423</td>\n",
       "      <td>77</td>\n",
       "      <td>South</td>\n",
       "    </tr>\n",
       "  </tbody>\n",
       "</table>\n",
       "<p>5 rows × 33 columns</p>\n",
       "</div>"
      ],
      "text/plain": [
       "   order_id user_id  order_number  orders_day_of_week  order_hour_of_day  \\\n",
       "0   2539329       1             1                   2                  8   \n",
       "1   2398795       1             2                   3                  7   \n",
       "2    473747       1             3                   3                 12   \n",
       "3   2254736       1             4                   4                  7   \n",
       "4    431534       1             5                   4                 15   \n",
       "\n",
       "   days_since_prior_order  product_id  add_to_cart_order  reordered  \\\n",
       "0                      11         196                  1          0   \n",
       "1                      15         196                  1          1   \n",
       "2                      21         196                  1          1   \n",
       "3                      29         196                  1          1   \n",
       "4                      28         196                  1          1   \n",
       "\n",
       "  product_name  ...    frequency_flag  gender    state age date_joined  \\\n",
       "0         Soda  ...  Regular customer  Female  Alabama  31   2/17/2019   \n",
       "1         Soda  ...  Regular customer  Female  Alabama  31   2/17/2019   \n",
       "2         Soda  ...  Regular customer  Female  Alabama  31   2/17/2019   \n",
       "3         Soda  ...  Regular customer  Female  Alabama  31   2/17/2019   \n",
       "4         Soda  ...  Regular customer  Female  Alabama  31   2/17/2019   \n",
       "\n",
       "  family_members family_status income  aisle_id  region  \n",
       "0              3       married  40423         77  South  \n",
       "1              3       married  40423         77  South  \n",
       "2              3       married  40423         77  South  \n",
       "3              3       married  40423         77  South  \n",
       "4              3       married  40423         77  South  \n",
       "\n",
       "[5 rows x 33 columns]"
      ]
     },
     "execution_count": 7,
     "metadata": {},
     "output_type": "execute_result"
    }
   ],
   "source": [
    "# checking the new coloumn\n",
    "ords_prods_custo.head()"
   ]
  },
  {
   "cell_type": "code",
   "execution_count": 8,
   "id": "a400e720",
   "metadata": {},
   "outputs": [],
   "source": [
    "# Second Step\n",
    "# analysing regional spending differences with crosstab\n",
    "\n",
    "crosstab = pd.crosstab(ords_prods_custo['region'], ords_prods_custo['spender_flag'], dropna = False)"
   ]
  },
  {
   "cell_type": "code",
   "execution_count": 9,
   "id": "832a3d64",
   "metadata": {},
   "outputs": [
    {
     "data": {
      "text/html": [
       "<div>\n",
       "<style scoped>\n",
       "    .dataframe tbody tr th:only-of-type {\n",
       "        vertical-align: middle;\n",
       "    }\n",
       "\n",
       "    .dataframe tbody tr th {\n",
       "        vertical-align: top;\n",
       "    }\n",
       "\n",
       "    .dataframe thead th {\n",
       "        text-align: right;\n",
       "    }\n",
       "</style>\n",
       "<table border=\"1\" class=\"dataframe\">\n",
       "  <thead>\n",
       "    <tr style=\"text-align: right;\">\n",
       "      <th>spender_flag</th>\n",
       "      <th>High spender</th>\n",
       "      <th>Low spender</th>\n",
       "    </tr>\n",
       "    <tr>\n",
       "      <th>region</th>\n",
       "      <th></th>\n",
       "      <th></th>\n",
       "    </tr>\n",
       "  </thead>\n",
       "  <tbody>\n",
       "    <tr>\n",
       "      <th>Midwest</th>\n",
       "      <td>149817</td>\n",
       "      <td>7027107</td>\n",
       "    </tr>\n",
       "    <tr>\n",
       "      <th>Northeast</th>\n",
       "      <td>101420</td>\n",
       "      <td>5320605</td>\n",
       "    </tr>\n",
       "    <tr>\n",
       "      <th>South</th>\n",
       "      <td>196523</td>\n",
       "      <td>10002459</td>\n",
       "    </tr>\n",
       "    <tr>\n",
       "      <th>West</th>\n",
       "      <td>147803</td>\n",
       "      <td>7684007</td>\n",
       "    </tr>\n",
       "  </tbody>\n",
       "</table>\n",
       "</div>"
      ],
      "text/plain": [
       "spender_flag  High spender  Low spender\n",
       "region                                 \n",
       "Midwest             149817      7027107\n",
       "Northeast           101420      5320605\n",
       "South               196523     10002459\n",
       "West                147803      7684007"
      ]
     },
     "execution_count": 9,
     "metadata": {},
     "output_type": "execute_result"
    }
   ],
   "source": [
    "crosstab"
   ]
  },
  {
   "cell_type": "markdown",
   "id": "e061da3b",
   "metadata": {},
   "source": [
    "Expl.:"
   ]
  },
  {
   "cell_type": "markdown",
   "id": "97368140",
   "metadata": {},
   "source": [
    "## 4. Detecting Low-Activity Customers / Low Revenue "
   ]
  },
  {
   "cell_type": "markdown",
   "id": "fff78d14",
   "metadata": {},
   "source": [
    "As the CFO of Instacart is not really interested in those customer who do not generate a lot of revenue, we create a exclusion flag for customer with less than 5 orders and call them low-activity customer. All low-activity customer will be excluded from the data. For the sake of order we will export this sample. "
   ]
  },
  {
   "cell_type": "code",
   "execution_count": 10,
   "id": "e2902854",
   "metadata": {},
   "outputs": [],
   "source": [
    "ords_prods_custo.loc[ords_prods_custo['max_order'] > 5, 'activity_flag'] = 'High Activity'\n",
    "ords_prods_custo.loc[ords_prods_custo['max_order'] <= 5, 'activity_flag'] = 'Low Activity'"
   ]
  },
  {
   "cell_type": "code",
   "execution_count": 11,
   "id": "a01ba204",
   "metadata": {},
   "outputs": [
    {
     "data": {
      "text/plain": [
       "High Activity    28521639\n",
       "Low Activity      2108102\n",
       "Name: activity_flag, dtype: int64"
      ]
     },
     "execution_count": 11,
     "metadata": {},
     "output_type": "execute_result"
    }
   ],
   "source": [
    "# checking the freqeuency of the diffrent flags\n",
    "ords_prods_custo['activity_flag'].value_counts(dropna = False)"
   ]
  },
  {
   "cell_type": "code",
   "execution_count": 12,
   "id": "77b48c2a",
   "metadata": {},
   "outputs": [
    {
     "data": {
      "text/html": [
       "<div>\n",
       "<style scoped>\n",
       "    .dataframe tbody tr th:only-of-type {\n",
       "        vertical-align: middle;\n",
       "    }\n",
       "\n",
       "    .dataframe tbody tr th {\n",
       "        vertical-align: top;\n",
       "    }\n",
       "\n",
       "    .dataframe thead th {\n",
       "        text-align: right;\n",
       "    }\n",
       "</style>\n",
       "<table border=\"1\" class=\"dataframe\">\n",
       "  <thead>\n",
       "    <tr style=\"text-align: right;\">\n",
       "      <th></th>\n",
       "      <th>order_id</th>\n",
       "      <th>user_id</th>\n",
       "      <th>order_number</th>\n",
       "      <th>orders_day_of_week</th>\n",
       "      <th>order_hour_of_day</th>\n",
       "      <th>days_since_prior_order</th>\n",
       "      <th>product_id</th>\n",
       "      <th>add_to_cart_order</th>\n",
       "      <th>reordered</th>\n",
       "      <th>product_name</th>\n",
       "      <th>...</th>\n",
       "      <th>gender</th>\n",
       "      <th>state</th>\n",
       "      <th>age</th>\n",
       "      <th>date_joined</th>\n",
       "      <th>family_members</th>\n",
       "      <th>family_status</th>\n",
       "      <th>income</th>\n",
       "      <th>aisle_id</th>\n",
       "      <th>region</th>\n",
       "      <th>activity_flag</th>\n",
       "    </tr>\n",
       "  </thead>\n",
       "  <tbody>\n",
       "    <tr>\n",
       "      <th>0</th>\n",
       "      <td>2539329</td>\n",
       "      <td>1</td>\n",
       "      <td>1</td>\n",
       "      <td>2</td>\n",
       "      <td>8</td>\n",
       "      <td>11</td>\n",
       "      <td>196</td>\n",
       "      <td>1</td>\n",
       "      <td>0</td>\n",
       "      <td>Soda</td>\n",
       "      <td>...</td>\n",
       "      <td>Female</td>\n",
       "      <td>Alabama</td>\n",
       "      <td>31</td>\n",
       "      <td>2/17/2019</td>\n",
       "      <td>3</td>\n",
       "      <td>married</td>\n",
       "      <td>40423</td>\n",
       "      <td>77</td>\n",
       "      <td>South</td>\n",
       "      <td>High Activity</td>\n",
       "    </tr>\n",
       "    <tr>\n",
       "      <th>1</th>\n",
       "      <td>2398795</td>\n",
       "      <td>1</td>\n",
       "      <td>2</td>\n",
       "      <td>3</td>\n",
       "      <td>7</td>\n",
       "      <td>15</td>\n",
       "      <td>196</td>\n",
       "      <td>1</td>\n",
       "      <td>1</td>\n",
       "      <td>Soda</td>\n",
       "      <td>...</td>\n",
       "      <td>Female</td>\n",
       "      <td>Alabama</td>\n",
       "      <td>31</td>\n",
       "      <td>2/17/2019</td>\n",
       "      <td>3</td>\n",
       "      <td>married</td>\n",
       "      <td>40423</td>\n",
       "      <td>77</td>\n",
       "      <td>South</td>\n",
       "      <td>High Activity</td>\n",
       "    </tr>\n",
       "    <tr>\n",
       "      <th>2</th>\n",
       "      <td>473747</td>\n",
       "      <td>1</td>\n",
       "      <td>3</td>\n",
       "      <td>3</td>\n",
       "      <td>12</td>\n",
       "      <td>21</td>\n",
       "      <td>196</td>\n",
       "      <td>1</td>\n",
       "      <td>1</td>\n",
       "      <td>Soda</td>\n",
       "      <td>...</td>\n",
       "      <td>Female</td>\n",
       "      <td>Alabama</td>\n",
       "      <td>31</td>\n",
       "      <td>2/17/2019</td>\n",
       "      <td>3</td>\n",
       "      <td>married</td>\n",
       "      <td>40423</td>\n",
       "      <td>77</td>\n",
       "      <td>South</td>\n",
       "      <td>High Activity</td>\n",
       "    </tr>\n",
       "    <tr>\n",
       "      <th>3</th>\n",
       "      <td>2254736</td>\n",
       "      <td>1</td>\n",
       "      <td>4</td>\n",
       "      <td>4</td>\n",
       "      <td>7</td>\n",
       "      <td>29</td>\n",
       "      <td>196</td>\n",
       "      <td>1</td>\n",
       "      <td>1</td>\n",
       "      <td>Soda</td>\n",
       "      <td>...</td>\n",
       "      <td>Female</td>\n",
       "      <td>Alabama</td>\n",
       "      <td>31</td>\n",
       "      <td>2/17/2019</td>\n",
       "      <td>3</td>\n",
       "      <td>married</td>\n",
       "      <td>40423</td>\n",
       "      <td>77</td>\n",
       "      <td>South</td>\n",
       "      <td>High Activity</td>\n",
       "    </tr>\n",
       "    <tr>\n",
       "      <th>4</th>\n",
       "      <td>431534</td>\n",
       "      <td>1</td>\n",
       "      <td>5</td>\n",
       "      <td>4</td>\n",
       "      <td>15</td>\n",
       "      <td>28</td>\n",
       "      <td>196</td>\n",
       "      <td>1</td>\n",
       "      <td>1</td>\n",
       "      <td>Soda</td>\n",
       "      <td>...</td>\n",
       "      <td>Female</td>\n",
       "      <td>Alabama</td>\n",
       "      <td>31</td>\n",
       "      <td>2/17/2019</td>\n",
       "      <td>3</td>\n",
       "      <td>married</td>\n",
       "      <td>40423</td>\n",
       "      <td>77</td>\n",
       "      <td>South</td>\n",
       "      <td>High Activity</td>\n",
       "    </tr>\n",
       "  </tbody>\n",
       "</table>\n",
       "<p>5 rows × 34 columns</p>\n",
       "</div>"
      ],
      "text/plain": [
       "   order_id user_id  order_number  orders_day_of_week  order_hour_of_day  \\\n",
       "0   2539329       1             1                   2                  8   \n",
       "1   2398795       1             2                   3                  7   \n",
       "2    473747       1             3                   3                 12   \n",
       "3   2254736       1             4                   4                  7   \n",
       "4    431534       1             5                   4                 15   \n",
       "\n",
       "   days_since_prior_order  product_id  add_to_cart_order  reordered  \\\n",
       "0                      11         196                  1          0   \n",
       "1                      15         196                  1          1   \n",
       "2                      21         196                  1          1   \n",
       "3                      29         196                  1          1   \n",
       "4                      28         196                  1          1   \n",
       "\n",
       "  product_name  ...  gender    state  age date_joined family_members  \\\n",
       "0         Soda  ...  Female  Alabama   31   2/17/2019              3   \n",
       "1         Soda  ...  Female  Alabama   31   2/17/2019              3   \n",
       "2         Soda  ...  Female  Alabama   31   2/17/2019              3   \n",
       "3         Soda  ...  Female  Alabama   31   2/17/2019              3   \n",
       "4         Soda  ...  Female  Alabama   31   2/17/2019              3   \n",
       "\n",
       "  family_status income aisle_id   region  activity_flag  \n",
       "0       married  40423        77   South  High Activity  \n",
       "1       married  40423        77   South  High Activity  \n",
       "2       married  40423        77   South  High Activity  \n",
       "3       married  40423        77   South  High Activity  \n",
       "4       married  40423        77   South  High Activity  \n",
       "\n",
       "[5 rows x 34 columns]"
      ]
     },
     "execution_count": 12,
     "metadata": {},
     "output_type": "execute_result"
    }
   ],
   "source": [
    "# checking new column\n",
    "ords_prods_custo.head()"
   ]
  },
  {
   "cell_type": "code",
   "execution_count": 13,
   "id": "369f6fc1",
   "metadata": {},
   "outputs": [],
   "source": [
    "# creating low activity dataframe\n",
    "\n",
    "df_low_activity = ords_prods_custo[ords_prods_custo['activity_flag'] == 'Low Activity']"
   ]
  },
  {
   "cell_type": "code",
   "execution_count": 14,
   "id": "204304ff",
   "metadata": {},
   "outputs": [
    {
     "data": {
      "text/html": [
       "<div>\n",
       "<style scoped>\n",
       "    .dataframe tbody tr th:only-of-type {\n",
       "        vertical-align: middle;\n",
       "    }\n",
       "\n",
       "    .dataframe tbody tr th {\n",
       "        vertical-align: top;\n",
       "    }\n",
       "\n",
       "    .dataframe thead th {\n",
       "        text-align: right;\n",
       "    }\n",
       "</style>\n",
       "<table border=\"1\" class=\"dataframe\">\n",
       "  <thead>\n",
       "    <tr style=\"text-align: right;\">\n",
       "      <th></th>\n",
       "      <th>order_id</th>\n",
       "      <th>user_id</th>\n",
       "      <th>order_number</th>\n",
       "      <th>orders_day_of_week</th>\n",
       "      <th>order_hour_of_day</th>\n",
       "      <th>days_since_prior_order</th>\n",
       "      <th>product_id</th>\n",
       "      <th>add_to_cart_order</th>\n",
       "      <th>reordered</th>\n",
       "      <th>product_name</th>\n",
       "      <th>...</th>\n",
       "      <th>gender</th>\n",
       "      <th>state</th>\n",
       "      <th>age</th>\n",
       "      <th>date_joined</th>\n",
       "      <th>family_members</th>\n",
       "      <th>family_status</th>\n",
       "      <th>income</th>\n",
       "      <th>aisle_id</th>\n",
       "      <th>region</th>\n",
       "      <th>activity_flag</th>\n",
       "    </tr>\n",
       "  </thead>\n",
       "  <tbody>\n",
       "    <tr>\n",
       "      <th>1484</th>\n",
       "      <td>520620</td>\n",
       "      <td>120</td>\n",
       "      <td>1</td>\n",
       "      <td>3</td>\n",
       "      <td>11</td>\n",
       "      <td>11</td>\n",
       "      <td>196</td>\n",
       "      <td>2</td>\n",
       "      <td>0</td>\n",
       "      <td>Soda</td>\n",
       "      <td>...</td>\n",
       "      <td>Female</td>\n",
       "      <td>Kentucky</td>\n",
       "      <td>54</td>\n",
       "      <td>3/2/2017</td>\n",
       "      <td>2</td>\n",
       "      <td>married</td>\n",
       "      <td>99219</td>\n",
       "      <td>77</td>\n",
       "      <td>South</td>\n",
       "      <td>Low Activity</td>\n",
       "    </tr>\n",
       "    <tr>\n",
       "      <th>1485</th>\n",
       "      <td>3273029</td>\n",
       "      <td>120</td>\n",
       "      <td>3</td>\n",
       "      <td>2</td>\n",
       "      <td>8</td>\n",
       "      <td>19</td>\n",
       "      <td>196</td>\n",
       "      <td>2</td>\n",
       "      <td>1</td>\n",
       "      <td>Soda</td>\n",
       "      <td>...</td>\n",
       "      <td>Female</td>\n",
       "      <td>Kentucky</td>\n",
       "      <td>54</td>\n",
       "      <td>3/2/2017</td>\n",
       "      <td>2</td>\n",
       "      <td>married</td>\n",
       "      <td>99219</td>\n",
       "      <td>77</td>\n",
       "      <td>South</td>\n",
       "      <td>Low Activity</td>\n",
       "    </tr>\n",
       "    <tr>\n",
       "      <th>1486</th>\n",
       "      <td>520620</td>\n",
       "      <td>120</td>\n",
       "      <td>1</td>\n",
       "      <td>3</td>\n",
       "      <td>11</td>\n",
       "      <td>11</td>\n",
       "      <td>46149</td>\n",
       "      <td>1</td>\n",
       "      <td>0</td>\n",
       "      <td>Zero Calorie Cola</td>\n",
       "      <td>...</td>\n",
       "      <td>Female</td>\n",
       "      <td>Kentucky</td>\n",
       "      <td>54</td>\n",
       "      <td>3/2/2017</td>\n",
       "      <td>2</td>\n",
       "      <td>married</td>\n",
       "      <td>99219</td>\n",
       "      <td>77</td>\n",
       "      <td>South</td>\n",
       "      <td>Low Activity</td>\n",
       "    </tr>\n",
       "    <tr>\n",
       "      <th>1487</th>\n",
       "      <td>3273029</td>\n",
       "      <td>120</td>\n",
       "      <td>3</td>\n",
       "      <td>2</td>\n",
       "      <td>8</td>\n",
       "      <td>19</td>\n",
       "      <td>46149</td>\n",
       "      <td>1</td>\n",
       "      <td>1</td>\n",
       "      <td>Zero Calorie Cola</td>\n",
       "      <td>...</td>\n",
       "      <td>Female</td>\n",
       "      <td>Kentucky</td>\n",
       "      <td>54</td>\n",
       "      <td>3/2/2017</td>\n",
       "      <td>2</td>\n",
       "      <td>married</td>\n",
       "      <td>99219</td>\n",
       "      <td>77</td>\n",
       "      <td>South</td>\n",
       "      <td>Low Activity</td>\n",
       "    </tr>\n",
       "    <tr>\n",
       "      <th>1488</th>\n",
       "      <td>520620</td>\n",
       "      <td>120</td>\n",
       "      <td>1</td>\n",
       "      <td>3</td>\n",
       "      <td>11</td>\n",
       "      <td>11</td>\n",
       "      <td>26348</td>\n",
       "      <td>3</td>\n",
       "      <td>0</td>\n",
       "      <td>Mixed Fruit Fruit Snacks</td>\n",
       "      <td>...</td>\n",
       "      <td>Female</td>\n",
       "      <td>Kentucky</td>\n",
       "      <td>54</td>\n",
       "      <td>3/2/2017</td>\n",
       "      <td>2</td>\n",
       "      <td>married</td>\n",
       "      <td>99219</td>\n",
       "      <td>50</td>\n",
       "      <td>South</td>\n",
       "      <td>Low Activity</td>\n",
       "    </tr>\n",
       "  </tbody>\n",
       "</table>\n",
       "<p>5 rows × 34 columns</p>\n",
       "</div>"
      ],
      "text/plain": [
       "      order_id user_id  order_number  orders_day_of_week  order_hour_of_day  \\\n",
       "1484    520620     120             1                   3                 11   \n",
       "1485   3273029     120             3                   2                  8   \n",
       "1486    520620     120             1                   3                 11   \n",
       "1487   3273029     120             3                   2                  8   \n",
       "1488    520620     120             1                   3                 11   \n",
       "\n",
       "      days_since_prior_order  product_id  add_to_cart_order  reordered  \\\n",
       "1484                      11         196                  2          0   \n",
       "1485                      19         196                  2          1   \n",
       "1486                      11       46149                  1          0   \n",
       "1487                      19       46149                  1          1   \n",
       "1488                      11       26348                  3          0   \n",
       "\n",
       "                  product_name  ...  gender     state  age date_joined  \\\n",
       "1484                      Soda  ...  Female  Kentucky   54    3/2/2017   \n",
       "1485                      Soda  ...  Female  Kentucky   54    3/2/2017   \n",
       "1486         Zero Calorie Cola  ...  Female  Kentucky   54    3/2/2017   \n",
       "1487         Zero Calorie Cola  ...  Female  Kentucky   54    3/2/2017   \n",
       "1488  Mixed Fruit Fruit Snacks  ...  Female  Kentucky   54    3/2/2017   \n",
       "\n",
       "     family_members family_status income aisle_id   region activity_flag  \n",
       "1484              2       married  99219        77   South  Low Activity  \n",
       "1485              2       married  99219        77   South  Low Activity  \n",
       "1486              2       married  99219        77   South  Low Activity  \n",
       "1487              2       married  99219        77   South  Low Activity  \n",
       "1488              2       married  99219        50   South  Low Activity  \n",
       "\n",
       "[5 rows x 34 columns]"
      ]
     },
     "execution_count": 14,
     "metadata": {},
     "output_type": "execute_result"
    }
   ],
   "source": [
    "df_low_activity.head()"
   ]
  },
  {
   "cell_type": "code",
   "execution_count": 15,
   "id": "57fcbf47",
   "metadata": {},
   "outputs": [],
   "source": [
    "# exporting the data set of low-activity customer sample\n",
    "\n",
    "df_low_activity.to_pickle(os.path.join(path,'02 Data','02 Prepared Data','low_activity_customer_sample.pkl'))"
   ]
  },
  {
   "cell_type": "code",
   "execution_count": 16,
   "id": "aca45038",
   "metadata": {},
   "outputs": [],
   "source": [
    "# creating a new data set of high activity customer only\n",
    "\n",
    "df_high_activity = ords_prods_custo[ords_prods_custo['activity_flag'] == 'High Activity']"
   ]
  },
  {
   "cell_type": "code",
   "execution_count": 17,
   "id": "75d161c0",
   "metadata": {},
   "outputs": [
    {
     "data": {
      "text/html": [
       "<div>\n",
       "<style scoped>\n",
       "    .dataframe tbody tr th:only-of-type {\n",
       "        vertical-align: middle;\n",
       "    }\n",
       "\n",
       "    .dataframe tbody tr th {\n",
       "        vertical-align: top;\n",
       "    }\n",
       "\n",
       "    .dataframe thead th {\n",
       "        text-align: right;\n",
       "    }\n",
       "</style>\n",
       "<table border=\"1\" class=\"dataframe\">\n",
       "  <thead>\n",
       "    <tr style=\"text-align: right;\">\n",
       "      <th></th>\n",
       "      <th>order_id</th>\n",
       "      <th>user_id</th>\n",
       "      <th>order_number</th>\n",
       "      <th>orders_day_of_week</th>\n",
       "      <th>order_hour_of_day</th>\n",
       "      <th>days_since_prior_order</th>\n",
       "      <th>product_id</th>\n",
       "      <th>add_to_cart_order</th>\n",
       "      <th>reordered</th>\n",
       "      <th>product_name</th>\n",
       "      <th>...</th>\n",
       "      <th>gender</th>\n",
       "      <th>state</th>\n",
       "      <th>age</th>\n",
       "      <th>date_joined</th>\n",
       "      <th>family_members</th>\n",
       "      <th>family_status</th>\n",
       "      <th>income</th>\n",
       "      <th>aisle_id</th>\n",
       "      <th>region</th>\n",
       "      <th>activity_flag</th>\n",
       "    </tr>\n",
       "  </thead>\n",
       "  <tbody>\n",
       "    <tr>\n",
       "      <th>0</th>\n",
       "      <td>2539329</td>\n",
       "      <td>1</td>\n",
       "      <td>1</td>\n",
       "      <td>2</td>\n",
       "      <td>8</td>\n",
       "      <td>11</td>\n",
       "      <td>196</td>\n",
       "      <td>1</td>\n",
       "      <td>0</td>\n",
       "      <td>Soda</td>\n",
       "      <td>...</td>\n",
       "      <td>Female</td>\n",
       "      <td>Alabama</td>\n",
       "      <td>31</td>\n",
       "      <td>2/17/2019</td>\n",
       "      <td>3</td>\n",
       "      <td>married</td>\n",
       "      <td>40423</td>\n",
       "      <td>77</td>\n",
       "      <td>South</td>\n",
       "      <td>High Activity</td>\n",
       "    </tr>\n",
       "    <tr>\n",
       "      <th>1</th>\n",
       "      <td>2398795</td>\n",
       "      <td>1</td>\n",
       "      <td>2</td>\n",
       "      <td>3</td>\n",
       "      <td>7</td>\n",
       "      <td>15</td>\n",
       "      <td>196</td>\n",
       "      <td>1</td>\n",
       "      <td>1</td>\n",
       "      <td>Soda</td>\n",
       "      <td>...</td>\n",
       "      <td>Female</td>\n",
       "      <td>Alabama</td>\n",
       "      <td>31</td>\n",
       "      <td>2/17/2019</td>\n",
       "      <td>3</td>\n",
       "      <td>married</td>\n",
       "      <td>40423</td>\n",
       "      <td>77</td>\n",
       "      <td>South</td>\n",
       "      <td>High Activity</td>\n",
       "    </tr>\n",
       "    <tr>\n",
       "      <th>2</th>\n",
       "      <td>473747</td>\n",
       "      <td>1</td>\n",
       "      <td>3</td>\n",
       "      <td>3</td>\n",
       "      <td>12</td>\n",
       "      <td>21</td>\n",
       "      <td>196</td>\n",
       "      <td>1</td>\n",
       "      <td>1</td>\n",
       "      <td>Soda</td>\n",
       "      <td>...</td>\n",
       "      <td>Female</td>\n",
       "      <td>Alabama</td>\n",
       "      <td>31</td>\n",
       "      <td>2/17/2019</td>\n",
       "      <td>3</td>\n",
       "      <td>married</td>\n",
       "      <td>40423</td>\n",
       "      <td>77</td>\n",
       "      <td>South</td>\n",
       "      <td>High Activity</td>\n",
       "    </tr>\n",
       "    <tr>\n",
       "      <th>3</th>\n",
       "      <td>2254736</td>\n",
       "      <td>1</td>\n",
       "      <td>4</td>\n",
       "      <td>4</td>\n",
       "      <td>7</td>\n",
       "      <td>29</td>\n",
       "      <td>196</td>\n",
       "      <td>1</td>\n",
       "      <td>1</td>\n",
       "      <td>Soda</td>\n",
       "      <td>...</td>\n",
       "      <td>Female</td>\n",
       "      <td>Alabama</td>\n",
       "      <td>31</td>\n",
       "      <td>2/17/2019</td>\n",
       "      <td>3</td>\n",
       "      <td>married</td>\n",
       "      <td>40423</td>\n",
       "      <td>77</td>\n",
       "      <td>South</td>\n",
       "      <td>High Activity</td>\n",
       "    </tr>\n",
       "    <tr>\n",
       "      <th>4</th>\n",
       "      <td>431534</td>\n",
       "      <td>1</td>\n",
       "      <td>5</td>\n",
       "      <td>4</td>\n",
       "      <td>15</td>\n",
       "      <td>28</td>\n",
       "      <td>196</td>\n",
       "      <td>1</td>\n",
       "      <td>1</td>\n",
       "      <td>Soda</td>\n",
       "      <td>...</td>\n",
       "      <td>Female</td>\n",
       "      <td>Alabama</td>\n",
       "      <td>31</td>\n",
       "      <td>2/17/2019</td>\n",
       "      <td>3</td>\n",
       "      <td>married</td>\n",
       "      <td>40423</td>\n",
       "      <td>77</td>\n",
       "      <td>South</td>\n",
       "      <td>High Activity</td>\n",
       "    </tr>\n",
       "  </tbody>\n",
       "</table>\n",
       "<p>5 rows × 34 columns</p>\n",
       "</div>"
      ],
      "text/plain": [
       "   order_id user_id  order_number  orders_day_of_week  order_hour_of_day  \\\n",
       "0   2539329       1             1                   2                  8   \n",
       "1   2398795       1             2                   3                  7   \n",
       "2    473747       1             3                   3                 12   \n",
       "3   2254736       1             4                   4                  7   \n",
       "4    431534       1             5                   4                 15   \n",
       "\n",
       "   days_since_prior_order  product_id  add_to_cart_order  reordered  \\\n",
       "0                      11         196                  1          0   \n",
       "1                      15         196                  1          1   \n",
       "2                      21         196                  1          1   \n",
       "3                      29         196                  1          1   \n",
       "4                      28         196                  1          1   \n",
       "\n",
       "  product_name  ...  gender    state  age date_joined family_members  \\\n",
       "0         Soda  ...  Female  Alabama   31   2/17/2019              3   \n",
       "1         Soda  ...  Female  Alabama   31   2/17/2019              3   \n",
       "2         Soda  ...  Female  Alabama   31   2/17/2019              3   \n",
       "3         Soda  ...  Female  Alabama   31   2/17/2019              3   \n",
       "4         Soda  ...  Female  Alabama   31   2/17/2019              3   \n",
       "\n",
       "  family_status income aisle_id   region  activity_flag  \n",
       "0       married  40423        77   South  High Activity  \n",
       "1       married  40423        77   South  High Activity  \n",
       "2       married  40423        77   South  High Activity  \n",
       "3       married  40423        77   South  High Activity  \n",
       "4       married  40423        77   South  High Activity  \n",
       "\n",
       "[5 rows x 34 columns]"
      ]
     },
     "execution_count": 17,
     "metadata": {},
     "output_type": "execute_result"
    }
   ],
   "source": [
    "df_high_activity.head()"
   ]
  },
  {
   "cell_type": "code",
   "execution_count": 18,
   "id": "b6f67f2b",
   "metadata": {},
   "outputs": [],
   "source": [
    "# exporting the high activity customer sample\n",
    "df_high_activity.to_pickle(os.path.join(path,'02 Data','02 Prepared Data','high_activity_customer_sample.pkl'))"
   ]
  },
  {
   "cell_type": "code",
   "execution_count": 4,
   "id": "84dd32b5",
   "metadata": {},
   "outputs": [],
   "source": [
    "# import of df_high_activity\n",
    "df = pd.read_pickle(os.path.join(path,'02 Data','02 Prepared Data','high_activity_customer_sample.pkl'))"
   ]
  },
  {
   "cell_type": "markdown",
   "id": "5c1fc775",
   "metadata": {},
   "source": []
  },
  {
   "cell_type": "code",
   "execution_count": 5,
   "id": "9c1d7bb2",
   "metadata": {},
   "outputs": [
    {
     "data": {
      "text/plain": [
       "(28521639, 34)"
      ]
     },
     "execution_count": 5,
     "metadata": {},
     "output_type": "execute_result"
    }
   ],
   "source": [
    "df.shape"
   ]
  },
  {
   "cell_type": "code",
   "execution_count": 8,
   "id": "767efc1c",
   "metadata": {},
   "outputs": [
    {
     "data": {
      "text/plain": [
       "South        9500287\n",
       "West         7298089\n",
       "Midwest      6679086\n",
       "Northeast    5044177\n",
       "Name: region, dtype: int64"
      ]
     },
     "execution_count": 8,
     "metadata": {},
     "output_type": "execute_result"
    }
   ],
   "source": [
    "df['region'].value_counts(dropna = False)"
   ]
  },
  {
   "cell_type": "code",
   "execution_count": 9,
   "id": "af2f77f0",
   "metadata": {},
   "outputs": [
    {
     "data": {
      "text/plain": [
       "Regular customer    15020190\n",
       "Loyal customer       9707390\n",
       "New customer         3794059\n",
       "Name: loyalty_flag, dtype: int64"
      ]
     },
     "execution_count": 9,
     "metadata": {},
     "output_type": "execute_result"
    }
   ],
   "source": [
    "df['loyalty_flag'].value_counts(dropna = False)"
   ]
  },
  {
   "cell_type": "markdown",
   "id": "f59097c3",
   "metadata": {},
   "source": [
    "## 5. Marketing & Business: Customer Profiling"
   ]
  },
  {
   "cell_type": "markdown",
   "id": "f1f564d1",
   "metadata": {},
   "source": [
    "The marketing and business strategy units at Instacart want to create more-relevant marketing strategies for different products and are, thus, curious about customer profiling in their database. Therefore, we create different customer profiles. (brand loyalty, do ordering habits differ based on customer loyalty, region or is there a connection between age and family status? - Consider the price of orders, the frequency of orders, the products customers are ordering)\n",
    "\n",
    "Profiles: \n",
    "- Age Groups: Young Adult , Adult, Senior\n",
    "- Income Group: low income < 40.000, middle income > 40.000 & < 100.000, high income >100.000\n",
    "- Family Status: family_members >= 1 = parent, family_members = 0 = childless\n",
    "- Departments: \n",
    "    Babies (18) + Family Status = parent = Young Family\n",
    "    Bulk (10) + Family Status = parent = Big Family\n",
    "    No Meat / Seafood (12) = Vegetarian\n",
    "    Pets (8) = Pet-owner"
   ]
  },
  {
   "cell_type": "markdown",
   "id": "371c08b2",
   "metadata": {},
   "source": [
    "#### Profile: Age Groups "
   ]
  },
  {
   "cell_type": "code",
   "execution_count": 6,
   "id": "7dc95329",
   "metadata": {},
   "outputs": [],
   "source": [
    "# creating age group flags\n",
    "\n",
    "df.loc[df['age'] <= 30, 'age_group_flag'] = 'Young Adult'\n",
    "df.loc[(df['age'] > 30) & (df['age'] < 65), 'age_group_flag'] = 'Adult'\n",
    "df.loc[df['age'] > 65, 'age_group_flag'] = 'Senior'"
   ]
  },
  {
   "cell_type": "code",
   "execution_count": 7,
   "id": "b0b542af",
   "metadata": {},
   "outputs": [
    {
     "data": {
      "text/plain": [
       "Adult          15175045\n",
       "Senior          7123839\n",
       "Young Adult     5801222\n",
       "Name: age_group_flag, dtype: int64"
      ]
     },
     "execution_count": 7,
     "metadata": {},
     "output_type": "execute_result"
    }
   ],
   "source": [
    "# age group flag frequency\n",
    "df['age_group_flag'].value_counts()"
   ]
  },
  {
   "cell_type": "code",
   "execution_count": null,
   "id": "9c143b97",
   "metadata": {},
   "outputs": [],
   "source": []
  },
  {
   "cell_type": "markdown",
   "id": "3946177d",
   "metadata": {},
   "source": [
    "#### Profile: Income Groups "
   ]
  },
  {
   "cell_type": "code",
   "execution_count": 6,
   "id": "2ce48cfa",
   "metadata": {},
   "outputs": [],
   "source": [
    "# creating income group flags\n",
    "\n",
    "df.loc[df['income'] <= 40000, 'income_group_flag'] = 'Low income'\n",
    "df.loc[(df['income'] > 40000) & (df['income'] <= 100000), 'income_group_flag'] = 'Middle income'\n",
    "df.loc[df['income'] > 100000, 'income_group_flag'] = 'High income'"
   ]
  },
  {
   "cell_type": "code",
   "execution_count": 7,
   "id": "d5fb3d8e",
   "metadata": {},
   "outputs": [
    {
     "data": {
      "text/plain": [
       "Middle income    13942538\n",
       "High income      13111907\n",
       "Low income        1467194\n",
       "Name: income_group_flag, dtype: int64"
      ]
     },
     "execution_count": 7,
     "metadata": {},
     "output_type": "execute_result"
    }
   ],
   "source": [
    "# income group flag frequency\n",
    "\n",
    "df['income_group_flag'].value_counts()"
   ]
  },
  {
   "cell_type": "markdown",
   "id": "bf16e101",
   "metadata": {},
   "source": [
    "#### Profile: Family Status\n"
   ]
  },
  {
   "cell_type": "code",
   "execution_count": 8,
   "id": "52dbe955",
   "metadata": {},
   "outputs": [],
   "source": [
    "# creating family flag. 1 = family (kids), 0 = not family (no kids)\n",
    "\n",
    "df.loc[df['family_members'] > 0, 'family_flag'] = 'Parent'\n",
    "df.loc[df['family_members'] == 0, 'family_flag'] = 'No Kids'"
   ]
  },
  {
   "cell_type": "code",
   "execution_count": 9,
   "id": "6996621f",
   "metadata": {},
   "outputs": [
    {
     "data": {
      "text/plain": [
       "Parent     21398364\n",
       "No Kids     7123275\n",
       "Name: family_flag, dtype: int64"
      ]
     },
     "execution_count": 9,
     "metadata": {},
     "output_type": "execute_result"
    }
   ],
   "source": [
    "# family group flag frequency\n",
    "\n",
    "df['family_flag'].value_counts()"
   ]
  },
  {
   "cell_type": "markdown",
   "id": "77849267",
   "metadata": {},
   "source": [
    "#### Profile: Departments "
   ]
  },
  {
   "cell_type": "code",
   "execution_count": 10,
   "id": "0f501227",
   "metadata": {},
   "outputs": [],
   "source": [
    "# creating a family_size flag for 'Young Family' (shopping baby products) & having 1-2 kids, 'Big Family' having more than 2 kids and do bulk shopping\n",
    "\n",
    "df.loc[(df['department_id'] == 18) & (df['family_members'] <= 2), 'family_size'] = 'Young Family'\n",
    "df.loc[(df['department_id'] == 10) & (df['family_members'] > 2), 'family_size'] = 'Big Family'"
   ]
  },
  {
   "cell_type": "code",
   "execution_count": 12,
   "id": "2a2f1646",
   "metadata": {},
   "outputs": [
    {
     "data": {
      "text/plain": [
       "Young Family    285653\n",
       "Big Family        7877\n",
       "Name: family_size, dtype: int64"
      ]
     },
     "execution_count": 12,
     "metadata": {},
     "output_type": "execute_result"
    }
   ],
   "source": [
    "df['family_size'].value_counts()"
   ]
  },
  {
   "cell_type": "code",
   "execution_count": 13,
   "id": "f6e1b877",
   "metadata": {},
   "outputs": [],
   "source": [
    "# creating a 'Vegetarian' and 'Meat_eater' flag\n",
    "\n",
    "df.loc[df['department_id'] != 12, 'meat_consumption'] = 'Vegetarian'\n",
    "df.loc[df['department_id'] == 12, 'meat_consumption'] = 'Meat_eater'"
   ]
  },
  {
   "cell_type": "code",
   "execution_count": 14,
   "id": "32e32356",
   "metadata": {},
   "outputs": [
    {
     "data": {
      "text/plain": [
       "Vegetarian    27900647\n",
       "Meat_eater      620992\n",
       "Name: meat_consumption, dtype: int64"
      ]
     },
     "execution_count": 14,
     "metadata": {},
     "output_type": "execute_result"
    }
   ],
   "source": [
    "df['meat_consumption'].value_counts()"
   ]
  },
  {
   "cell_type": "code",
   "execution_count": 15,
   "id": "d247a718",
   "metadata": {},
   "outputs": [],
   "source": [
    "# creating a pet-owner flag\n",
    "\n",
    "df.loc[df['department_id'] == 8, 'pet_owner_status'] = 'Pet-owner'"
   ]
  },
  {
   "cell_type": "code",
   "execution_count": 16,
   "id": "f7eb8321",
   "metadata": {},
   "outputs": [
    {
     "data": {
      "text/plain": [
       "Pet-owner    85256\n",
       "Name: pet_owner_status, dtype: int64"
      ]
     },
     "execution_count": 16,
     "metadata": {},
     "output_type": "execute_result"
    }
   ],
   "source": [
    "df['pet_owner_status'].value_counts()"
   ]
  },
  {
   "cell_type": "code",
   "execution_count": 17,
   "id": "4b7227c6",
   "metadata": {},
   "outputs": [
    {
     "data": {
      "text/html": [
       "<div>\n",
       "<style scoped>\n",
       "    .dataframe tbody tr th:only-of-type {\n",
       "        vertical-align: middle;\n",
       "    }\n",
       "\n",
       "    .dataframe tbody tr th {\n",
       "        vertical-align: top;\n",
       "    }\n",
       "\n",
       "    .dataframe thead th {\n",
       "        text-align: right;\n",
       "    }\n",
       "</style>\n",
       "<table border=\"1\" class=\"dataframe\">\n",
       "  <thead>\n",
       "    <tr style=\"text-align: right;\">\n",
       "      <th></th>\n",
       "      <th>order_id</th>\n",
       "      <th>user_id</th>\n",
       "      <th>order_number</th>\n",
       "      <th>orders_day_of_week</th>\n",
       "      <th>order_hour_of_day</th>\n",
       "      <th>days_since_prior_order</th>\n",
       "      <th>product_id</th>\n",
       "      <th>add_to_cart_order</th>\n",
       "      <th>reordered</th>\n",
       "      <th>product_name</th>\n",
       "      <th>...</th>\n",
       "      <th>income</th>\n",
       "      <th>aisle_id</th>\n",
       "      <th>region</th>\n",
       "      <th>activity_flag</th>\n",
       "      <th>age_group_flag</th>\n",
       "      <th>income_group_flag</th>\n",
       "      <th>family_flag</th>\n",
       "      <th>family_size</th>\n",
       "      <th>meat_consumption</th>\n",
       "      <th>pet_owner_status</th>\n",
       "    </tr>\n",
       "  </thead>\n",
       "  <tbody>\n",
       "    <tr>\n",
       "      <th>0</th>\n",
       "      <td>2539329</td>\n",
       "      <td>1</td>\n",
       "      <td>1</td>\n",
       "      <td>2</td>\n",
       "      <td>8</td>\n",
       "      <td>11</td>\n",
       "      <td>196</td>\n",
       "      <td>1</td>\n",
       "      <td>0</td>\n",
       "      <td>Soda</td>\n",
       "      <td>...</td>\n",
       "      <td>40423</td>\n",
       "      <td>77</td>\n",
       "      <td>South</td>\n",
       "      <td>High Activity</td>\n",
       "      <td>Adult</td>\n",
       "      <td>Middle income</td>\n",
       "      <td>Parent</td>\n",
       "      <td>NaN</td>\n",
       "      <td>Vegetarian</td>\n",
       "      <td>NaN</td>\n",
       "    </tr>\n",
       "    <tr>\n",
       "      <th>1</th>\n",
       "      <td>2398795</td>\n",
       "      <td>1</td>\n",
       "      <td>2</td>\n",
       "      <td>3</td>\n",
       "      <td>7</td>\n",
       "      <td>15</td>\n",
       "      <td>196</td>\n",
       "      <td>1</td>\n",
       "      <td>1</td>\n",
       "      <td>Soda</td>\n",
       "      <td>...</td>\n",
       "      <td>40423</td>\n",
       "      <td>77</td>\n",
       "      <td>South</td>\n",
       "      <td>High Activity</td>\n",
       "      <td>Adult</td>\n",
       "      <td>Middle income</td>\n",
       "      <td>Parent</td>\n",
       "      <td>NaN</td>\n",
       "      <td>Vegetarian</td>\n",
       "      <td>NaN</td>\n",
       "    </tr>\n",
       "    <tr>\n",
       "      <th>2</th>\n",
       "      <td>473747</td>\n",
       "      <td>1</td>\n",
       "      <td>3</td>\n",
       "      <td>3</td>\n",
       "      <td>12</td>\n",
       "      <td>21</td>\n",
       "      <td>196</td>\n",
       "      <td>1</td>\n",
       "      <td>1</td>\n",
       "      <td>Soda</td>\n",
       "      <td>...</td>\n",
       "      <td>40423</td>\n",
       "      <td>77</td>\n",
       "      <td>South</td>\n",
       "      <td>High Activity</td>\n",
       "      <td>Adult</td>\n",
       "      <td>Middle income</td>\n",
       "      <td>Parent</td>\n",
       "      <td>NaN</td>\n",
       "      <td>Vegetarian</td>\n",
       "      <td>NaN</td>\n",
       "    </tr>\n",
       "    <tr>\n",
       "      <th>3</th>\n",
       "      <td>2254736</td>\n",
       "      <td>1</td>\n",
       "      <td>4</td>\n",
       "      <td>4</td>\n",
       "      <td>7</td>\n",
       "      <td>29</td>\n",
       "      <td>196</td>\n",
       "      <td>1</td>\n",
       "      <td>1</td>\n",
       "      <td>Soda</td>\n",
       "      <td>...</td>\n",
       "      <td>40423</td>\n",
       "      <td>77</td>\n",
       "      <td>South</td>\n",
       "      <td>High Activity</td>\n",
       "      <td>Adult</td>\n",
       "      <td>Middle income</td>\n",
       "      <td>Parent</td>\n",
       "      <td>NaN</td>\n",
       "      <td>Vegetarian</td>\n",
       "      <td>NaN</td>\n",
       "    </tr>\n",
       "    <tr>\n",
       "      <th>4</th>\n",
       "      <td>431534</td>\n",
       "      <td>1</td>\n",
       "      <td>5</td>\n",
       "      <td>4</td>\n",
       "      <td>15</td>\n",
       "      <td>28</td>\n",
       "      <td>196</td>\n",
       "      <td>1</td>\n",
       "      <td>1</td>\n",
       "      <td>Soda</td>\n",
       "      <td>...</td>\n",
       "      <td>40423</td>\n",
       "      <td>77</td>\n",
       "      <td>South</td>\n",
       "      <td>High Activity</td>\n",
       "      <td>Adult</td>\n",
       "      <td>Middle income</td>\n",
       "      <td>Parent</td>\n",
       "      <td>NaN</td>\n",
       "      <td>Vegetarian</td>\n",
       "      <td>NaN</td>\n",
       "    </tr>\n",
       "    <tr>\n",
       "      <th>5</th>\n",
       "      <td>3367565</td>\n",
       "      <td>1</td>\n",
       "      <td>6</td>\n",
       "      <td>2</td>\n",
       "      <td>7</td>\n",
       "      <td>19</td>\n",
       "      <td>196</td>\n",
       "      <td>1</td>\n",
       "      <td>1</td>\n",
       "      <td>Soda</td>\n",
       "      <td>...</td>\n",
       "      <td>40423</td>\n",
       "      <td>77</td>\n",
       "      <td>South</td>\n",
       "      <td>High Activity</td>\n",
       "      <td>Adult</td>\n",
       "      <td>Middle income</td>\n",
       "      <td>Parent</td>\n",
       "      <td>NaN</td>\n",
       "      <td>Vegetarian</td>\n",
       "      <td>NaN</td>\n",
       "    </tr>\n",
       "    <tr>\n",
       "      <th>6</th>\n",
       "      <td>550135</td>\n",
       "      <td>1</td>\n",
       "      <td>7</td>\n",
       "      <td>1</td>\n",
       "      <td>9</td>\n",
       "      <td>20</td>\n",
       "      <td>196</td>\n",
       "      <td>1</td>\n",
       "      <td>1</td>\n",
       "      <td>Soda</td>\n",
       "      <td>...</td>\n",
       "      <td>40423</td>\n",
       "      <td>77</td>\n",
       "      <td>South</td>\n",
       "      <td>High Activity</td>\n",
       "      <td>Adult</td>\n",
       "      <td>Middle income</td>\n",
       "      <td>Parent</td>\n",
       "      <td>NaN</td>\n",
       "      <td>Vegetarian</td>\n",
       "      <td>NaN</td>\n",
       "    </tr>\n",
       "    <tr>\n",
       "      <th>7</th>\n",
       "      <td>3108588</td>\n",
       "      <td>1</td>\n",
       "      <td>8</td>\n",
       "      <td>1</td>\n",
       "      <td>14</td>\n",
       "      <td>14</td>\n",
       "      <td>196</td>\n",
       "      <td>2</td>\n",
       "      <td>1</td>\n",
       "      <td>Soda</td>\n",
       "      <td>...</td>\n",
       "      <td>40423</td>\n",
       "      <td>77</td>\n",
       "      <td>South</td>\n",
       "      <td>High Activity</td>\n",
       "      <td>Adult</td>\n",
       "      <td>Middle income</td>\n",
       "      <td>Parent</td>\n",
       "      <td>NaN</td>\n",
       "      <td>Vegetarian</td>\n",
       "      <td>NaN</td>\n",
       "    </tr>\n",
       "    <tr>\n",
       "      <th>8</th>\n",
       "      <td>2295261</td>\n",
       "      <td>1</td>\n",
       "      <td>9</td>\n",
       "      <td>1</td>\n",
       "      <td>16</td>\n",
       "      <td>0</td>\n",
       "      <td>196</td>\n",
       "      <td>4</td>\n",
       "      <td>1</td>\n",
       "      <td>Soda</td>\n",
       "      <td>...</td>\n",
       "      <td>40423</td>\n",
       "      <td>77</td>\n",
       "      <td>South</td>\n",
       "      <td>High Activity</td>\n",
       "      <td>Adult</td>\n",
       "      <td>Middle income</td>\n",
       "      <td>Parent</td>\n",
       "      <td>NaN</td>\n",
       "      <td>Vegetarian</td>\n",
       "      <td>NaN</td>\n",
       "    </tr>\n",
       "    <tr>\n",
       "      <th>9</th>\n",
       "      <td>2550362</td>\n",
       "      <td>1</td>\n",
       "      <td>10</td>\n",
       "      <td>4</td>\n",
       "      <td>8</td>\n",
       "      <td>30</td>\n",
       "      <td>196</td>\n",
       "      <td>1</td>\n",
       "      <td>1</td>\n",
       "      <td>Soda</td>\n",
       "      <td>...</td>\n",
       "      <td>40423</td>\n",
       "      <td>77</td>\n",
       "      <td>South</td>\n",
       "      <td>High Activity</td>\n",
       "      <td>Adult</td>\n",
       "      <td>Middle income</td>\n",
       "      <td>Parent</td>\n",
       "      <td>NaN</td>\n",
       "      <td>Vegetarian</td>\n",
       "      <td>NaN</td>\n",
       "    </tr>\n",
       "  </tbody>\n",
       "</table>\n",
       "<p>10 rows × 40 columns</p>\n",
       "</div>"
      ],
      "text/plain": [
       "   order_id user_id  order_number  orders_day_of_week  order_hour_of_day  \\\n",
       "0   2539329       1             1                   2                  8   \n",
       "1   2398795       1             2                   3                  7   \n",
       "2    473747       1             3                   3                 12   \n",
       "3   2254736       1             4                   4                  7   \n",
       "4    431534       1             5                   4                 15   \n",
       "5   3367565       1             6                   2                  7   \n",
       "6    550135       1             7                   1                  9   \n",
       "7   3108588       1             8                   1                 14   \n",
       "8   2295261       1             9                   1                 16   \n",
       "9   2550362       1            10                   4                  8   \n",
       "\n",
       "   days_since_prior_order  product_id  add_to_cart_order  reordered  \\\n",
       "0                      11         196                  1          0   \n",
       "1                      15         196                  1          1   \n",
       "2                      21         196                  1          1   \n",
       "3                      29         196                  1          1   \n",
       "4                      28         196                  1          1   \n",
       "5                      19         196                  1          1   \n",
       "6                      20         196                  1          1   \n",
       "7                      14         196                  2          1   \n",
       "8                       0         196                  4          1   \n",
       "9                      30         196                  1          1   \n",
       "\n",
       "  product_name  ...  income  aisle_id   region  activity_flag age_group_flag  \\\n",
       "0         Soda  ...   40423         77   South  High Activity          Adult   \n",
       "1         Soda  ...   40423         77   South  High Activity          Adult   \n",
       "2         Soda  ...   40423         77   South  High Activity          Adult   \n",
       "3         Soda  ...   40423         77   South  High Activity          Adult   \n",
       "4         Soda  ...   40423         77   South  High Activity          Adult   \n",
       "5         Soda  ...   40423         77   South  High Activity          Adult   \n",
       "6         Soda  ...   40423         77   South  High Activity          Adult   \n",
       "7         Soda  ...   40423         77   South  High Activity          Adult   \n",
       "8         Soda  ...   40423         77   South  High Activity          Adult   \n",
       "9         Soda  ...   40423         77   South  High Activity          Adult   \n",
       "\n",
       "  income_group_flag family_flag family_size  meat_consumption pet_owner_status  \n",
       "0     Middle income      Parent         NaN        Vegetarian              NaN  \n",
       "1     Middle income      Parent         NaN        Vegetarian              NaN  \n",
       "2     Middle income      Parent         NaN        Vegetarian              NaN  \n",
       "3     Middle income      Parent         NaN        Vegetarian              NaN  \n",
       "4     Middle income      Parent         NaN        Vegetarian              NaN  \n",
       "5     Middle income      Parent         NaN        Vegetarian              NaN  \n",
       "6     Middle income      Parent         NaN        Vegetarian              NaN  \n",
       "7     Middle income      Parent         NaN        Vegetarian              NaN  \n",
       "8     Middle income      Parent         NaN        Vegetarian              NaN  \n",
       "9     Middle income      Parent         NaN        Vegetarian              NaN  \n",
       "\n",
       "[10 rows x 40 columns]"
      ]
     },
     "execution_count": 17,
     "metadata": {},
     "output_type": "execute_result"
    }
   ],
   "source": [
    "df.head(10)\n"
   ]
  },
  {
   "cell_type": "markdown",
   "id": "3d485cd7",
   "metadata": {},
   "source": [
    "## 6. Visualisation of Profiles"
   ]
  },
  {
   "cell_type": "markdown",
   "id": "208becdf",
   "metadata": {},
   "source": [
    "#### Profile: Age Groups "
   ]
  },
  {
   "cell_type": "code",
   "execution_count": 21,
   "id": "712b67f0",
   "metadata": {},
   "outputs": [
    {
     "data": {
      "text/plain": [
       "Text(0, 0.5, 'Amount of people')"
      ]
     },
     "execution_count": 21,
     "metadata": {},
     "output_type": "execute_result"
    },
    {
     "data": {
      "image/png": "[encoded data removed]",
      "text/plain": [
       "<Figure size 504x432 with 1 Axes>"
      ]
     },
     "metadata": {
      "needs_background": "light"
     },
     "output_type": "display_data"
    }
   ],
   "source": [
    "age_group_bar=df['age_group_flag'].value_counts().plot(kind='bar', figsize=(7, 6),color = ['darkgreen', 'green', 'lightgreen'])\n",
    "plt.title(\"Instacart customers grouped by their age\", y=1.02);\n",
    "plt.xlabel(\"Age Group\", labelpad=14)\n",
    "plt.ylabel(\"Amount of people\", labelpad=14)"
   ]
  },
  {
   "cell_type": "code",
   "execution_count": 22,
   "id": "7fdba11e",
   "metadata": {},
   "outputs": [],
   "source": [
    "# Exporting the vizualisation\n",
    "age_group_bar.figure.savefig(os.path.join(path, '04 Analysis','01 Visualizations','age_group_bar_4.10.png'))"
   ]
  },
  {
   "cell_type": "markdown",
   "id": "884bffc2",
   "metadata": {},
   "source": [
    "#### Profile: Income Groups"
   ]
  },
  {
   "cell_type": "code",
   "execution_count": 23,
   "id": "250eef57",
   "metadata": {},
   "outputs": [
    {
     "data": {
      "text/plain": [
       "Text(0, 0.5, 'Amount of people')"
      ]
     },
     "execution_count": 23,
     "metadata": {},
     "output_type": "execute_result"
    },
    {
     "data": {
      "image/png": "[encoded data removed]",
      "text/plain": [
       "<Figure size 432x288 with 1 Axes>"
      ]
     },
     "metadata": {
      "needs_background": "light"
     },
     "output_type": "display_data"
    }
   ],
   "source": [
    "# income bar chart\n",
    "\n",
    "income_group_bar = df['income_group_flag'].value_counts().plot.bar(color = ['darkblue', 'blue', 'lightblue'])\n",
    "plt.title(\"Instacart customers grouped by their income \", y=1.12);\n",
    "plt.xlabel(\"Different categories\", labelpad=14)\n",
    "plt.ylabel(\"Amount of people\", labelpad=14)"
   ]
  },
  {
   "cell_type": "code",
   "execution_count": 24,
   "id": "df5253f8",
   "metadata": {},
   "outputs": [],
   "source": [
    "# Exporting the vizualisation\n",
    "income_group_bar.figure.savefig(os.path.join(path, '04 Analysis','01 Visualizations','income_group_bar_4.10.png'))"
   ]
  },
  {
   "cell_type": "markdown",
   "id": "647cd405",
   "metadata": {},
   "source": [
    "#### Profile: Family Status"
   ]
  },
  {
   "cell_type": "markdown",
   "id": "49052235",
   "metadata": {},
   "source": [
    "##### Having kids / no kids"
   ]
  },
  {
   "cell_type": "code",
   "execution_count": 26,
   "id": "c54957e2",
   "metadata": {},
   "outputs": [
    {
     "data": {
      "image/png": "[encoded data removed]",
      "text/plain": [
       "<Figure size 432x288 with 1 Axes>"
      ]
     },
     "metadata": {},
     "output_type": "display_data"
    }
   ],
   "source": [
    "# having kids pie chart\n",
    "\n",
    "family_kids_pie = df['family_flag'].value_counts().plot.pie(label='', labels=['Parents', 'No Kids'],autopct=('%1.f%%'), colors=['gold','yellow'], textprops={'fontsize': 14})"
   ]
  },
  {
   "cell_type": "code",
   "execution_count": 27,
   "id": "37e10f0f",
   "metadata": {},
   "outputs": [],
   "source": [
    "# Exporting the vizualisation\n",
    "family_kids_pie.figure.savefig(os.path.join(path, '04 Analysis','01 Visualizations','family_kids_pie_4.10.png'))"
   ]
  },
  {
   "cell_type": "markdown",
   "id": "cf00ba4d",
   "metadata": {},
   "source": [
    "#### Profile: Departments "
   ]
  },
  {
   "cell_type": "markdown",
   "id": "199adabb",
   "metadata": {},
   "source": [
    "##### Family Size"
   ]
  },
  {
   "cell_type": "code",
   "execution_count": 30,
   "id": "2564a9a2",
   "metadata": {},
   "outputs": [
    {
     "data": {
      "image/png": "[encoded data removed]",
      "text/plain": [
       "<Figure size 432x288 with 1 Axes>"
      ]
     },
     "metadata": {},
     "output_type": "display_data"
    }
   ],
   "source": [
    "# having kids pie chart\n",
    "\n",
    "Family_size_pie = df['family_size'].value_counts().plot.pie(label='', labels=['Young Family', 'Big Family'],autopct=('%1.f%%'), colors=['darkorange','darkgoldenrod'], textprops={'fontsize': 14})"
   ]
  },
  {
   "cell_type": "code",
   "execution_count": 31,
   "id": "59060b48",
   "metadata": {},
   "outputs": [],
   "source": [
    "# Exporting the vizualisation\n",
    "Family_size_pie.figure.savefig(os.path.join(path, '04 Analysis','01 Visualizations','Family_size_pie_4.10.png'))"
   ]
  },
  {
   "cell_type": "markdown",
   "id": "79849dac",
   "metadata": {},
   "source": [
    "##### Vegie Purchases / Meat Eater"
   ]
  },
  {
   "cell_type": "code",
   "execution_count": 32,
   "id": "bed2a8d7",
   "metadata": {},
   "outputs": [
    {
     "data": {
      "image/png": "[encoded data removed]",
      "text/plain": [
       "<Figure size 432x288 with 1 Axes>"
      ]
     },
     "metadata": {},
     "output_type": "display_data"
    }
   ],
   "source": [
    "# meat consumption and no meat purchases\n",
    "\n",
    "meat_pie = df['meat_consumption'].value_counts().plot.pie(label='', labels=['Vegetarian', 'Meat Eater'],autopct=('%1.f%%'), colors=['plum','darkmagenta'], textprops={'fontsize': 14})\n"
   ]
  },
  {
   "cell_type": "code",
   "execution_count": 33,
   "id": "29332460",
   "metadata": {},
   "outputs": [],
   "source": [
    "# Exporting the vizualisation\n",
    "meat_pie.figure.savefig(os.path.join(path, '04 Analysis','01 Visualizations','meat_pie_4.10.png'))"
   ]
  },
  {
   "cell_type": "code",
   "execution_count": 34,
   "id": "18923754",
   "metadata": {},
   "outputs": [
    {
     "data": {
      "text/plain": [
       "Text(0, 0.5, 'Amount of people')"
      ]
     },
     "execution_count": 34,
     "metadata": {},
     "output_type": "execute_result"
    },
    {
     "data": {
      "image/png": "[encoded data removed]",
      "text/plain": [
       "<Figure size 432x288 with 1 Axes>"
      ]
     },
     "metadata": {
      "needs_background": "light"
     },
     "output_type": "display_data"
    }
   ],
   "source": [
    "# pet owner bar chart\n",
    "\n",
    "pet_owner_pie = df['pet_owner_status'].value_counts().plot.bar(color = ['firebrick'])\n",
    "plt.title(\"Instacard customer who own a pet\", y=1.02);\n",
    "plt.ylabel(\"Amount of people\", labelpad=14)"
   ]
  },
  {
   "cell_type": "code",
   "execution_count": 35,
   "id": "b7f7f048",
   "metadata": {},
   "outputs": [],
   "source": [
    "# Exporting the vizualisation\n",
    "pet_owner_pie.figure.savefig(os.path.join(path, '04 Analysis','01 Visualizations','pet_owner_pie_4.10.png'))"
   ]
  },
  {
   "cell_type": "markdown",
   "id": "7a1ad6a9",
   "metadata": {},
   "source": [
    "## 7. Aggregation / Customer-Profiles"
   ]
  },
  {
   "cell_type": "markdown",
   "id": "6fe97453",
   "metadata": {},
   "source": [
    "Aggregate the max, mean, and min variables on a customer-profile level for usage frequency and expenditure."
   ]
  },
  {
   "cell_type": "code",
   "execution_count": 119,
   "id": "ee5edb23",
   "metadata": {},
   "outputs": [
    {
     "data": {
      "text/html": [
       "<div>\n",
       "<style scoped>\n",
       "    .dataframe tbody tr th:only-of-type {\n",
       "        vertical-align: middle;\n",
       "    }\n",
       "\n",
       "    .dataframe tbody tr th {\n",
       "        vertical-align: top;\n",
       "    }\n",
       "\n",
       "    .dataframe thead tr th {\n",
       "        text-align: left;\n",
       "    }\n",
       "\n",
       "    .dataframe thead tr:last-of-type th {\n",
       "        text-align: right;\n",
       "    }\n",
       "</style>\n",
       "<table border=\"1\" class=\"dataframe\">\n",
       "  <thead>\n",
       "    <tr>\n",
       "      <th></th>\n",
       "      <th colspan=\"3\" halign=\"left\">median_days_since_prior_order</th>\n",
       "    </tr>\n",
       "    <tr>\n",
       "      <th></th>\n",
       "      <th>mean</th>\n",
       "      <th>min</th>\n",
       "      <th>max</th>\n",
       "    </tr>\n",
       "    <tr>\n",
       "      <th>loyalty_flag</th>\n",
       "      <th></th>\n",
       "      <th></th>\n",
       "      <th></th>\n",
       "    </tr>\n",
       "  </thead>\n",
       "  <tbody>\n",
       "    <tr>\n",
       "      <th>Loyal customer</th>\n",
       "      <td>5.239960</td>\n",
       "      <td>0.0</td>\n",
       "      <td>14.0</td>\n",
       "    </tr>\n",
       "    <tr>\n",
       "      <th>New customer</th>\n",
       "      <td>16.464891</td>\n",
       "      <td>0.0</td>\n",
       "      <td>30.0</td>\n",
       "    </tr>\n",
       "    <tr>\n",
       "      <th>Regular customer</th>\n",
       "      <td>10.469952</td>\n",
       "      <td>0.0</td>\n",
       "      <td>30.0</td>\n",
       "    </tr>\n",
       "  </tbody>\n",
       "</table>\n",
       "</div>"
      ],
      "text/plain": [
       "                 median_days_since_prior_order           \n",
       "                                          mean  min   max\n",
       "loyalty_flag                                             \n",
       "Loyal customer                        5.239960  0.0  14.0\n",
       "New customer                         16.464891  0.0  30.0\n",
       "Regular customer                     10.469952  0.0  30.0"
      ]
     },
     "execution_count": 119,
     "metadata": {},
     "output_type": "execute_result"
    }
   ],
   "source": [
    "# loyalty flag and order frequency\n",
    "df.groupby('loyalty_flag').agg({'median_days_since_prior_order': ['mean', 'min', 'max']})"
   ]
  },
  {
   "cell_type": "code",
   "execution_count": 120,
   "id": "0b0fb72f",
   "metadata": {},
   "outputs": [
    {
     "data": {
      "text/html": [
       "<div>\n",
       "<style scoped>\n",
       "    .dataframe tbody tr th:only-of-type {\n",
       "        vertical-align: middle;\n",
       "    }\n",
       "\n",
       "    .dataframe tbody tr th {\n",
       "        vertical-align: top;\n",
       "    }\n",
       "\n",
       "    .dataframe thead tr th {\n",
       "        text-align: left;\n",
       "    }\n",
       "\n",
       "    .dataframe thead tr:last-of-type th {\n",
       "        text-align: right;\n",
       "    }\n",
       "</style>\n",
       "<table border=\"1\" class=\"dataframe\">\n",
       "  <thead>\n",
       "    <tr>\n",
       "      <th></th>\n",
       "      <th colspan=\"3\" halign=\"left\">prices</th>\n",
       "    </tr>\n",
       "    <tr>\n",
       "      <th></th>\n",
       "      <th>mean</th>\n",
       "      <th>min</th>\n",
       "      <th>max</th>\n",
       "    </tr>\n",
       "    <tr>\n",
       "      <th>loyalty_flag</th>\n",
       "      <th></th>\n",
       "      <th></th>\n",
       "      <th></th>\n",
       "    </tr>\n",
       "  </thead>\n",
       "  <tbody>\n",
       "    <tr>\n",
       "      <th>Loyal customer</th>\n",
       "      <td>10.333528</td>\n",
       "      <td>1.0</td>\n",
       "      <td>99999.0</td>\n",
       "    </tr>\n",
       "    <tr>\n",
       "      <th>New customer</th>\n",
       "      <td>13.131149</td>\n",
       "      <td>1.0</td>\n",
       "      <td>99999.0</td>\n",
       "    </tr>\n",
       "    <tr>\n",
       "      <th>Regular customer</th>\n",
       "      <td>12.421761</td>\n",
       "      <td>1.0</td>\n",
       "      <td>99999.0</td>\n",
       "    </tr>\n",
       "  </tbody>\n",
       "</table>\n",
       "</div>"
      ],
      "text/plain": [
       "                     prices              \n",
       "                       mean  min      max\n",
       "loyalty_flag                             \n",
       "Loyal customer    10.333528  1.0  99999.0\n",
       "New customer      13.131149  1.0  99999.0\n",
       "Regular customer  12.421761  1.0  99999.0"
      ]
     },
     "execution_count": 120,
     "metadata": {},
     "output_type": "execute_result"
    }
   ],
   "source": [
    "# loyalty flag and prices\n",
    "df.groupby('loyalty_flag').agg({'prices': ['mean', 'min', 'max']})"
   ]
  },
  {
   "cell_type": "code",
   "execution_count": 36,
   "id": "990ebe27",
   "metadata": {},
   "outputs": [
    {
     "data": {
      "text/html": [
       "<div>\n",
       "<style scoped>\n",
       "    .dataframe tbody tr th:only-of-type {\n",
       "        vertical-align: middle;\n",
       "    }\n",
       "\n",
       "    .dataframe tbody tr th {\n",
       "        vertical-align: top;\n",
       "    }\n",
       "\n",
       "    .dataframe thead tr th {\n",
       "        text-align: left;\n",
       "    }\n",
       "\n",
       "    .dataframe thead tr:last-of-type th {\n",
       "        text-align: right;\n",
       "    }\n",
       "</style>\n",
       "<table border=\"1\" class=\"dataframe\">\n",
       "  <thead>\n",
       "    <tr>\n",
       "      <th></th>\n",
       "      <th colspan=\"3\" halign=\"left\">median_days_since_prior_order</th>\n",
       "    </tr>\n",
       "    <tr>\n",
       "      <th></th>\n",
       "      <th>mean</th>\n",
       "      <th>min</th>\n",
       "      <th>max</th>\n",
       "    </tr>\n",
       "    <tr>\n",
       "      <th>age_group_flag</th>\n",
       "      <th></th>\n",
       "      <th></th>\n",
       "      <th></th>\n",
       "    </tr>\n",
       "  </thead>\n",
       "  <tbody>\n",
       "    <tr>\n",
       "      <th>Adult</th>\n",
       "      <td>9.490116</td>\n",
       "      <td>0.0</td>\n",
       "      <td>30.0</td>\n",
       "    </tr>\n",
       "    <tr>\n",
       "      <th>Senior</th>\n",
       "      <td>9.463958</td>\n",
       "      <td>0.0</td>\n",
       "      <td>30.0</td>\n",
       "    </tr>\n",
       "    <tr>\n",
       "      <th>Young Adult</th>\n",
       "      <td>9.511136</td>\n",
       "      <td>0.0</td>\n",
       "      <td>30.0</td>\n",
       "    </tr>\n",
       "  </tbody>\n",
       "</table>\n",
       "</div>"
      ],
      "text/plain": [
       "               median_days_since_prior_order           \n",
       "                                        mean  min   max\n",
       "age_group_flag                                         \n",
       "Adult                               9.490116  0.0  30.0\n",
       "Senior                              9.463958  0.0  30.0\n",
       "Young Adult                         9.511136  0.0  30.0"
      ]
     },
     "execution_count": 36,
     "metadata": {},
     "output_type": "execute_result"
    }
   ],
   "source": [
    "# age group flag and order frequency \n",
    "df.groupby('age_group_flag').agg({'median_days_since_prior_order': ['mean', 'min', 'max']})"
   ]
  },
  {
   "cell_type": "code",
   "execution_count": 37,
   "id": "86699a98",
   "metadata": {},
   "outputs": [
    {
     "data": {
      "text/html": [
       "<div>\n",
       "<style scoped>\n",
       "    .dataframe tbody tr th:only-of-type {\n",
       "        vertical-align: middle;\n",
       "    }\n",
       "\n",
       "    .dataframe tbody tr th {\n",
       "        vertical-align: top;\n",
       "    }\n",
       "\n",
       "    .dataframe thead tr th {\n",
       "        text-align: left;\n",
       "    }\n",
       "\n",
       "    .dataframe thead tr:last-of-type th {\n",
       "        text-align: right;\n",
       "    }\n",
       "</style>\n",
       "<table border=\"1\" class=\"dataframe\">\n",
       "  <thead>\n",
       "    <tr>\n",
       "      <th></th>\n",
       "      <th colspan=\"3\" halign=\"left\">prices</th>\n",
       "    </tr>\n",
       "    <tr>\n",
       "      <th></th>\n",
       "      <th>mean</th>\n",
       "      <th>min</th>\n",
       "      <th>max</th>\n",
       "    </tr>\n",
       "    <tr>\n",
       "      <th>age_group_flag</th>\n",
       "      <th></th>\n",
       "      <th></th>\n",
       "      <th></th>\n",
       "    </tr>\n",
       "  </thead>\n",
       "  <tbody>\n",
       "    <tr>\n",
       "      <th>Adult</th>\n",
       "      <td>11.876481</td>\n",
       "      <td>1.0</td>\n",
       "      <td>99999.0</td>\n",
       "    </tr>\n",
       "    <tr>\n",
       "      <th>Senior</th>\n",
       "      <td>11.552493</td>\n",
       "      <td>1.0</td>\n",
       "      <td>99999.0</td>\n",
       "    </tr>\n",
       "    <tr>\n",
       "      <th>Young Adult</th>\n",
       "      <td>12.008244</td>\n",
       "      <td>1.0</td>\n",
       "      <td>99999.0</td>\n",
       "    </tr>\n",
       "  </tbody>\n",
       "</table>\n",
       "</div>"
      ],
      "text/plain": [
       "                   prices              \n",
       "                     mean  min      max\n",
       "age_group_flag                         \n",
       "Adult           11.876481  1.0  99999.0\n",
       "Senior          11.552493  1.0  99999.0\n",
       "Young Adult     12.008244  1.0  99999.0"
      ]
     },
     "execution_count": 37,
     "metadata": {},
     "output_type": "execute_result"
    }
   ],
   "source": [
    "# age group flag and expenditure\n",
    "\n",
    "df.groupby('age_group_flag').agg({'prices': ['mean', 'min', 'max']})"
   ]
  },
  {
   "cell_type": "code",
   "execution_count": 38,
   "id": "536e0428",
   "metadata": {},
   "outputs": [
    {
     "data": {
      "text/html": [
       "<div>\n",
       "<style scoped>\n",
       "    .dataframe tbody tr th:only-of-type {\n",
       "        vertical-align: middle;\n",
       "    }\n",
       "\n",
       "    .dataframe tbody tr th {\n",
       "        vertical-align: top;\n",
       "    }\n",
       "\n",
       "    .dataframe thead tr th {\n",
       "        text-align: left;\n",
       "    }\n",
       "\n",
       "    .dataframe thead tr:last-of-type th {\n",
       "        text-align: right;\n",
       "    }\n",
       "</style>\n",
       "<table border=\"1\" class=\"dataframe\">\n",
       "  <thead>\n",
       "    <tr>\n",
       "      <th></th>\n",
       "      <th colspan=\"3\" halign=\"left\">median_days_since_prior_order</th>\n",
       "    </tr>\n",
       "    <tr>\n",
       "      <th></th>\n",
       "      <th>mean</th>\n",
       "      <th>min</th>\n",
       "      <th>max</th>\n",
       "    </tr>\n",
       "    <tr>\n",
       "      <th>income_group_flag</th>\n",
       "      <th></th>\n",
       "      <th></th>\n",
       "      <th></th>\n",
       "    </tr>\n",
       "  </thead>\n",
       "  <tbody>\n",
       "    <tr>\n",
       "      <th>High income</th>\n",
       "      <td>9.422789</td>\n",
       "      <td>0.0</td>\n",
       "      <td>30.0</td>\n",
       "    </tr>\n",
       "    <tr>\n",
       "      <th>Low income</th>\n",
       "      <td>10.104660</td>\n",
       "      <td>0.0</td>\n",
       "      <td>30.0</td>\n",
       "    </tr>\n",
       "    <tr>\n",
       "      <th>Middle income</th>\n",
       "      <td>9.483175</td>\n",
       "      <td>0.0</td>\n",
       "      <td>30.0</td>\n",
       "    </tr>\n",
       "  </tbody>\n",
       "</table>\n",
       "</div>"
      ],
      "text/plain": [
       "                  median_days_since_prior_order           \n",
       "                                           mean  min   max\n",
       "income_group_flag                                         \n",
       "High income                            9.422789  0.0  30.0\n",
       "Low income                            10.104660  0.0  30.0\n",
       "Middle income                          9.483175  0.0  30.0"
      ]
     },
     "execution_count": 38,
     "metadata": {},
     "output_type": "execute_result"
    }
   ],
   "source": [
    "# income group and usage frequency \n",
    "\n",
    "df.groupby('income_group_flag').agg({'median_days_since_prior_order': ['mean', 'min', 'max']})"
   ]
  },
  {
   "cell_type": "code",
   "execution_count": 39,
   "id": "b7560dc7",
   "metadata": {},
   "outputs": [
    {
     "data": {
      "text/html": [
       "<div>\n",
       "<style scoped>\n",
       "    .dataframe tbody tr th:only-of-type {\n",
       "        vertical-align: middle;\n",
       "    }\n",
       "\n",
       "    .dataframe tbody tr th {\n",
       "        vertical-align: top;\n",
       "    }\n",
       "\n",
       "    .dataframe thead tr th {\n",
       "        text-align: left;\n",
       "    }\n",
       "\n",
       "    .dataframe thead tr:last-of-type th {\n",
       "        text-align: right;\n",
       "    }\n",
       "</style>\n",
       "<table border=\"1\" class=\"dataframe\">\n",
       "  <thead>\n",
       "    <tr>\n",
       "      <th></th>\n",
       "      <th colspan=\"3\" halign=\"left\">prices</th>\n",
       "    </tr>\n",
       "    <tr>\n",
       "      <th></th>\n",
       "      <th>mean</th>\n",
       "      <th>min</th>\n",
       "      <th>max</th>\n",
       "    </tr>\n",
       "    <tr>\n",
       "      <th>income_group_flag</th>\n",
       "      <th></th>\n",
       "      <th></th>\n",
       "      <th></th>\n",
       "    </tr>\n",
       "  </thead>\n",
       "  <tbody>\n",
       "    <tr>\n",
       "      <th>High income</th>\n",
       "      <td>16.166072</td>\n",
       "      <td>1.0</td>\n",
       "      <td>99999.0</td>\n",
       "    </tr>\n",
       "    <tr>\n",
       "      <th>Low income</th>\n",
       "      <td>6.505987</td>\n",
       "      <td>1.0</td>\n",
       "      <td>25.0</td>\n",
       "    </tr>\n",
       "    <tr>\n",
       "      <th>Middle income</th>\n",
       "      <td>8.262166</td>\n",
       "      <td>1.0</td>\n",
       "      <td>99999.0</td>\n",
       "    </tr>\n",
       "  </tbody>\n",
       "</table>\n",
       "</div>"
      ],
      "text/plain": [
       "                      prices              \n",
       "                        mean  min      max\n",
       "income_group_flag                         \n",
       "High income        16.166072  1.0  99999.0\n",
       "Low income          6.505987  1.0     25.0\n",
       "Middle income       8.262166  1.0  99999.0"
      ]
     },
     "execution_count": 39,
     "metadata": {},
     "output_type": "execute_result"
    }
   ],
   "source": [
    "# income group and expenditure\n",
    "\n",
    "df.groupby('income_group_flag').agg({'prices': ['mean', 'min', 'max']})"
   ]
  },
  {
   "cell_type": "code",
   "execution_count": 40,
   "id": "e6a7b55c",
   "metadata": {},
   "outputs": [
    {
     "data": {
      "text/html": [
       "<div>\n",
       "<style scoped>\n",
       "    .dataframe tbody tr th:only-of-type {\n",
       "        vertical-align: middle;\n",
       "    }\n",
       "\n",
       "    .dataframe tbody tr th {\n",
       "        vertical-align: top;\n",
       "    }\n",
       "\n",
       "    .dataframe thead tr th {\n",
       "        text-align: left;\n",
       "    }\n",
       "\n",
       "    .dataframe thead tr:last-of-type th {\n",
       "        text-align: right;\n",
       "    }\n",
       "</style>\n",
       "<table border=\"1\" class=\"dataframe\">\n",
       "  <thead>\n",
       "    <tr>\n",
       "      <th></th>\n",
       "      <th colspan=\"3\" halign=\"left\">median_days_since_prior_order</th>\n",
       "    </tr>\n",
       "    <tr>\n",
       "      <th></th>\n",
       "      <th>mean</th>\n",
       "      <th>min</th>\n",
       "      <th>max</th>\n",
       "    </tr>\n",
       "    <tr>\n",
       "      <th>family_flag</th>\n",
       "      <th></th>\n",
       "      <th></th>\n",
       "      <th></th>\n",
       "    </tr>\n",
       "  </thead>\n",
       "  <tbody>\n",
       "    <tr>\n",
       "      <th>No Kids</th>\n",
       "      <td>9.452053</td>\n",
       "      <td>0.0</td>\n",
       "      <td>30.0</td>\n",
       "    </tr>\n",
       "    <tr>\n",
       "      <th>Parent</th>\n",
       "      <td>9.499146</td>\n",
       "      <td>0.0</td>\n",
       "      <td>30.0</td>\n",
       "    </tr>\n",
       "  </tbody>\n",
       "</table>\n",
       "</div>"
      ],
      "text/plain": [
       "            median_days_since_prior_order           \n",
       "                                     mean  min   max\n",
       "family_flag                                         \n",
       "No Kids                          9.452053  0.0  30.0\n",
       "Parent                           9.499146  0.0  30.0"
      ]
     },
     "execution_count": 40,
     "metadata": {},
     "output_type": "execute_result"
    }
   ],
   "source": [
    "# family flag and usage frequency \n",
    "\n",
    "df.groupby('family_flag').agg({'median_days_since_prior_order': ['mean', 'min', 'max']})"
   ]
  },
  {
   "cell_type": "code",
   "execution_count": 41,
   "id": "aa4af8f4",
   "metadata": {},
   "outputs": [
    {
     "data": {
      "text/html": [
       "<div>\n",
       "<style scoped>\n",
       "    .dataframe tbody tr th:only-of-type {\n",
       "        vertical-align: middle;\n",
       "    }\n",
       "\n",
       "    .dataframe tbody tr th {\n",
       "        vertical-align: top;\n",
       "    }\n",
       "\n",
       "    .dataframe thead tr th {\n",
       "        text-align: left;\n",
       "    }\n",
       "\n",
       "    .dataframe thead tr:last-of-type th {\n",
       "        text-align: right;\n",
       "    }\n",
       "</style>\n",
       "<table border=\"1\" class=\"dataframe\">\n",
       "  <thead>\n",
       "    <tr>\n",
       "      <th></th>\n",
       "      <th colspan=\"3\" halign=\"left\">prices</th>\n",
       "    </tr>\n",
       "    <tr>\n",
       "      <th></th>\n",
       "      <th>mean</th>\n",
       "      <th>min</th>\n",
       "      <th>max</th>\n",
       "    </tr>\n",
       "    <tr>\n",
       "      <th>family_flag</th>\n",
       "      <th></th>\n",
       "      <th></th>\n",
       "      <th></th>\n",
       "    </tr>\n",
       "  </thead>\n",
       "  <tbody>\n",
       "    <tr>\n",
       "      <th>No Kids</th>\n",
       "      <td>12.102623</td>\n",
       "      <td>1.0</td>\n",
       "      <td>99999.0</td>\n",
       "    </tr>\n",
       "    <tr>\n",
       "      <th>Parent</th>\n",
       "      <td>11.706448</td>\n",
       "      <td>1.0</td>\n",
       "      <td>99999.0</td>\n",
       "    </tr>\n",
       "  </tbody>\n",
       "</table>\n",
       "</div>"
      ],
      "text/plain": [
       "                prices              \n",
       "                  mean  min      max\n",
       "family_flag                         \n",
       "No Kids      12.102623  1.0  99999.0\n",
       "Parent       11.706448  1.0  99999.0"
      ]
     },
     "execution_count": 41,
     "metadata": {},
     "output_type": "execute_result"
    }
   ],
   "source": [
    "# family flag and expenditure\n",
    "\n",
    "df.groupby('family_flag').agg({'prices': ['mean', 'min', 'max']})"
   ]
  },
  {
   "cell_type": "markdown",
   "id": "33628752",
   "metadata": {},
   "source": [
    "## 8. Comparing Customer Profiles with Regions"
   ]
  },
  {
   "cell_type": "markdown",
   "id": "e2c0bf32",
   "metadata": {},
   "source": [
    "Compare your customer profiles with regions and departments. Can you identify a link between them? Customers may demonstrate different behaviors across regions, which could make this information important."
   ]
  },
  {
   "cell_type": "markdown",
   "id": "c19b2bbe",
   "metadata": {},
   "source": [
    "##### Age and Region"
   ]
  },
  {
   "cell_type": "code",
   "execution_count": 90,
   "id": "51d798e3",
   "metadata": {},
   "outputs": [],
   "source": [
    "# creating crosstab for age group by region\n",
    "age_region_bar = pd.crosstab(df['region'], columns = df['age_group_flag'])"
   ]
  },
  {
   "cell_type": "code",
   "execution_count": 91,
   "id": "70ab0cfd",
   "metadata": {},
   "outputs": [
    {
     "data": {
      "image/png": "[encoded data removed]",
      "text/plain": [
       "<Figure size 864x720 with 1 Axes>"
      ]
     },
     "metadata": {
      "needs_background": "light"
     },
     "output_type": "display_data"
    }
   ],
   "source": [
    "# creating bar chart for age group and region\n",
    "\n",
    "age_region_bar = age_region_bar.plot(kind ='bar', stacked = False, color = ['forestgreen','limegreen','palegreen'], figsize = (12,10))\n",
    "plt.title('Age Groups by Region', fontsize = 16)\n",
    "plt.legend(loc =\"upper center\", ncol = 3)\n",
    "plt.xlabel(\"Region\")\n",
    "plt.show()"
   ]
  },
  {
   "cell_type": "code",
   "execution_count": 45,
   "id": "6170bb66",
   "metadata": {},
   "outputs": [],
   "source": [
    "# Exporting the vizualisation\n",
    "age_region_bar.figure.savefig(os.path.join(path, '04 Analysis','01 Visualizations','age_region_bar_4.10.png'))"
   ]
  },
  {
   "cell_type": "markdown",
   "id": "25e8c6c0",
   "metadata": {},
   "source": [
    "##### Income and Region"
   ]
  },
  {
   "cell_type": "code",
   "execution_count": 117,
   "id": "b15658d4",
   "metadata": {},
   "outputs": [],
   "source": [
    "# creating crosstab for income group by region\n",
    "income_group_region_bar = pd.crosstab(df['region'], columns = df['income_group_flag'])"
   ]
  },
  {
   "cell_type": "code",
   "execution_count": 118,
   "id": "175402a0",
   "metadata": {},
   "outputs": [
    {
     "data": {
      "image/png": "[encoded data removed]",
      "text/plain": [
       "<Figure size 864x720 with 1 Axes>"
      ]
     },
     "metadata": {
      "needs_background": "light"
     },
     "output_type": "display_data"
    }
   ],
   "source": [
    "# creating bar chart for income group and region\n",
    "income_group_region_bar = income_group_region_bar.plot(kind ='bar', stacked = False, color = ['blue','lightblue','darkblue'], figsize = (12,10)),\n",
    "plt.title('Income Groups by Region', fontsize = 16)\n",
    "plt.legend(loc =\"upper center\", ncol = 3)\n",
    "plt.xlabel(\"Region\")\n",
    "plt.show()"
   ]
  },
  {
   "cell_type": "code",
   "execution_count": 110,
   "id": "d09c3404",
   "metadata": {
    "scrolled": true
   },
   "outputs": [
    {
     "ename": "AttributeError",
     "evalue": "'tuple' object has no attribute 'figure'",
     "output_type": "error",
     "traceback": [
      "\u001b[1;31m---------------------------------------------------------------------------\u001b[0m",
      "\u001b[1;31mAttributeError\u001b[0m                            Traceback (most recent call last)",
      "Input \u001b[1;32mIn [110]\u001b[0m, in \u001b[0;36m<cell line: 2>\u001b[1;34m()\u001b[0m\n\u001b[0;32m      1\u001b[0m \u001b[38;5;66;03m# Exporting the vizualisation\u001b[39;00m\n\u001b[1;32m----> 2\u001b[0m \u001b[43mincome_group_region_bar\u001b[49m\u001b[38;5;241;43m.\u001b[39;49m\u001b[43mfigure\u001b[49m\u001b[38;5;241m.\u001b[39msavefig(os\u001b[38;5;241m.\u001b[39mpath\u001b[38;5;241m.\u001b[39mjoin(path,\u001b[38;5;124m'\u001b[39m\u001b[38;5;124m04 Analysis\u001b[39m\u001b[38;5;124m'\u001b[39m,\u001b[38;5;124m'\u001b[39m\u001b[38;5;124m01 Visualizations\u001b[39m\u001b[38;5;124m'\u001b[39m,\u001b[38;5;124m'\u001b[39m\u001b[38;5;124mincome_region_bar_4.10.png\u001b[39m\u001b[38;5;124m'\u001b[39m))\n",
      "\u001b[1;31mAttributeError\u001b[0m: 'tuple' object has no attribute 'figure'"
     ]
    }
   ],
   "source": [
    "# Exporting the vizualisation\n",
    "income_group_region_bar.figure.savefig(os.path.join(path,'04 Analysis','01 Visualizations','income_region_bar_4.10.png'))"
   ]
  },
  {
   "cell_type": "markdown",
   "id": "68cc20f0",
   "metadata": {},
   "source": [
    "##### Profile: Family Status and Region"
   ]
  },
  {
   "cell_type": "code",
   "execution_count": 122,
   "id": "f13b9065",
   "metadata": {},
   "outputs": [],
   "source": [
    "# creating crosstab for family status by region\n",
    "family_status_region_bar = pd.crosstab(df['region'], columns = df['family_flag'])"
   ]
  },
  {
   "cell_type": "code",
   "execution_count": 123,
   "id": "e8346f73",
   "metadata": {},
   "outputs": [
    {
     "data": {
      "image/png": "[encoded data removed]",
      "text/plain": [
       "<Figure size 864x720 with 1 Axes>"
      ]
     },
     "metadata": {
      "needs_background": "light"
     },
     "output_type": "display_data"
    }
   ],
   "source": [
    "# creating bar chart for family status and region\n",
    "family_status_region_bar = family_status_region_bar.plot(kind ='bar', stacked = False, color = ['yellow','gold'], figsize = (12,10))\n",
    "plt.title('Parents vs No Kids by Region', fontsize = 16)\n",
    "plt.legend(loc =\"upper center\", ncol = 2)\n",
    "plt.xlabel(\"Region\")\n",
    "plt.show()"
   ]
  },
  {
   "cell_type": "code",
   "execution_count": 62,
   "id": "7a8dcc9d",
   "metadata": {},
   "outputs": [],
   "source": [
    "# Exporting the vizualisation\n",
    "family_status_region_bar.figure.savefig(os.path.join(path, '04 Analysis','01 Visualizations','family_status_region_bar_4.10.png'))"
   ]
  },
  {
   "cell_type": "markdown",
   "id": "30bf7b8b",
   "metadata": {},
   "source": [
    "##### Family Size"
   ]
  },
  {
   "cell_type": "code",
   "execution_count": 67,
   "id": "ba9f25c1",
   "metadata": {},
   "outputs": [],
   "source": [
    "# creating crosstab for family size by region\n",
    "family_size_region_bar = pd.crosstab(df['region'], columns = df['family_size'])"
   ]
  },
  {
   "cell_type": "code",
   "execution_count": 69,
   "id": "3d99394a",
   "metadata": {},
   "outputs": [
    {
     "data": {
      "image/png": "[encoded data removed]",
      "text/plain": [
       "<Figure size 864x720 with 1 Axes>"
      ]
     },
     "metadata": {
      "needs_background": "light"
     },
     "output_type": "display_data"
    }
   ],
   "source": [
    "# creating bar chart for family size and region\n",
    "family_size_region_bar = family_size_region_bar.plot(kind ='bar', stacked = False, color = ['darkorange','darkgoldenrod'], figsize = (12,10))\n",
    "plt.title('Young Family vs Big Family', fontsize = 16)\n",
    "plt.legend(loc =\"upper center\", ncol = 2)\n",
    "plt.xlabel(\"Region\")\n",
    "plt.show()"
   ]
  },
  {
   "cell_type": "code",
   "execution_count": 70,
   "id": "68aca585",
   "metadata": {},
   "outputs": [],
   "source": [
    "# Exporting the vizualisation\n",
    "family_size_region_bar.figure.savefig(os.path.join(path, '04 Analysis','01 Visualizations','family_size_region_bar_4.10.png'))"
   ]
  },
  {
   "cell_type": "markdown",
   "id": "60928beb",
   "metadata": {},
   "source": [
    "##### Meat Consumption"
   ]
  },
  {
   "cell_type": "code",
   "execution_count": 79,
   "id": "9cd3637f",
   "metadata": {},
   "outputs": [],
   "source": [
    "# creating crosstab for meat purchases by region\n",
    "meat_consumption_region_bar = pd.crosstab(df['region'], columns = df['meat_consumption'])"
   ]
  },
  {
   "cell_type": "code",
   "execution_count": 81,
   "id": "5dfb8bd9",
   "metadata": {},
   "outputs": [
    {
     "data": {
      "image/png": "[encoded data removed]",
      "text/plain": [
       "<Figure size 864x720 with 1 Axes>"
      ]
     },
     "metadata": {
      "needs_background": "light"
     },
     "output_type": "display_data"
    }
   ],
   "source": [
    "# creating bar chart for family size and region\n",
    "meat_consumption_region_bar = meat_consumption_region_bar.plot(kind ='bar', stacked = False, color = ['plum','darkmagenta'], figsize = (12,10))\n",
    "plt.title('Meat purchases vs. Veggie purchases ', fontsize = 16)\n",
    "plt.legend(loc =\"upper center\", ncol = 2)\n",
    "plt.xlabel(\"Region\")\n",
    "plt.show()"
   ]
  },
  {
   "cell_type": "code",
   "execution_count": 95,
   "id": "f220e9a8",
   "metadata": {},
   "outputs": [],
   "source": [
    "# Exporting the vizualisation\n",
    "meat_consumption_region_bar.figure.savefig(os.path.join(path, '04 Analysis','01 Visualizations','meat_consumption_region_bar_4.10.png'))"
   ]
  },
  {
   "cell_type": "markdown",
   "id": "63ed9eae",
   "metadata": {},
   "source": [
    "##### Pet Owner Status"
   ]
  },
  {
   "cell_type": "code",
   "execution_count": 82,
   "id": "3bc8c73f",
   "metadata": {},
   "outputs": [],
   "source": [
    "# creating crosstab for meat purchases by region\n",
    "pet_owner_region_bar = pd.crosstab(df['region'], columns = df['pet_owner_status'])"
   ]
  },
  {
   "cell_type": "code",
   "execution_count": 97,
   "id": "87300dd6",
   "metadata": {},
   "outputs": [
    {
     "data": {
      "image/png": "[encoded data removed]",
      "text/plain": [
       "<Figure size 864x720 with 1 Axes>"
      ]
     },
     "metadata": {
      "needs_background": "light"
     },
     "output_type": "display_data"
    }
   ],
   "source": [
    "# creating bar chart pet owner by region\n",
    "pet_owner_region_bar = pet_owner_region_bar.plot(kind ='bar', stacked = False, color = ['firebrick'], figsize = (12,10))\n",
    "plt.title('Pet Owner by Region ', fontsize = 16)\n",
    "plt.legend(loc =\"upper center\", ncol = 2)\n",
    "plt.xlabel(\"Region\")\n",
    "plt.show()"
   ]
  },
  {
   "cell_type": "code",
   "execution_count": 100,
   "id": "566e7247",
   "metadata": {},
   "outputs": [],
   "source": [
    "# Exporting the vizualisation\n",
    "pet_owner_region_bar.figure.savefig(os.path.join(path, '04 Analysis','01 Visualizations','pet_owner_region_bar_4.10.png'))"
   ]
  },
  {
   "cell_type": "markdown",
   "id": "b7a6664a",
   "metadata": {},
   "source": [
    "##### Overall departments "
   ]
  },
  {
   "cell_type": "code",
   "execution_count": 103,
   "id": "d5b8fd90",
   "metadata": {},
   "outputs": [
    {
     "data": {
      "image/png": "[encoded data removed]",
      "text/plain": [
       "<Figure size 432x288 with 1 Axes>"
      ]
     },
     "metadata": {
      "needs_background": "light"
     },
     "output_type": "display_data"
    }
   ],
   "source": [
    "# creating department bar chart\n",
    "department_bar = df['department_id'].value_counts().plot.bar(color='green')"
   ]
  },
  {
   "cell_type": "code",
   "execution_count": 104,
   "id": "c3785dd7",
   "metadata": {},
   "outputs": [],
   "source": [
    "department_bar.figure.savefig(os.path.join(path, '04 Analysis','01 Visualizations','department_id_bar_4.10.png'))"
   ]
  },
  {
   "cell_type": "markdown",
   "id": "b4d90929",
   "metadata": {},
   "source": [
    "## 9. Illustration of Results"
   ]
  },
  {
   "cell_type": "markdown",
   "id": "c5a495f1",
   "metadata": {},
   "source": [
    "Done in 6, 7 & 8 "
   ]
  },
  {
   "cell_type": "code",
   "execution_count": null,
   "id": "845bb70f",
   "metadata": {},
   "outputs": [],
   "source": []
  },
  {
   "cell_type": "code",
   "execution_count": null,
   "id": "a68e0440",
   "metadata": {},
   "outputs": [],
   "source": []
  }
 ],
 "metadata": {
  "kernelspec": {
   "display_name": "Python 3 (ipykernel)",
   "language": "python",
   "name": "python3"
  },
  "language_info": {
   "codemirror_mode": {
    "name": "ipython",
    "version": 3
   },
   "file_extension": ".py",
   "mimetype": "text/x-python",
   "name": "python",
   "nbconvert_exporter": "python",
   "pygments_lexer": "ipython3",
   "version": "3.9.12"
  }
 },
 "nbformat": 4,
 "nbformat_minor": 5
}
