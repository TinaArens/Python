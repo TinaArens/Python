{
 "cells": [
  {
   "cell_type": "markdown",
   "id": "6a3a410f",
   "metadata": {},
   "source": [
    "# Task 4.2 Importing libraries and Python Data Types"
   ]
  },
  {
   "cell_type": "markdown",
   "id": "aae13032",
   "metadata": {},
   "source": [
    "## 01. Importing libraries"
   ]
  },
  {
   "cell_type": "code",
   "execution_count": 6,
   "id": "30bb1160",
   "metadata": {},
   "outputs": [],
   "source": [
    "#01. Importing libaries\n",
    "import pandas as pd\n",
    "import numpy as np\n",
    "import os"
   ]
  },
  {
   "cell_type": "markdown",
   "id": "4a2ed8fe",
   "metadata": {},
   "source": [
    "## 02. Data Types"
   ]
  },
  {
   "cell_type": "code",
   "execution_count": 21,
   "id": "3b3005b5",
   "metadata": {},
   "outputs": [
    {
     "data": {
      "text/plain": [
       "100"
      ]
     },
     "execution_count": 21,
     "metadata": {},
     "output_type": "execute_result"
    }
   ],
   "source": [
    "50 + 50 "
   ]
  },
  {
   "cell_type": "code",
   "execution_count": 24,
   "id": "474f1137",
   "metadata": {},
   "outputs": [],
   "source": [
    "o = 100"
   ]
  },
  {
   "cell_type": "code",
   "execution_count": 25,
   "id": "4d9ee354",
   "metadata": {},
   "outputs": [
    {
     "name": "stdout",
     "output_type": "stream",
     "text": [
      "100\n"
     ]
    }
   ],
   "source": [
    "print(o)"
   ]
  },
  {
   "cell_type": "code",
   "execution_count": 26,
   "id": "5597c400",
   "metadata": {},
   "outputs": [
    {
     "data": {
      "text/plain": [
       "100"
      ]
     },
     "execution_count": 26,
     "metadata": {},
     "output_type": "execute_result"
    }
   ],
   "source": [
    "20 + 30 + 50"
   ]
  },
  {
   "cell_type": "code",
   "execution_count": 27,
   "id": "f7a4c7e4",
   "metadata": {},
   "outputs": [
    {
     "data": {
      "text/plain": [
       "3.0909090909090904"
      ]
     },
     "execution_count": 27,
     "metadata": {},
     "output_type": "execute_result"
    }
   ],
   "source": [
    "6.8/2.2"
   ]
  },
  {
   "cell_type": "code",
   "execution_count": 30,
   "id": "d3af8a2c",
   "metadata": {},
   "outputs": [],
   "source": [
    "a = 'Hey '\n",
    "u = 'you'"
   ]
  },
  {
   "cell_type": "code",
   "execution_count": 31,
   "id": "70c67cf1",
   "metadata": {},
   "outputs": [
    {
     "data": {
      "text/plain": [
       "'Hey you'"
      ]
     },
     "execution_count": 31,
     "metadata": {},
     "output_type": "execute_result"
    }
   ],
   "source": [
    "a + u"
   ]
  },
  {
   "cell_type": "code",
   "execution_count": 32,
   "id": "cd4d7e1d",
   "metadata": {},
   "outputs": [],
   "source": [
    "o = 'How are you?'"
   ]
  },
  {
   "cell_type": "code",
   "execution_count": 33,
   "id": "a8fbb1aa",
   "metadata": {},
   "outputs": [
    {
     "name": "stdout",
     "output_type": "stream",
     "text": [
      "How are you?\n"
     ]
    }
   ],
   "source": [
    "print(o)"
   ]
  },
  {
   "cell_type": "code",
   "execution_count": 35,
   "id": "a1bb5157",
   "metadata": {},
   "outputs": [],
   "source": [
    "b = 'Python is cool'"
   ]
  },
  {
   "cell_type": "code",
   "execution_count": 38,
   "id": "a6d1c6d1",
   "metadata": {},
   "outputs": [
    {
     "data": {
      "text/plain": [
       "'Python is cool'"
      ]
     },
     "execution_count": 38,
     "metadata": {},
     "output_type": "execute_result"
    }
   ],
   "source": [
    "b"
   ]
  },
  {
   "cell_type": "code",
   "execution_count": 39,
   "id": "b5f69e78",
   "metadata": {},
   "outputs": [],
   "source": [
    "f = 'Aylin'"
   ]
  },
  {
   "cell_type": "code",
   "execution_count": 42,
   "id": "c3cb0a66",
   "metadata": {},
   "outputs": [
    {
     "name": "stdout",
     "output_type": "stream",
     "text": [
      "Hey AylinHey AylinHey AylinHey AylinHey AylinHey AylinHey AylinHey AylinHey AylinHey AylinHey AylinHey AylinHey AylinHey AylinHey AylinHey AylinHey AylinHey AylinHey AylinHey AylinHey AylinHey AylinHey AylinHey AylinHey AylinHey AylinHey AylinHey AylinHey AylinHey AylinHey AylinHey AylinHey AylinHey AylinHey AylinHey AylinHey AylinHey AylinHey AylinHey AylinHey AylinHey AylinHey AylinHey AylinHey AylinHey AylinHey AylinHey AylinHey AylinHey AylinHey AylinHey AylinHey AylinHey AylinHey AylinHey AylinHey AylinHey AylinHey AylinHey AylinHey AylinHey AylinHey AylinHey AylinHey AylinHey AylinHey AylinHey AylinHey AylinHey AylinHey AylinHey AylinHey AylinHey AylinHey AylinHey AylinHey AylinHey AylinHey AylinHey AylinHey AylinHey AylinHey AylinHey AylinHey AylinHey AylinHey AylinHey AylinHey AylinHey AylinHey AylinHey AylinHey AylinHey AylinHey AylinHey AylinHey AylinHey AylinHey AylinHey Aylin\n"
     ]
    }
   ],
   "source": [
    "print((a +f)*100)"
   ]
  },
  {
   "cell_type": "code",
   "execution_count": null,
   "id": "bdf46f94",
   "metadata": {},
   "outputs": [],
   "source": []
  }
 ],
 "metadata": {
  "kernelspec": {
   "display_name": "Python 3 (ipykernel)",
   "language": "python",
   "name": "python3"
  },
  "language_info": {
   "codemirror_mode": {
    "name": "ipython",
    "version": 3
   },
   "file_extension": ".py",
   "mimetype": "text/x-python",
   "name": "python",
   "nbconvert_exporter": "python",
   "pygments_lexer": "ipython3",
   "version": "3.9.12"
  }
 },
 "nbformat": 4,
 "nbformat_minor": 5
}
