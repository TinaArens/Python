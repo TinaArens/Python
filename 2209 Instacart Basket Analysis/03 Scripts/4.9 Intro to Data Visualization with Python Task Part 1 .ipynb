{
 "cells": [
  {
   "cell_type": "markdown",
   "id": "98cb18e6",
   "metadata": {},
   "source": [
    "# 4.9 Intro to Data Visualization with Python Task Part 1 "
   ]
  },
  {
   "cell_type": "markdown",
   "id": "bf340b12",
   "metadata": {},
   "source": [
    "# Contents"
   ]
  },
  {
   "cell_type": "markdown",
   "id": "d5f29ed8",
   "metadata": {},
   "source": [
    "### 1. Importing Libaries and Data"
   ]
  },
  {
   "cell_type": "markdown",
   "id": "b001e9a7",
   "metadata": {},
   "source": [
    "### 2. Renaming columns (Data Wranggling)"
   ]
  },
  {
   "cell_type": "markdown",
   "id": "cfa6bd26",
   "metadata": {},
   "source": [
    "### 3. Data Quality and Consistency Checks "
   ]
  },
  {
   "cell_type": "markdown",
   "id": "30be38b5",
   "metadata": {},
   "source": [
    "### 3.1 Creating a new data frame with only non-missing values"
   ]
  },
  {
   "cell_type": "markdown",
   "id": "f4ab903f",
   "metadata": {},
   "source": [
    "### 3.2 Missing Values and Duplicates"
   ]
  },
  {
   "cell_type": "markdown",
   "id": "1a8e4df8",
   "metadata": {},
   "source": [
    "### 3.3 Checking for mixed-type data"
   ]
  },
  {
   "cell_type": "markdown",
   "id": "eca6904a",
   "metadata": {},
   "source": [
    "# Script"
   ]
  },
  {
   "cell_type": "markdown",
   "id": "ffd59651",
   "metadata": {},
   "source": [
    "### 1. Importing Libaries and Data"
   ]
  },
  {
   "cell_type": "code",
   "execution_count": 1,
   "id": "1107b32d",
   "metadata": {},
   "outputs": [],
   "source": [
    "#import libaries \n",
    "\n",
    "import pandas as pd\n",
    "import numpy as np\n",
    "import os\n",
    "import matplotlib.pyplot as plt\n",
    "import seaborn as sns\n",
    "import scipy"
   ]
  },
  {
   "cell_type": "code",
   "execution_count": 2,
   "id": "ced3b66e",
   "metadata": {},
   "outputs": [],
   "source": [
    "# defining path\n",
    "path = r'C:\\Users\\tinar\\OneDrive\\Dokumente\\00 DATA ANALYST Carrer Foundry\\04 Immersion Course\\4. Python Fundamentals for Data Analysts\\2209 Instacart Basket Analysis'"
   ]
  },
  {
   "cell_type": "code",
   "execution_count": 3,
   "id": "d424628f",
   "metadata": {},
   "outputs": [],
   "source": [
    "# import new customer data set into Jupyter as a new dataframe:\n",
    "customer = pd.read_csv(os.path.join(path, '02 Data', '01 Original Data', 'customers', 'customers.csv'), index_col = False)"
   ]
  },
  {
   "cell_type": "code",
   "execution_count": 9,
   "id": "69317d2b",
   "metadata": {},
   "outputs": [
    {
     "data": {
      "text/html": [
       "<div>\n",
       "<style scoped>\n",
       "    .dataframe tbody tr th:only-of-type {\n",
       "        vertical-align: middle;\n",
       "    }\n",
       "\n",
       "    .dataframe tbody tr th {\n",
       "        vertical-align: top;\n",
       "    }\n",
       "\n",
       "    .dataframe thead th {\n",
       "        text-align: right;\n",
       "    }\n",
       "</style>\n",
       "<table border=\"1\" class=\"dataframe\">\n",
       "  <thead>\n",
       "    <tr style=\"text-align: right;\">\n",
       "      <th></th>\n",
       "      <th>user_id</th>\n",
       "      <th>first_name</th>\n",
       "      <th>Surnam</th>\n",
       "      <th>gender</th>\n",
       "      <th>state</th>\n",
       "      <th>age</th>\n",
       "      <th>date_joined</th>\n",
       "      <th>familiy_members</th>\n",
       "      <th>fam_status</th>\n",
       "      <th>income</th>\n",
       "    </tr>\n",
       "  </thead>\n",
       "  <tbody>\n",
       "    <tr>\n",
       "      <th>0</th>\n",
       "      <td>26711</td>\n",
       "      <td>Deborah</td>\n",
       "      <td>Esquivel</td>\n",
       "      <td>Female</td>\n",
       "      <td>Missouri</td>\n",
       "      <td>48</td>\n",
       "      <td>1/1/2017</td>\n",
       "      <td>3</td>\n",
       "      <td>married</td>\n",
       "      <td>165665</td>\n",
       "    </tr>\n",
       "    <tr>\n",
       "      <th>1</th>\n",
       "      <td>33890</td>\n",
       "      <td>Patricia</td>\n",
       "      <td>Hart</td>\n",
       "      <td>Female</td>\n",
       "      <td>New Mexico</td>\n",
       "      <td>36</td>\n",
       "      <td>1/1/2017</td>\n",
       "      <td>0</td>\n",
       "      <td>single</td>\n",
       "      <td>59285</td>\n",
       "    </tr>\n",
       "    <tr>\n",
       "      <th>2</th>\n",
       "      <td>65803</td>\n",
       "      <td>Kenneth</td>\n",
       "      <td>Farley</td>\n",
       "      <td>Male</td>\n",
       "      <td>Idaho</td>\n",
       "      <td>35</td>\n",
       "      <td>1/1/2017</td>\n",
       "      <td>2</td>\n",
       "      <td>married</td>\n",
       "      <td>99568</td>\n",
       "    </tr>\n",
       "    <tr>\n",
       "      <th>3</th>\n",
       "      <td>125935</td>\n",
       "      <td>Michelle</td>\n",
       "      <td>Hicks</td>\n",
       "      <td>Female</td>\n",
       "      <td>Iowa</td>\n",
       "      <td>40</td>\n",
       "      <td>1/1/2017</td>\n",
       "      <td>0</td>\n",
       "      <td>single</td>\n",
       "      <td>42049</td>\n",
       "    </tr>\n",
       "    <tr>\n",
       "      <th>4</th>\n",
       "      <td>130797</td>\n",
       "      <td>Ann</td>\n",
       "      <td>Gilmore</td>\n",
       "      <td>Female</td>\n",
       "      <td>Maryland</td>\n",
       "      <td>26</td>\n",
       "      <td>1/1/2017</td>\n",
       "      <td>1</td>\n",
       "      <td>married</td>\n",
       "      <td>40374</td>\n",
       "    </tr>\n",
       "  </tbody>\n",
       "</table>\n",
       "</div>"
      ],
      "text/plain": [
       "   user_id first_name    Surnam  gender       state  age date_joined  \\\n",
       "0    26711    Deborah  Esquivel  Female    Missouri   48    1/1/2017   \n",
       "1    33890   Patricia      Hart  Female  New Mexico   36    1/1/2017   \n",
       "2    65803    Kenneth    Farley    Male       Idaho   35    1/1/2017   \n",
       "3   125935   Michelle     Hicks  Female        Iowa   40    1/1/2017   \n",
       "4   130797        Ann   Gilmore  Female    Maryland   26    1/1/2017   \n",
       "\n",
       "   familiy_members fam_status  income  \n",
       "0                3    married  165665  \n",
       "1                0     single   59285  \n",
       "2                2    married   99568  \n",
       "3                0     single   42049  \n",
       "4                1    married   40374  "
      ]
     },
     "execution_count": 9,
     "metadata": {},
     "output_type": "execute_result"
    }
   ],
   "source": [
    "customer.head()"
   ]
  },
  {
   "cell_type": "markdown",
   "id": "6563075a",
   "metadata": {},
   "source": [
    "### 2. Renaming columns (Data Wranggling)"
   ]
  },
  {
   "cell_type": "markdown",
   "id": "2053b38c",
   "metadata": {},
   "source": [
    "### 4. Wrangle the data so that it follows consistent logic; for example, rename columns with illogical names and drop columns that don’t add anything to your analysis."
   ]
  },
  {
   "cell_type": "code",
   "execution_count": 10,
   "id": "b3b80a3a",
   "metadata": {},
   "outputs": [],
   "source": [
    "#renaming columns\n",
    "customer.rename(columns = {'First Name' : 'first_name'}, inplace = True)\n",
    "customer.rename(columns = {'Surnam' : 'last_name'}, inplace = True)\n",
    "customer.rename(columns = {'Gender' : 'gender'}, inplace = True)\n",
    "customer.rename(columns = {'STATE' : 'state'}, inplace = True)\n",
    "customer.rename(columns = {'Age' : 'age'}, inplace = True)\n",
    "customer.rename(columns = {'n_dependants' : 'familiy_members'}, inplace = True)"
   ]
  },
  {
   "cell_type": "code",
   "execution_count": 11,
   "id": "11705f17",
   "metadata": {},
   "outputs": [
    {
     "data": {
      "text/html": [
       "<div>\n",
       "<style scoped>\n",
       "    .dataframe tbody tr th:only-of-type {\n",
       "        vertical-align: middle;\n",
       "    }\n",
       "\n",
       "    .dataframe tbody tr th {\n",
       "        vertical-align: top;\n",
       "    }\n",
       "\n",
       "    .dataframe thead th {\n",
       "        text-align: right;\n",
       "    }\n",
       "</style>\n",
       "<table border=\"1\" class=\"dataframe\">\n",
       "  <thead>\n",
       "    <tr style=\"text-align: right;\">\n",
       "      <th></th>\n",
       "      <th>user_id</th>\n",
       "      <th>first_name</th>\n",
       "      <th>last_name</th>\n",
       "      <th>gender</th>\n",
       "      <th>state</th>\n",
       "      <th>age</th>\n",
       "      <th>date_joined</th>\n",
       "      <th>familiy_members</th>\n",
       "      <th>fam_status</th>\n",
       "      <th>income</th>\n",
       "    </tr>\n",
       "  </thead>\n",
       "  <tbody>\n",
       "    <tr>\n",
       "      <th>0</th>\n",
       "      <td>26711</td>\n",
       "      <td>Deborah</td>\n",
       "      <td>Esquivel</td>\n",
       "      <td>Female</td>\n",
       "      <td>Missouri</td>\n",
       "      <td>48</td>\n",
       "      <td>1/1/2017</td>\n",
       "      <td>3</td>\n",
       "      <td>married</td>\n",
       "      <td>165665</td>\n",
       "    </tr>\n",
       "    <tr>\n",
       "      <th>1</th>\n",
       "      <td>33890</td>\n",
       "      <td>Patricia</td>\n",
       "      <td>Hart</td>\n",
       "      <td>Female</td>\n",
       "      <td>New Mexico</td>\n",
       "      <td>36</td>\n",
       "      <td>1/1/2017</td>\n",
       "      <td>0</td>\n",
       "      <td>single</td>\n",
       "      <td>59285</td>\n",
       "    </tr>\n",
       "    <tr>\n",
       "      <th>2</th>\n",
       "      <td>65803</td>\n",
       "      <td>Kenneth</td>\n",
       "      <td>Farley</td>\n",
       "      <td>Male</td>\n",
       "      <td>Idaho</td>\n",
       "      <td>35</td>\n",
       "      <td>1/1/2017</td>\n",
       "      <td>2</td>\n",
       "      <td>married</td>\n",
       "      <td>99568</td>\n",
       "    </tr>\n",
       "    <tr>\n",
       "      <th>3</th>\n",
       "      <td>125935</td>\n",
       "      <td>Michelle</td>\n",
       "      <td>Hicks</td>\n",
       "      <td>Female</td>\n",
       "      <td>Iowa</td>\n",
       "      <td>40</td>\n",
       "      <td>1/1/2017</td>\n",
       "      <td>0</td>\n",
       "      <td>single</td>\n",
       "      <td>42049</td>\n",
       "    </tr>\n",
       "    <tr>\n",
       "      <th>4</th>\n",
       "      <td>130797</td>\n",
       "      <td>Ann</td>\n",
       "      <td>Gilmore</td>\n",
       "      <td>Female</td>\n",
       "      <td>Maryland</td>\n",
       "      <td>26</td>\n",
       "      <td>1/1/2017</td>\n",
       "      <td>1</td>\n",
       "      <td>married</td>\n",
       "      <td>40374</td>\n",
       "    </tr>\n",
       "  </tbody>\n",
       "</table>\n",
       "</div>"
      ],
      "text/plain": [
       "   user_id first_name last_name  gender       state  age date_joined  \\\n",
       "0    26711    Deborah  Esquivel  Female    Missouri   48    1/1/2017   \n",
       "1    33890   Patricia      Hart  Female  New Mexico   36    1/1/2017   \n",
       "2    65803    Kenneth    Farley    Male       Idaho   35    1/1/2017   \n",
       "3   125935   Michelle     Hicks  Female        Iowa   40    1/1/2017   \n",
       "4   130797        Ann   Gilmore  Female    Maryland   26    1/1/2017   \n",
       "\n",
       "   familiy_members fam_status  income  \n",
       "0                3    married  165665  \n",
       "1                0     single   59285  \n",
       "2                2    married   99568  \n",
       "3                0     single   42049  \n",
       "4                1    married   40374  "
      ]
     },
     "execution_count": 11,
     "metadata": {},
     "output_type": "execute_result"
    }
   ],
   "source": [
    "customer.head()"
   ]
  },
  {
   "cell_type": "markdown",
   "id": "340556b9",
   "metadata": {},
   "source": [
    "### 3. Data Quality and Consistency Checks "
   ]
  },
  {
   "cell_type": "markdown",
   "id": "b77eb162",
   "metadata": {},
   "source": [
    "### 5. Complete the fundamental data quality and consistency checks you’ve learned throughout this Achievement; for example, check for and address missing values and duplicates, and convert any mixed-type data."
   ]
  },
  {
   "cell_type": "markdown",
   "id": "b44ed835",
   "metadata": {},
   "source": [
    "#### Finding Missing Values"
   ]
  },
  {
   "cell_type": "code",
   "execution_count": 12,
   "id": "b350649f",
   "metadata": {},
   "outputs": [
    {
     "data": {
      "text/plain": [
       "user_id                0\n",
       "first_name         11259\n",
       "last_name              0\n",
       "gender                 0\n",
       "state                  0\n",
       "age                    0\n",
       "date_joined            0\n",
       "familiy_members        0\n",
       "fam_status             0\n",
       "income                 0\n",
       "dtype: int64"
      ]
     },
     "execution_count": 12,
     "metadata": {},
     "output_type": "execute_result"
    }
   ],
   "source": [
    "# sum function show how many total missing observations there are / \n",
    "# here the only column with missing values is the \"product_name\" column, and it’s missing 16 values.\n",
    "customer.isnull().sum()"
   ]
  },
  {
   "cell_type": "markdown",
   "id": "f4d18c61",
   "metadata": {},
   "source": [
    "#### There are 11259 missing first names"
   ]
  },
  {
   "cell_type": "code",
   "execution_count": 13,
   "id": "ced0a047",
   "metadata": {},
   "outputs": [
    {
     "data": {
      "text/plain": [
       "(206209, 10)"
      ]
     },
     "execution_count": 13,
     "metadata": {},
     "output_type": "execute_result"
    }
   ],
   "source": [
    "customer.shape #11259 names out of 206209 are missing 0 ca. 5%"
   ]
  },
  {
   "cell_type": "code",
   "execution_count": 14,
   "id": "64408b17",
   "metadata": {},
   "outputs": [],
   "source": [
    "# Create a new variable that acts like a flag based on the missing value\n",
    "# Impute the value with the mean or median of the column (if the variable is numeric).- NO \n",
    "# Remove or filter out the missing data "
   ]
  },
  {
   "cell_type": "code",
   "execution_count": 15,
   "id": "f063dc30",
   "metadata": {},
   "outputs": [],
   "source": [
    "#Even though I think the missing first name is not so important I will create a subset exclusing the missing values"
   ]
  },
  {
   "cell_type": "markdown",
   "id": "26ced451",
   "metadata": {},
   "source": [
    "### Creating a new data frame with only non-missing values"
   ]
  },
  {
   "cell_type": "code",
   "execution_count": 16,
   "id": "e2eaf3a1",
   "metadata": {},
   "outputs": [],
   "source": [
    "customer = customer[customer['first_name'].isnull() == False]"
   ]
  },
  {
   "cell_type": "code",
   "execution_count": 17,
   "id": "cbdd0401",
   "metadata": {},
   "outputs": [
    {
     "data": {
      "text/plain": [
       "user_id            0\n",
       "first_name         0\n",
       "last_name          0\n",
       "gender             0\n",
       "state              0\n",
       "age                0\n",
       "date_joined        0\n",
       "familiy_members    0\n",
       "fam_status         0\n",
       "income             0\n",
       "dtype: int64"
      ]
     },
     "execution_count": 17,
     "metadata": {},
     "output_type": "execute_result"
    }
   ],
   "source": [
    "customer.isnull().sum()"
   ]
  },
  {
   "cell_type": "code",
   "execution_count": null,
   "id": "f81996a6",
   "metadata": {},
   "outputs": [],
   "source": []
  },
  {
   "cell_type": "markdown",
   "id": "d2c7ea4b",
   "metadata": {},
   "source": [
    "### Checking for duplicates "
   ]
  },
  {
   "cell_type": "code",
   "execution_count": 34,
   "id": "45aef50d",
   "metadata": {},
   "outputs": [
    {
     "data": {
      "text/html": [
       "<div>\n",
       "<style scoped>\n",
       "    .dataframe tbody tr th:only-of-type {\n",
       "        vertical-align: middle;\n",
       "    }\n",
       "\n",
       "    .dataframe tbody tr th {\n",
       "        vertical-align: top;\n",
       "    }\n",
       "\n",
       "    .dataframe thead th {\n",
       "        text-align: right;\n",
       "    }\n",
       "</style>\n",
       "<table border=\"1\" class=\"dataframe\">\n",
       "  <thead>\n",
       "    <tr style=\"text-align: right;\">\n",
       "      <th></th>\n",
       "      <th>user_id</th>\n",
       "      <th>first_name</th>\n",
       "      <th>last_name</th>\n",
       "      <th>gender</th>\n",
       "      <th>state</th>\n",
       "      <th>age</th>\n",
       "      <th>date_joined</th>\n",
       "      <th>familiy_members</th>\n",
       "      <th>fam_status</th>\n",
       "      <th>income</th>\n",
       "    </tr>\n",
       "  </thead>\n",
       "  <tbody>\n",
       "  </tbody>\n",
       "</table>\n",
       "</div>"
      ],
      "text/plain": [
       "Empty DataFrame\n",
       "Columns: [user_id, first_name, last_name, gender, state, age, date_joined, familiy_members, fam_status, income]\n",
       "Index: []"
      ]
     },
     "execution_count": 34,
     "metadata": {},
     "output_type": "execute_result"
    }
   ],
   "source": [
    "customer[customer.duplicated()]"
   ]
  },
  {
   "cell_type": "markdown",
   "id": "6b93fb48",
   "metadata": {},
   "source": []
  },
  {
   "cell_type": "markdown",
   "id": "ada06f30",
   "metadata": {},
   "source": [
    "### No duplicates"
   ]
  },
  {
   "cell_type": "markdown",
   "id": "9a320642",
   "metadata": {},
   "source": [
    "### Checking for mixed-type data"
   ]
  },
  {
   "cell_type": "code",
   "execution_count": 20,
   "id": "15f5d456",
   "metadata": {},
   "outputs": [],
   "source": [
    "for col in customer.columns.tolist():\n",
    "  weird = (customer[[col]].applymap(type) != customer[[col]].iloc[0].apply(type)).any(axis = 1)\n",
    "  if len (customer[weird]) > 0:\n",
    "    print (col)"
   ]
  },
  {
   "cell_type": "markdown",
   "id": "d9ef1947",
   "metadata": {},
   "source": []
  },
  {
   "cell_type": "code",
   "execution_count": null,
   "id": "cee85e7a",
   "metadata": {},
   "outputs": [],
   "source": [
    "df = customer.dtypes #view the data type for each column in a dataframe"
   ]
  },
  {
   "cell_type": "code",
   "execution_count": 22,
   "id": "32f7c1b9",
   "metadata": {},
   "outputs": [
    {
     "data": {
      "text/plain": [
       "user_id             int64\n",
       "first_name         object\n",
       "last_name          object\n",
       "gender             object\n",
       "state              object\n",
       "age                 int64\n",
       "date_joined        object\n",
       "familiy_members     int64\n",
       "fam_status         object\n",
       "income              int64\n",
       "dtype: object"
      ]
     },
     "execution_count": 22,
     "metadata": {},
     "output_type": "execute_result"
    }
   ],
   "source": [
    "df"
   ]
  },
  {
   "cell_type": "markdown",
   "id": "881f7b3b",
   "metadata": {},
   "source": [
    "### no mixed-type data"
   ]
  },
  {
   "cell_type": "markdown",
   "id": "0edd720b",
   "metadata": {},
   "source": [
    "### 6. Combine your customer data with the rest of your prepared Instacart data. Tip: Make sure the key columns are of the same data type! Hint: Make sure the key columns are the same data type!"
   ]
  },
  {
   "cell_type": "code",
   "execution_count": 23,
   "id": "9cb816ab",
   "metadata": {},
   "outputs": [],
   "source": [
    "# import of orders_products_merged (prepared instacart data) from 4.8\n",
    "ords_prods_merge = pd.read_pickle(os.path.join(path, '02 Data','02 Prepared Data','orders_products_merged_48.pkl'))"
   ]
  },
  {
   "cell_type": "code",
   "execution_count": 38,
   "id": "5cce6254",
   "metadata": {
    "scrolled": true
   },
   "outputs": [
    {
     "data": {
      "text/plain": [
       "order_id                            int64\n",
       "user_id                            object\n",
       "order_number                        int64\n",
       "order_dow                           int64\n",
       "order_hour_of_day                   int64\n",
       "days_since_prior_order            float64\n",
       "product_id                          int64\n",
       "add_to_cart_order                   int64\n",
       "reordered                           int64\n",
       "product_name                       object\n",
       "aisle_id                            int64\n",
       "department_id                       int64\n",
       "prices                            float64\n",
       "_merge                           category\n",
       "price_range_loc                    object\n",
       "busiest_day                        object\n",
       "busiest_days                       object\n",
       "busiest_time_of_the_day            object\n",
       "max_order                           int64\n",
       "loyalty_flag                       object\n",
       "avg_price                         float64\n",
       "spender_flag                       object\n",
       "median_days_since_prior_order     float64\n",
       "frequency_flag                     object\n",
       "dtype: object"
      ]
     },
     "execution_count": 38,
     "metadata": {},
     "output_type": "execute_result"
    }
   ],
   "source": [
    "ords_prods_merge.dtypes"
   ]
  },
  {
   "cell_type": "markdown",
   "id": "5e81e6f0",
   "metadata": {},
   "source": [
    "### In customer user_id is a integer and in ords_prods user_id is an object "
   ]
  },
  {
   "cell_type": "code",
   "execution_count": 41,
   "id": "ca11a3b1",
   "metadata": {},
   "outputs": [],
   "source": [
    "ords_prods_merge['user_id'] = ords_prods_merge['user_id'].astype('str')"
   ]
  },
  {
   "cell_type": "code",
   "execution_count": 43,
   "id": "ef313b21",
   "metadata": {},
   "outputs": [],
   "source": [
    "customer['user_id'] = customer['user_id'].astype('str')"
   ]
  },
  {
   "cell_type": "code",
   "execution_count": 44,
   "id": "8b131102",
   "metadata": {},
   "outputs": [],
   "source": [
    "ords_prods_custo = ords_prods_merge.merge(customer, on = 'user_id')"
   ]
  },
  {
   "cell_type": "code",
   "execution_count": 45,
   "id": "8c45aa2f",
   "metadata": {},
   "outputs": [
    {
     "data": {
      "text/html": [
       "<div>\n",
       "<style scoped>\n",
       "    .dataframe tbody tr th:only-of-type {\n",
       "        vertical-align: middle;\n",
       "    }\n",
       "\n",
       "    .dataframe tbody tr th {\n",
       "        vertical-align: top;\n",
       "    }\n",
       "\n",
       "    .dataframe thead th {\n",
       "        text-align: right;\n",
       "    }\n",
       "</style>\n",
       "<table border=\"1\" class=\"dataframe\">\n",
       "  <thead>\n",
       "    <tr style=\"text-align: right;\">\n",
       "      <th></th>\n",
       "      <th>order_id</th>\n",
       "      <th>user_id</th>\n",
       "      <th>order_number</th>\n",
       "      <th>order_dow</th>\n",
       "      <th>order_hour_of_day</th>\n",
       "      <th>days_since_prior_order</th>\n",
       "      <th>product_id</th>\n",
       "      <th>add_to_cart_order</th>\n",
       "      <th>reordered</th>\n",
       "      <th>product_name</th>\n",
       "      <th>...</th>\n",
       "      <th>frequency_flag</th>\n",
       "      <th>first_name</th>\n",
       "      <th>last_name</th>\n",
       "      <th>gender</th>\n",
       "      <th>state</th>\n",
       "      <th>age</th>\n",
       "      <th>date_joined</th>\n",
       "      <th>familiy_members</th>\n",
       "      <th>fam_status</th>\n",
       "      <th>income</th>\n",
       "    </tr>\n",
       "  </thead>\n",
       "  <tbody>\n",
       "    <tr>\n",
       "      <th>0</th>\n",
       "      <td>2539329</td>\n",
       "      <td>1</td>\n",
       "      <td>1</td>\n",
       "      <td>2</td>\n",
       "      <td>8</td>\n",
       "      <td>11.11484</td>\n",
       "      <td>196</td>\n",
       "      <td>1</td>\n",
       "      <td>0</td>\n",
       "      <td>Soda</td>\n",
       "      <td>...</td>\n",
       "      <td>Regular customer</td>\n",
       "      <td>Linda</td>\n",
       "      <td>Nguyen</td>\n",
       "      <td>Female</td>\n",
       "      <td>Alabama</td>\n",
       "      <td>31</td>\n",
       "      <td>2/17/2019</td>\n",
       "      <td>3</td>\n",
       "      <td>married</td>\n",
       "      <td>40423</td>\n",
       "    </tr>\n",
       "    <tr>\n",
       "      <th>1</th>\n",
       "      <td>2398795</td>\n",
       "      <td>1</td>\n",
       "      <td>2</td>\n",
       "      <td>3</td>\n",
       "      <td>7</td>\n",
       "      <td>15.00000</td>\n",
       "      <td>196</td>\n",
       "      <td>1</td>\n",
       "      <td>1</td>\n",
       "      <td>Soda</td>\n",
       "      <td>...</td>\n",
       "      <td>Regular customer</td>\n",
       "      <td>Linda</td>\n",
       "      <td>Nguyen</td>\n",
       "      <td>Female</td>\n",
       "      <td>Alabama</td>\n",
       "      <td>31</td>\n",
       "      <td>2/17/2019</td>\n",
       "      <td>3</td>\n",
       "      <td>married</td>\n",
       "      <td>40423</td>\n",
       "    </tr>\n",
       "    <tr>\n",
       "      <th>2</th>\n",
       "      <td>473747</td>\n",
       "      <td>1</td>\n",
       "      <td>3</td>\n",
       "      <td>3</td>\n",
       "      <td>12</td>\n",
       "      <td>21.00000</td>\n",
       "      <td>196</td>\n",
       "      <td>1</td>\n",
       "      <td>1</td>\n",
       "      <td>Soda</td>\n",
       "      <td>...</td>\n",
       "      <td>Regular customer</td>\n",
       "      <td>Linda</td>\n",
       "      <td>Nguyen</td>\n",
       "      <td>Female</td>\n",
       "      <td>Alabama</td>\n",
       "      <td>31</td>\n",
       "      <td>2/17/2019</td>\n",
       "      <td>3</td>\n",
       "      <td>married</td>\n",
       "      <td>40423</td>\n",
       "    </tr>\n",
       "    <tr>\n",
       "      <th>3</th>\n",
       "      <td>2254736</td>\n",
       "      <td>1</td>\n",
       "      <td>4</td>\n",
       "      <td>4</td>\n",
       "      <td>7</td>\n",
       "      <td>29.00000</td>\n",
       "      <td>196</td>\n",
       "      <td>1</td>\n",
       "      <td>1</td>\n",
       "      <td>Soda</td>\n",
       "      <td>...</td>\n",
       "      <td>Regular customer</td>\n",
       "      <td>Linda</td>\n",
       "      <td>Nguyen</td>\n",
       "      <td>Female</td>\n",
       "      <td>Alabama</td>\n",
       "      <td>31</td>\n",
       "      <td>2/17/2019</td>\n",
       "      <td>3</td>\n",
       "      <td>married</td>\n",
       "      <td>40423</td>\n",
       "    </tr>\n",
       "    <tr>\n",
       "      <th>4</th>\n",
       "      <td>431534</td>\n",
       "      <td>1</td>\n",
       "      <td>5</td>\n",
       "      <td>4</td>\n",
       "      <td>15</td>\n",
       "      <td>28.00000</td>\n",
       "      <td>196</td>\n",
       "      <td>1</td>\n",
       "      <td>1</td>\n",
       "      <td>Soda</td>\n",
       "      <td>...</td>\n",
       "      <td>Regular customer</td>\n",
       "      <td>Linda</td>\n",
       "      <td>Nguyen</td>\n",
       "      <td>Female</td>\n",
       "      <td>Alabama</td>\n",
       "      <td>31</td>\n",
       "      <td>2/17/2019</td>\n",
       "      <td>3</td>\n",
       "      <td>married</td>\n",
       "      <td>40423</td>\n",
       "    </tr>\n",
       "  </tbody>\n",
       "</table>\n",
       "<p>5 rows × 33 columns</p>\n",
       "</div>"
      ],
      "text/plain": [
       "   order_id user_id  order_number  order_dow  order_hour_of_day  \\\n",
       "0   2539329       1             1          2                  8   \n",
       "1   2398795       1             2          3                  7   \n",
       "2    473747       1             3          3                 12   \n",
       "3   2254736       1             4          4                  7   \n",
       "4    431534       1             5          4                 15   \n",
       "\n",
       "   days_since_prior_order  product_id  add_to_cart_order  reordered  \\\n",
       "0                11.11484         196                  1          0   \n",
       "1                15.00000         196                  1          1   \n",
       "2                21.00000         196                  1          1   \n",
       "3                29.00000         196                  1          1   \n",
       "4                28.00000         196                  1          1   \n",
       "\n",
       "  product_name  ...    frequency_flag  first_name  last_name  gender    state  \\\n",
       "0         Soda  ...  Regular customer       Linda     Nguyen  Female  Alabama   \n",
       "1         Soda  ...  Regular customer       Linda     Nguyen  Female  Alabama   \n",
       "2         Soda  ...  Regular customer       Linda     Nguyen  Female  Alabama   \n",
       "3         Soda  ...  Regular customer       Linda     Nguyen  Female  Alabama   \n",
       "4         Soda  ...  Regular customer       Linda     Nguyen  Female  Alabama   \n",
       "\n",
       "  age date_joined familiy_members  fam_status income  \n",
       "0  31   2/17/2019               3     married  40423  \n",
       "1  31   2/17/2019               3     married  40423  \n",
       "2  31   2/17/2019               3     married  40423  \n",
       "3  31   2/17/2019               3     married  40423  \n",
       "4  31   2/17/2019               3     married  40423  \n",
       "\n",
       "[5 rows x 33 columns]"
      ]
     },
     "execution_count": 45,
     "metadata": {},
     "output_type": "execute_result"
    }
   ],
   "source": [
    "ords_prods_custo.head()"
   ]
  },
  {
   "cell_type": "code",
   "execution_count": 46,
   "id": "091d52ab",
   "metadata": {},
   "outputs": [],
   "source": [
    "ords_prods_custo.rename(columns = {'order_dow' : 'orders_day_of_week'}, inplace = True)"
   ]
  },
  {
   "cell_type": "code",
   "execution_count": 47,
   "id": "4b1b33b7",
   "metadata": {},
   "outputs": [
    {
     "data": {
      "text/html": [
       "<div>\n",
       "<style scoped>\n",
       "    .dataframe tbody tr th:only-of-type {\n",
       "        vertical-align: middle;\n",
       "    }\n",
       "\n",
       "    .dataframe tbody tr th {\n",
       "        vertical-align: top;\n",
       "    }\n",
       "\n",
       "    .dataframe thead th {\n",
       "        text-align: right;\n",
       "    }\n",
       "</style>\n",
       "<table border=\"1\" class=\"dataframe\">\n",
       "  <thead>\n",
       "    <tr style=\"text-align: right;\">\n",
       "      <th></th>\n",
       "      <th>order_id</th>\n",
       "      <th>user_id</th>\n",
       "      <th>order_number</th>\n",
       "      <th>orders_day_of_week</th>\n",
       "      <th>order_hour_of_day</th>\n",
       "      <th>days_since_prior_order</th>\n",
       "      <th>product_id</th>\n",
       "      <th>add_to_cart_order</th>\n",
       "      <th>reordered</th>\n",
       "      <th>product_name</th>\n",
       "      <th>...</th>\n",
       "      <th>frequency_flag</th>\n",
       "      <th>first_name</th>\n",
       "      <th>last_name</th>\n",
       "      <th>gender</th>\n",
       "      <th>state</th>\n",
       "      <th>age</th>\n",
       "      <th>date_joined</th>\n",
       "      <th>familiy_members</th>\n",
       "      <th>fam_status</th>\n",
       "      <th>income</th>\n",
       "    </tr>\n",
       "  </thead>\n",
       "  <tbody>\n",
       "    <tr>\n",
       "      <th>0</th>\n",
       "      <td>2539329</td>\n",
       "      <td>1</td>\n",
       "      <td>1</td>\n",
       "      <td>2</td>\n",
       "      <td>8</td>\n",
       "      <td>11.11484</td>\n",
       "      <td>196</td>\n",
       "      <td>1</td>\n",
       "      <td>0</td>\n",
       "      <td>Soda</td>\n",
       "      <td>...</td>\n",
       "      <td>Regular customer</td>\n",
       "      <td>Linda</td>\n",
       "      <td>Nguyen</td>\n",
       "      <td>Female</td>\n",
       "      <td>Alabama</td>\n",
       "      <td>31</td>\n",
       "      <td>2/17/2019</td>\n",
       "      <td>3</td>\n",
       "      <td>married</td>\n",
       "      <td>40423</td>\n",
       "    </tr>\n",
       "    <tr>\n",
       "      <th>1</th>\n",
       "      <td>2398795</td>\n",
       "      <td>1</td>\n",
       "      <td>2</td>\n",
       "      <td>3</td>\n",
       "      <td>7</td>\n",
       "      <td>15.00000</td>\n",
       "      <td>196</td>\n",
       "      <td>1</td>\n",
       "      <td>1</td>\n",
       "      <td>Soda</td>\n",
       "      <td>...</td>\n",
       "      <td>Regular customer</td>\n",
       "      <td>Linda</td>\n",
       "      <td>Nguyen</td>\n",
       "      <td>Female</td>\n",
       "      <td>Alabama</td>\n",
       "      <td>31</td>\n",
       "      <td>2/17/2019</td>\n",
       "      <td>3</td>\n",
       "      <td>married</td>\n",
       "      <td>40423</td>\n",
       "    </tr>\n",
       "    <tr>\n",
       "      <th>2</th>\n",
       "      <td>473747</td>\n",
       "      <td>1</td>\n",
       "      <td>3</td>\n",
       "      <td>3</td>\n",
       "      <td>12</td>\n",
       "      <td>21.00000</td>\n",
       "      <td>196</td>\n",
       "      <td>1</td>\n",
       "      <td>1</td>\n",
       "      <td>Soda</td>\n",
       "      <td>...</td>\n",
       "      <td>Regular customer</td>\n",
       "      <td>Linda</td>\n",
       "      <td>Nguyen</td>\n",
       "      <td>Female</td>\n",
       "      <td>Alabama</td>\n",
       "      <td>31</td>\n",
       "      <td>2/17/2019</td>\n",
       "      <td>3</td>\n",
       "      <td>married</td>\n",
       "      <td>40423</td>\n",
       "    </tr>\n",
       "    <tr>\n",
       "      <th>3</th>\n",
       "      <td>2254736</td>\n",
       "      <td>1</td>\n",
       "      <td>4</td>\n",
       "      <td>4</td>\n",
       "      <td>7</td>\n",
       "      <td>29.00000</td>\n",
       "      <td>196</td>\n",
       "      <td>1</td>\n",
       "      <td>1</td>\n",
       "      <td>Soda</td>\n",
       "      <td>...</td>\n",
       "      <td>Regular customer</td>\n",
       "      <td>Linda</td>\n",
       "      <td>Nguyen</td>\n",
       "      <td>Female</td>\n",
       "      <td>Alabama</td>\n",
       "      <td>31</td>\n",
       "      <td>2/17/2019</td>\n",
       "      <td>3</td>\n",
       "      <td>married</td>\n",
       "      <td>40423</td>\n",
       "    </tr>\n",
       "    <tr>\n",
       "      <th>4</th>\n",
       "      <td>431534</td>\n",
       "      <td>1</td>\n",
       "      <td>5</td>\n",
       "      <td>4</td>\n",
       "      <td>15</td>\n",
       "      <td>28.00000</td>\n",
       "      <td>196</td>\n",
       "      <td>1</td>\n",
       "      <td>1</td>\n",
       "      <td>Soda</td>\n",
       "      <td>...</td>\n",
       "      <td>Regular customer</td>\n",
       "      <td>Linda</td>\n",
       "      <td>Nguyen</td>\n",
       "      <td>Female</td>\n",
       "      <td>Alabama</td>\n",
       "      <td>31</td>\n",
       "      <td>2/17/2019</td>\n",
       "      <td>3</td>\n",
       "      <td>married</td>\n",
       "      <td>40423</td>\n",
       "    </tr>\n",
       "  </tbody>\n",
       "</table>\n",
       "<p>5 rows × 33 columns</p>\n",
       "</div>"
      ],
      "text/plain": [
       "   order_id user_id  order_number  orders_day_of_week  order_hour_of_day  \\\n",
       "0   2539329       1             1                   2                  8   \n",
       "1   2398795       1             2                   3                  7   \n",
       "2    473747       1             3                   3                 12   \n",
       "3   2254736       1             4                   4                  7   \n",
       "4    431534       1             5                   4                 15   \n",
       "\n",
       "   days_since_prior_order  product_id  add_to_cart_order  reordered  \\\n",
       "0                11.11484         196                  1          0   \n",
       "1                15.00000         196                  1          1   \n",
       "2                21.00000         196                  1          1   \n",
       "3                29.00000         196                  1          1   \n",
       "4                28.00000         196                  1          1   \n",
       "\n",
       "  product_name  ...    frequency_flag  first_name  last_name  gender    state  \\\n",
       "0         Soda  ...  Regular customer       Linda     Nguyen  Female  Alabama   \n",
       "1         Soda  ...  Regular customer       Linda     Nguyen  Female  Alabama   \n",
       "2         Soda  ...  Regular customer       Linda     Nguyen  Female  Alabama   \n",
       "3         Soda  ...  Regular customer       Linda     Nguyen  Female  Alabama   \n",
       "4         Soda  ...  Regular customer       Linda     Nguyen  Female  Alabama   \n",
       "\n",
       "  age date_joined familiy_members  fam_status income  \n",
       "0  31   2/17/2019               3     married  40423  \n",
       "1  31   2/17/2019               3     married  40423  \n",
       "2  31   2/17/2019               3     married  40423  \n",
       "3  31   2/17/2019               3     married  40423  \n",
       "4  31   2/17/2019               3     married  40423  \n",
       "\n",
       "[5 rows x 33 columns]"
      ]
     },
     "execution_count": 47,
     "metadata": {},
     "output_type": "execute_result"
    }
   ],
   "source": [
    "ords_prods_custo.head()"
   ]
  },
  {
   "cell_type": "code",
   "execution_count": 48,
   "id": "07ae6b45",
   "metadata": {},
   "outputs": [
    {
     "data": {
      "text/plain": [
       "both          30629741\n",
       "left_only            0\n",
       "right_only           0\n",
       "Name: _merge, dtype: int64"
      ]
     },
     "execution_count": 48,
     "metadata": {},
     "output_type": "execute_result"
    }
   ],
   "source": [
    "ords_prods_custo['_merge'].value_counts() #Using the value_counts() function lets you quickly sum up all the values in the “_merge” column, letting you see instantly whether you have a full match or not."
   ]
  },
  {
   "cell_type": "code",
   "execution_count": null,
   "id": "2cf48492",
   "metadata": {},
   "outputs": [],
   "source": [
    "# Export new merged file as pkl\n",
    "ords_prods_custo.to_pickle(os.path.join(path, '02 Data','02 Prepared Data', 'instacart_data_complete.pkl'))"
   ]
  },
  {
   "cell_type": "code",
   "execution_count": null,
   "id": "8a950387",
   "metadata": {},
   "outputs": [],
   "source": []
  }
 ],
 "metadata": {
  "kernelspec": {
   "display_name": "Python 3 (ipykernel)",
   "language": "python",
   "name": "python3"
  },
  "language_info": {
   "codemirror_mode": {
    "name": "ipython",
    "version": 3
   },
   "file_extension": ".py",
   "mimetype": "text/x-python",
   "name": "python",
   "nbconvert_exporter": "python",
   "pygments_lexer": "ipython3",
   "version": "3.9.12"
  }
 },
 "nbformat": 4,
 "nbformat_minor": 5
}
